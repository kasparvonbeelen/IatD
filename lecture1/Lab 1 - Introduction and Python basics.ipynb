{
 "cells": [
  {
   "cell_type": "markdown",
   "metadata": {},
   "source": [
    "\n",
    "-- Many of the materials are gently stolen from the following courses: \n",
    "- **[\"A Python Course for the Humanities\"](https://github.com/fbkarsdorp/python-course)** a course designed by Folgert Karsdorp and Maarten van Gompel\n",
    "- and later modified by Mike Kestemont and Lars Wieneke for the course **[\"Programming for Linguistics and Literature\"](https://github.com/mikekestemont/prog1617)**\n",
    "- **[\"Python for text analysis\"](https://github.com/cltl/python-for-text-analysis)** designed by H.D. van der Vliet and taught at the Vrije Universiteit\n",
    "- **[\"How to Think Like a Computer Scientist\"](http://www.greenteapress.com/thinkpython/thinkCSpy.pdf)** by Allen Downey, Jeffrey Elkner, Chris Meyers"
   ]
  },
  {
   "cell_type": "markdown",
   "metadata": {},
   "source": [
    "# 0.1 Setting up our working environment\n",
    "\n",
    "- Download Anaconda: https://www.anaconda.com/download\n",
    "        Select Platform (Windows, macOS, Linux)\n",
    "        Select the Python 3.6 Version\n",
    "        Follow the installation instructions\n",
    "        \n",
    "- Download the Notebook and data: [make new link]\n",
    "        Go to the folder where you downloaded the data\n",
    "        Unzip the archive\n",
    "        \n",
    "- Open Anaconda Navigator\n",
    "        Launch Jupyter Notebook\n",
    "        This should open a tab in your browser\n",
    "        In your browser, navigate to the location where you cloned/unzipped the material downloaded from Github"
   ]
  },
  {
   "cell_type": "markdown",
   "metadata": {},
   "source": [
    "# 0.2 Today's menu\n",
    "\n",
    "- Setting up our coding environment;\n",
    "- Printing kittens in an X-shape;\n",
    "- Basic terminology: programs, errors, etc.;\n",
    "- Baby Python"
   ]
  },
  {
   "cell_type": "markdown",
   "metadata": {},
   "source": [
    "# 1. Introduction"
   ]
  },
  {
   "cell_type": "markdown",
   "metadata": {},
   "source": [
    "## 1.1 Why Coding? "
   ]
  },
  {
   "cell_type": "markdown",
   "metadata": {},
   "source": [
    "## “\n",
    "Computers and networks finally offer us the ability to **write**. And we do write with them on our websites, blogs, and social networks. But **the underlying capability of the computer era is actually programming**—which almost none of us knows how to do. We simply use the programs that have been made for us, and enter our text in the appropriate box on the screen. We teach kids how to use software to write, but not how to write software. This means they have access to the capabilities given to them by others, but not **the power to determine the value-creating capabilities of these technologies for themselves**. (Rushkoff 2010, 19)\n",
    "## ”"
   ]
  },
  {
   "cell_type": "markdown",
   "metadata": {
    "collapsed": true
   },
   "source": [
    "### Context(s): Why learning to write (code)?\n",
    "  - Computation as **inquiry**.\n",
    "  - Thinking **with** computers.\n",
    "  - Computer is a **workshop** (Custom-made instead of Ready-made.)"
   ]
  },
  {
   "cell_type": "markdown",
   "metadata": {},
   "source": [
    "<html><img src=\"https://www.tate.org.uk/art/images/work/T/T07/T07573_10.jpg\" height=\"300\" width=\"300\">\n",
    "</br>\n",
    "</br>\n",
    "<img src=\"https://upload.wikimedia.org/wikipedia/commons/2/24/%27David%27_by_Michelangelo_JBU0001.JPG\" height=\"400\" width=\"200\">\n",
    "</html>\n",
    "\n"
   ]
  },
  {
   "cell_type": "markdown",
   "metadata": {},
   "source": [
    "Coding is a valuable **practical skill**:\n",
    "    - inside but also outside academia there is a demand for domain specialist who can code\n",
    "    - part of the Information Cultures track\n",
    "  \n",
    "Coding gives insights into **cultural systems**:\n",
    "    - \"For the person who understands code, the whole world reveals itself as a series of decisions made by planners and designers for how the rest of us should live!\"\n",
    "\n",
    "Coding is (supposed to be) **fun**:\n",
    "    - More \"hack\", less \"yack\"! (Ramsay, 2011)"
   ]
  },
  {
   "cell_type": "markdown",
   "metadata": {},
   "source": [
    "## Why Lab sessions?"
   ]
  },
  {
   "cell_type": "markdown",
   "metadata": {},
   "source": [
    "Coding is not a gift but a skill acquired via practice. Coding is not the preserve of computer scientists and developpers. It has value for almost any type of research, **also for the Humanities**. But for historians, linguists, philosophers, media scholars, learning how to make efficient use of computers takes more time; programming may, therefore,  seem a frustrating and pointless exercise at the beginning.\n",
    "\n",
    "** Practice** and **persistence**, here, are the key to success. Similar to learning a natural language, you only get proficient in coding through **exercise** (by doing it). **Code, sleep, repeat,** this is the mantra of this course, which is very hands-on: you will have to write a lot of programming code yourself from the very beginning."
   ]
  },
  {
   "cell_type": "markdown",
   "metadata": {},
   "source": [
    "### Teaching Method: Workshop format\n",
    "- **Theory**: We go through the Notebook together (and complete some short exercises)\n",
    "- **Practice**: DIY - Do it yourself, after going through the Notebook again\n",
    "\n",
    "\n",
    "The theory is only secondary, more important is that you get accustomed to coding."
   ]
  },
  {
   "cell_type": "markdown",
   "metadata": {},
   "source": [
    "# 1.3 Essential Concepts"
   ]
  },
  {
   "cell_type": "markdown",
   "metadata": {},
   "source": [
    "## 1.3.1 What is a programme?\n",
    "\n",
    "A program is a **sequence of instructions** that specifies how to perform a computation. The computation might be something **mathematical**, but it can also be a **symbolic** computation, such as searching and replacing text in a document.\n",
    "\n",
    "... Or simply printing a word.\n"
   ]
  },
  {
   "cell_type": "markdown",
   "metadata": {},
   "source": [
    "### Hands-on? Run your first programme\n",
    "\n",
    "For practising your coding skills, you can use the many **code blocks** in this Notebook, such as the grey cell below. Place your cursor inside the cell and press ``ctrl+enter`` to \"run\" or execute the code. Let's begin right away: run your first little program!\n",
    "\n",
    "### --Exercise--\n",
    "\n",
    "Run the code below"
   ]
  },
  {
   "cell_type": "code",
   "execution_count": null,
   "metadata": {
    "collapsed": true
   },
   "outputs": [],
   "source": [
    "print('Hello, World!')"
   ]
  },
  {
   "cell_type": "markdown",
   "metadata": {},
   "source": [
    "You've just executed your first program!\n",
    "\n",
    "### Questions:\n",
    "- Can you describe what the programme just did?\n",
    "- Can you adapt it to print your own name? (code block below)"
   ]
  },
  {
   "cell_type": "markdown",
   "metadata": {},
   "source": [
    "An answer from [Allison Parrish.](http://rwet.decontextualize.com/schedule/)\n",
    "## “\n",
    "When you're writing a computer program, you're describing to the computer what you want, and then asking **the computer to figure that thing out for you**. Your description of what you want is called an **expression**. The process that the computer uses to turn your expression into whatever that expression means is called **evaluation.**\n",
    "\n",
    "Think of a science fiction movie where a character asks the computer, out loud, \"What's the square root of nine billion?\" or \"How many people older than 50 live in Paris, France?\" Those are examples of expressions. The process that the computer uses to transform those expressions into a response is evaluation.\n",
    "\n",
    "When the process of evaluation is complete, you're left with a single \"value\". Think of it schematically like so:\n",
    "\n",
    "![Expression -> Evaluation -> Value](http://static.decontextualize.com/snaps/expressiondiagram.png)\n",
    "\n",
    "What makes computer programs powerful is that they make it possible to write very **precise and sophisticated expressions.** [...]\n",
    "\n",
    "Unfortunately, computers can't understand and intuit your desires simply from a verbal description. That's why we **need computer programming languages**: to give us a way to write expressions in a way that the computer can understand. Because programming languages are designed to be precise, they can also be persnickety (and frustrating). And every programming language is different. It's tricky, but worth it.\n",
    "## ”"
   ]
  },
  {
   "cell_type": "markdown",
   "metadata": {},
   "source": [
    "### Hands-on? *Make* your first programme\n",
    "#### --Exercise--\n",
    "Can you adjust the previous \"Hello, World\" program to print your name?"
   ]
  },
  {
   "cell_type": "code",
   "execution_count": null,
   "metadata": {
    "collapsed": true
   },
   "outputs": [],
   "source": [
    "# Insert your own code here!\n",
    "# Print your own name ... or whatever you want, and press ctrl + enter"
   ]
  },
  {
   "cell_type": "markdown",
   "metadata": {},
   "source": [
    "Apart from printing **words** to your screen, you can also use Python to do **calculations**. \n",
    "\n",
    "* Use the code block below to calculate (and print) how many minutes there are in one week? (Hint: multiplication is done using the `*` symbol in Python.)"
   ]
  },
  {
   "cell_type": "code",
   "execution_count": null,
   "metadata": {
    "collapsed": true
   },
   "outputs": [],
   "source": [
    "# Insert your own code here!\n",
    "# Use Python as a calculator"
   ]
  },
  {
   "cell_type": "markdown",
   "metadata": {},
   "source": [
    "\n",
    "### Components:\n",
    "\n",
    "Of course, \"real\" programs are more complicated, but in general, they comprise the following components\n",
    "\n",
    "**Input**: Get data from the keyboard, a file, the Web, or some other device.\n",
    "\n",
    "**Output**: Display data on the screen or send data to a file or other device.\n",
    "\n",
    "**Math**: Perform basic mathematical operations like addition and multiplication.\n",
    "\n",
    "**Conditional execution**: Check for certain conditions and execute the appropriate sequence of statements.\n",
    "\n",
    "**Repetition**: Perform some action repeatedly, usually with some variation."
   ]
  },
  {
   "cell_type": "markdown",
   "metadata": {},
   "source": [
    "## -- Exercise --\n",
    "\n",
    "Try to identify the above components in the code below. Run the code to understand with it does. \n",
    "\n",
    "Hint: add you notes by putting a # at the end of each line followed by your comments to describe what happens at each line of code.\n",
    "\n",
    "It should look like:\n",
    "\n",
    "\n",
    "``print('Hello') # this is a print statement``"
   ]
  },
  {
   "cell_type": "code",
   "execution_count": null,
   "metadata": {
    "collapsed": true
   },
   "outputs": [],
   "source": [
    "count = 10\n",
    "\n",
    "if count < 15:\n",
    "    print('🐱'*count)"
   ]
  },
  {
   "cell_type": "markdown",
   "metadata": {},
   "source": [
    "Now we added one line. Can you see the difference? What component did we add here?"
   ]
  },
  {
   "cell_type": "code",
   "execution_count": null,
   "metadata": {
    "collapsed": true
   },
   "outputs": [],
   "source": [
    "count = int(input('How many cats would you like to print? '))\n",
    "\n",
    "if count < 15:\n",
    "    for i in range(1,count):\n",
    "        print('🐱'*i)\n",
    "else:\n",
    "    print('No can do sir.')"
   ]
  },
  {
   "cell_type": "markdown",
   "metadata": {},
   "source": [
    "And now something more difficult..."
   ]
  },
  {
   "cell_type": "code",
   "execution_count": null,
   "metadata": {
    "collapsed": true
   },
   "outputs": [],
   "source": [
    "\n",
    "length = int(input('How many cats do you fancy? '))\n",
    "print('OK, we will print {} cats in X shape!'.format(length))\n",
    "\n",
    "if length > 50:\n",
    "\n",
    "    print(\"Hey, I can not print that many cats! I will stop here...\")\n",
    "\n",
    "else:\n",
    "    series = list(range(length))\n",
    "    total_length = max(series)\n",
    "     \n",
    "    for i in series + series[::-1]:\n",
    "        middle = total_length - i\n",
    "        print(' '*i + '🐱' + ' '*middle +  ' '*(total_length-i)  +'🐱' )"
   ]
  },
  {
   "cell_type": "markdown",
   "metadata": {},
   "source": [
    "## Intermezzo: An algorithm for writing love letters\n",
    "\n",
    "A fun example, the love letter generator.\n",
    "\n",
    "Originally invented by Christopher Strachey, written for the Manchester Mark I in 1952. [Read more here](https://grandtextauto.soe.ucsc.edu/2005/08/01/christopher-strachey-first-digital-artist/).\n",
    "\n",
    "Vocabulary based on [this implementation](https://github.com/gingerbeardman/loveletter/blob/master/index.php).\n",
    "\n",
    "Example borrowed from [\"Reading and Writing Electronic Text\"](Reading and Writing Electronic Text)"
   ]
  },
  {
   "cell_type": "markdown",
   "metadata": {
    "collapsed": true
   },
   "source": [
    "Run the code below..."
   ]
  },
  {
   "cell_type": "code",
   "execution_count": null,
   "metadata": {
    "collapsed": true
   },
   "outputs": [],
   "source": [
    "import random\n",
    "\n",
    "sal_adjs = [ \"Beloved\", \"Darling\", \"Dear\",\"Dearest\",\"Fanciful\", \"Honey\"]\n",
    "\n",
    "sal_nouns = [\"Chickpea\",\"Bear\",\"Dear\", \"Duck\",\"Jewel\",\"Love\",\"Moppet\",\"Sweetheart\"]"
   ]
  },
  {
   "cell_type": "markdown",
   "metadata": {},
   "source": [
    "As you noticed, nothing happened. What we did here was defining variables. We saved lists of words in **variables** with names ``sal_adjs`` and ``sal_nouns``."
   ]
  },
  {
   "cell_type": "markdown",
   "metadata": {},
   "source": [
    "### --Exercise--\n",
    "\n",
    "Run the cell below multiple times. Can you understand how the code works? What happens if we change `sal_adjs` by `sal_nouns`"
   ]
  },
  {
   "cell_type": "code",
   "execution_count": null,
   "metadata": {
    "collapsed": true
   },
   "outputs": [],
   "source": [
    "random.choice(sal_adjs)"
   ]
  },
  {
   "cell_type": "code",
   "execution_count": null,
   "metadata": {
    "collapsed": true
   },
   "outputs": [],
   "source": [
    "# change the variable sal_adj to sal_nouns"
   ]
  },
  {
   "cell_type": "markdown",
   "metadata": {},
   "source": [
    "And this line?"
   ]
  },
  {
   "cell_type": "code",
   "execution_count": null,
   "metadata": {
    "collapsed": true
   },
   "outputs": [],
   "source": [
    "random.choice([ random.choice(sal_adjs) , \" \"])"
   ]
  },
  {
   "cell_type": "markdown",
   "metadata": {},
   "source": [
    "This structure is called **nesting**."
   ]
  },
  {
   "cell_type": "markdown",
   "metadata": {},
   "source": [
    "We can print multiple words on one line and create the heading of a love letter."
   ]
  },
  {
   "cell_type": "code",
   "execution_count": null,
   "metadata": {
    "collapsed": true
   },
   "outputs": [],
   "source": [
    "print(random.choice(sal_adjs),\n",
    "      random.choice(sal_nouns),\n",
    "     \",\")"
   ]
  },
  {
   "cell_type": "markdown",
   "metadata": {},
   "source": [
    "Now let's generate one line of a love letter. We first have to add some words categories."
   ]
  },
  {
   "cell_type": "code",
   "execution_count": null,
   "metadata": {
    "collapsed": true
   },
   "outputs": [],
   "source": [
    "adjs = [ 'affectionate', 'amorous', 'anxious', 'avid', 'beautiful', 'breathless', \n",
    "        'burning', 'covetous', 'craving', 'curious', 'eager', 'fervent', 'fondest', \n",
    "        'loveable', 'lovesick', 'loving', 'passionate', 'precious', 'seductive', \n",
    "        'sweet', 'sympathetic', 'tender', 'unsatisfied', 'winning', 'wistful']\n",
    "\n",
    "nouns = [ 'adoration', 'affection', 'ambition', 'appetite', 'ardour', 'being', \n",
    "         'burning', 'charm', 'craving', 'desire', 'devotion', 'eagerness',\n",
    "         'enchantment', 'enthusiasm', 'fancy', 'fellow feeling', 'fervour', \n",
    "         'fondness', 'heart', 'hunger', 'infatuation', 'little liking', \n",
    "         'longing', 'love', 'lust', 'passion', 'rapture', 'sympathy',\n",
    "         'thirst', 'wish', 'yearning' ]\n",
    "\n",
    "advs = ['affectionately', 'ardently', 'anxiously', 'beautifully', 'burningly',\n",
    "        'covetously', 'curiously', 'eagerly', 'fervently', 'fondly', 'impatiently',\n",
    "        'keenly', 'lovingly', 'passionately', 'seductively', 'tenderly', 'wistfully']\n",
    "\n",
    "verbs = ['adores','attracts','clings to', 'holds dear', 'hopes for', 'hungers for', \n",
    "         'likes', 'longs for', 'loves', 'lusts after', 'pants for', 'pines for', \n",
    "         'sighs for', 'tempts', 'thirsts for', 'treasures', 'yearns for', 'woos']"
   ]
  },
  {
   "cell_type": "markdown",
   "metadata": {},
   "source": [
    "Re-run the cell below, and it should create sentences adhering to the pattern:\n",
    "\n",
    "``My + adjective + noun + adv + verb + your + adjective + noun``"
   ]
  },
  {
   "cell_type": "code",
   "execution_count": null,
   "metadata": {
    "collapsed": true
   },
   "outputs": [],
   "source": [
    "print(\"My\",\n",
    "      random.choice([random.choice(adjs), \"\"]),\n",
    "      random.choice(nouns),\n",
    "      random.choice([random.choice(advs), \"\"]),\n",
    "      random.choice(verbs),\n",
    "      \"your\",\n",
    "      random.choice([random.choice(adjs), \"\"]),\n",
    "      random.choice(nouns))"
   ]
  },
  {
   "cell_type": "markdown",
   "metadata": {},
   "source": [
    "### --Exercise--\n",
    "\n",
    "Can you adapt the pattern to generate other sentences? \n",
    "\n",
    "If you are not very inspired try:\n",
    "``My soul adverb verb your adjective noun``"
   ]
  },
  {
   "cell_type": "code",
   "execution_count": null,
   "metadata": {
    "collapsed": true
   },
   "outputs": [],
   "source": [
    "# you can copy paste the previous cell here"
   ]
  },
  {
   "cell_type": "markdown",
   "metadata": {},
   "source": [
    "Now we can print a love letter of 100 lines. \n",
    "\n",
    "``Go to Kernel -> Interrupt`` to make it stop if you feel nauseous!"
   ]
  },
  {
   "cell_type": "code",
   "execution_count": null,
   "metadata": {
    "collapsed": true
   },
   "outputs": [],
   "source": [
    "import time\n",
    "for _ in range(0,100):\n",
    "    \n",
    "    print(\"My\",\n",
    "      random.choice([random.choice(adjs), \"\"]),\n",
    "      random.choice(nouns),\n",
    "      random.choice([random.choice(advs), \"\"]),\n",
    "      random.choice(verbs),\n",
    "      \"your\",\n",
    "      random.choice([random.choice(adjs), \"\"]),\n",
    "      random.choice(nouns),\n",
    "      \".\")\n",
    "    \n",
    "    time.sleep(1)\n",
    "    \n",
    "    print(\"Your\",\n",
    "      random.choice(nouns),\n",
    "      random.choice([random.choice(advs), \"\"]),\n",
    "      random.choice(verbs),\n",
    "      \"my\",\n",
    "      random.choice([random.choice(adjs), \"\"]),\n",
    "      random.choice(nouns),\n",
    "      \".\")\n",
    "    \n",
    "    time.sleep(1)"
   ]
  },
  {
   "cell_type": "markdown",
   "metadata": {},
   "source": [
    "## 1.3.2 Programming Languages as Formal Languages\n",
    "\n",
    "From [\"Think Python\"](http://greenteapress.com/thinkpython2/thinkpython2.pdf):\n",
    "\n",
    "- Formal languages are languages that are designed by people for specific applications. \n",
    "- Programming languages are formal languages that have been designed to express computations.\n",
    "- Formal languages tend to have strict syntax rules that govern the structure of statements.\n",
    "- Syntax rules come in two flavors, pertaining to tokens and structure. "
   ]
  },
  {
   "cell_type": "markdown",
   "metadata": {},
   "source": [
    "## 1.3.3 Python\n",
    "\n",
    "\n",
    "#### **What** is Python?\n",
    "\n",
    "[From Wikipedia](https://en.wikipedia.org/wiki/Python_(programming_language): Python is a widely used **high-level** programming language for **general-purpose** programming.\n",
    "- ** high-level programming language**: In computer science, a high-level programming language is a programming language with **strong abstraction from the details of the computer**. In comparison to low-level programming languages, it may use **natural language elements**, be easier to use, or may **automate** (or even **hide** entirely) significant areas of computing systems (e.g. memory management), making the process of developing a program simpler and more understandable relative to a lower-level language. The amount of **abstraction** provided defines how \"high-level\" a programming language is.\n",
    "\n",
    "\n",
    "#### **Why** Python?\n",
    "\n",
    "In general, Python is **easier to learn and to read**. The first example in this Notebook (`print('Hello, World.')`) illustrates this point. The C++ version of the \"Hello World\" program would look like this:\n",
    "\n",
    "C++ code below:\n",
    "``\n",
    "#include <iostream.h>\n",
    "\n",
    "void main()\n",
    "\n",
    "{\n",
    "    \n",
    "    cout << \"Hello, world.\" << endl;\n",
    "\n",
    "}\n",
    "\n",
    "``\n",
    "\n",
    "End of C++ code.\n",
    "\n",
    "while in Python version it simply was:\n",
    "\n",
    "``\n",
    "print(\"Hello, world.\")\n",
    "``\n",
    "\n",
    "So, why **Python**:\n",
    "\n",
    "- Software **Quality**: Python code is designed to be **readable**, and hence reusable and maintainable. \n",
    "- Developer **Productivity**: Python code is typically one-third to one-fifth the size of C++ or Java code. \n",
    "- **Portability**: Python code runs unchanged on all major computer platforms (Windows, Linux, MacOS). \n",
    "- **General-purpose**: data analysis, web development etc.\n",
    "- **Support Libraries**: Standard, homegrown and third-party libraries.\n",
    "- **Widely used by the academic and scientific community!**"
   ]
  },
  {
   "cell_type": "markdown",
   "metadata": {},
   "source": [
    "## Before we start, something about versions\n",
    "## Python 2.7 or 3.x?"
   ]
  },
  {
   "cell_type": "code",
   "execution_count": 3,
   "metadata": {},
   "outputs": [
    {
     "ename": "SyntaxError",
     "evalue": "Missing parentheses in call to 'print'. Did you mean print(\"Hello, World.\")? (<ipython-input-3-d32f1be02c1c>, line 3)",
     "output_type": "error",
     "traceback": [
      "\u001b[0;36m  File \u001b[0;32m\"<ipython-input-3-d32f1be02c1c>\"\u001b[0;36m, line \u001b[0;32m3\u001b[0m\n\u001b[0;31m    print \"Hello, World.\"\u001b[0m\n\u001b[0m                        ^\u001b[0m\n\u001b[0;31mSyntaxError\u001b[0m\u001b[0;31m:\u001b[0m Missing parentheses in call to 'print'. Did you mean print(\"Hello, World.\")?\n"
     ]
    }
   ],
   "source": [
    "# Check version by making Python crash hard.\n",
    "# This press ctrl+enter; this should raise a SyntaxError\n",
    "print \"Hello, World.\""
   ]
  },
  {
   "cell_type": "markdown",
   "metadata": {},
   "source": [
    "Ooops... The was not what you expected, right?"
   ]
  },
  {
   "cell_type": "markdown",
   "metadata": {},
   "source": [
    "## 1.3.4 Errors and Debugging (where it starts to become annoying)\n",
    "\n",
    "Programming is a complex process, and because it is done by human beings, it often leads to errors. For whimsical reasons, programming errors are called  bugs and the process of tracking them down and correcting them is called\n",
    "debugging.\n",
    "Three kinds of errors can occur in a program: \n",
    "\n",
    "- **Syntax errors**: Python can only execute a program if the program is syntactically correct; otherwise, the process fails and returns an error message. Syntax refers to the **structure** of a program and the **rules about that structure**.\n",
    "- **Runtime errors**: the error does not appear until you run the program. These errors are also called **exceptions** because they usually indicate that something exceptional (and bad) has happened.\n",
    "- **Semantic errors**: If there is a semantic error in your program, it will run successfully, in the sense that the computer will not generate any error messages, but it will not do the right thing. It will do something else. Specifically, it will do what you told it to do. The problem is that the program you wrote is not the program you wanted to write. **The meaning of the program (its semantics) is wrong**."
   ]
  },
  {
   "cell_type": "markdown",
   "metadata": {},
   "source": [
    "### --Exercise--\n",
    "Run the code below, try to understand what happens in each cell, and determine the type of error (if there is any)."
   ]
  },
  {
   "cell_type": "code",
   "execution_count": 4,
   "metadata": {},
   "outputs": [
    {
     "name": "stdout",
     "output_type": "stream",
     "text": [
      "         \n",
      "        🐱\n",
      "       🐱🐱\n",
      "      🐱🐱🐱\n",
      "     🐱🐱🐱🐱\n",
      "    🐱🐱🐱🐱🐱\n",
      "   🐱🐱🐱🐱🐱🐱\n",
      "  🐱🐱🐱🐱🐱🐱🐱\n",
      " 🐱🐱🐱🐱🐱🐱🐱🐱\n",
      "🐱🐱🐱🐱🐱🐱🐱🐱🐱\n"
     ]
    }
   ],
   "source": [
    "cat = \"🐱\"\n",
    "size = 10\n",
    "\n",
    "for i in range(size): \n",
    "    print((max(range(size))-i)*' '+cat*i)"
   ]
  },
  {
   "cell_type": "code",
   "execution_count": 5,
   "metadata": {},
   "outputs": [
    {
     "name": "stdout",
     "output_type": "stream",
     "text": [
      "🐶\n"
     ]
    }
   ],
   "source": [
    "def print_cat():\n",
    "    print(\"🐶\")\n",
    "    \n",
    "print_cat()"
   ]
  },
  {
   "cell_type": "code",
   "execution_count": 6,
   "metadata": {},
   "outputs": [
    {
     "name": "stdout",
     "output_type": "stream",
     "text": [
      "Let's print some cats!\n"
     ]
    },
    {
     "ename": "TypeError",
     "evalue": "'str' object cannot be interpreted as an integer",
     "output_type": "error",
     "traceback": [
      "\u001b[0;31m---------------------------------------------------------------------------\u001b[0m",
      "\u001b[0;31mTypeError\u001b[0m                                 Traceback (most recent call last)",
      "\u001b[0;32m<ipython-input-6-09f837745717>\u001b[0m in \u001b[0;36m<module>\u001b[0;34m()\u001b[0m\n\u001b[1;32m      2\u001b[0m \u001b[0msize\u001b[0m \u001b[0;34m=\u001b[0m \u001b[0;34m\"🐱\"\u001b[0m\u001b[0;34m\u001b[0m\u001b[0m\n\u001b[1;32m      3\u001b[0m \u001b[0mprint\u001b[0m\u001b[0;34m(\u001b[0m\u001b[0;34m\"Let's print some cats!\"\u001b[0m\u001b[0;34m)\u001b[0m\u001b[0;34m\u001b[0m\u001b[0m\n\u001b[0;32m----> 4\u001b[0;31m \u001b[0;32mfor\u001b[0m \u001b[0mi\u001b[0m \u001b[0;32min\u001b[0m \u001b[0mrange\u001b[0m\u001b[0;34m(\u001b[0m\u001b[0msize\u001b[0m\u001b[0;34m)\u001b[0m\u001b[0;34m:\u001b[0m\u001b[0;34m\u001b[0m\u001b[0m\n\u001b[0m\u001b[1;32m      5\u001b[0m     \u001b[0mprint\u001b[0m\u001b[0;34m(\u001b[0m\u001b[0;34m(\u001b[0m\u001b[0mmax\u001b[0m\u001b[0;34m(\u001b[0m\u001b[0mrange\u001b[0m\u001b[0;34m(\u001b[0m\u001b[0msize\u001b[0m\u001b[0;34m)\u001b[0m\u001b[0;34m)\u001b[0m\u001b[0;34m-\u001b[0m\u001b[0mi\u001b[0m\u001b[0;34m)\u001b[0m\u001b[0;34m*\u001b[0m\u001b[0;34m' '\u001b[0m\u001b[0;34m+\u001b[0m\u001b[0mcat\u001b[0m\u001b[0;34m*\u001b[0m\u001b[0mi\u001b[0m\u001b[0;34m)\u001b[0m\u001b[0;34m\u001b[0m\u001b[0m\n",
      "\u001b[0;31mTypeError\u001b[0m: 'str' object cannot be interpreted as an integer"
     ]
    }
   ],
   "source": [
    "cat = 20\n",
    "size = \"🐱\" \n",
    "print(\"Let's print some cats!\")\n",
    "for i in range(size): \n",
    "    print((max(range(size))-i)*' '+cat*i)"
   ]
  },
  {
   "cell_type": "code",
   "execution_count": null,
   "metadata": {
    "collapsed": true
   },
   "outputs": [],
   "source": [
    "cat =  \"🐱\"\n",
    "size = 20 \n",
    "print(\"Let's print some cats!\")\n",
    "for i range(size): \n",
    "    print((max(range(size))-i)*' '+cat*i)"
   ]
  },
  {
   "cell_type": "code",
   "execution_count": 7,
   "metadata": {},
   "outputs": [
    {
     "name": "stdout",
     "output_type": "stream",
     "text": [
      "33.333333333333336\n",
      "50.0\n",
      "100.0\n"
     ]
    },
    {
     "ename": "ZeroDivisionError",
     "evalue": "division by zero",
     "output_type": "error",
     "traceback": [
      "\u001b[0;31m---------------------------------------------------------------------------\u001b[0m",
      "\u001b[0;31mZeroDivisionError\u001b[0m                         Traceback (most recent call last)",
      "\u001b[0;32m<ipython-input-7-815195c24a12>\u001b[0m in \u001b[0;36m<module>\u001b[0;34m()\u001b[0m\n\u001b[1;32m      1\u001b[0m \u001b[0;32mfor\u001b[0m \u001b[0mi\u001b[0m \u001b[0;32min\u001b[0m \u001b[0;34m[\u001b[0m\u001b[0;36m3\u001b[0m\u001b[0;34m,\u001b[0m\u001b[0;36m2\u001b[0m\u001b[0;34m,\u001b[0m\u001b[0;36m1\u001b[0m\u001b[0;34m,\u001b[0m\u001b[0;36m0\u001b[0m\u001b[0;34m]\u001b[0m\u001b[0;34m:\u001b[0m\u001b[0;34m\u001b[0m\u001b[0m\n\u001b[0;32m----> 2\u001b[0;31m     \u001b[0mprint\u001b[0m\u001b[0;34m(\u001b[0m\u001b[0;36m100\u001b[0m\u001b[0;34m/\u001b[0m\u001b[0mi\u001b[0m\u001b[0;34m)\u001b[0m\u001b[0;34m\u001b[0m\u001b[0m\n\u001b[0m",
      "\u001b[0;31mZeroDivisionError\u001b[0m: division by zero"
     ]
    }
   ],
   "source": [
    "for i in [3,2,1,0]:\n",
    "    print(100/i)"
   ]
  },
  {
   "cell_type": "code",
   "execution_count": null,
   "metadata": {
    "collapsed": true
   },
   "outputs": [],
   "source": [
    "def double(element):\n",
    "    # multiply by a given element by two\n",
    "    print(element*4)\n",
    "    \n",
    "double(1)"
   ]
  },
  {
   "cell_type": "code",
   "execution_count": null,
   "metadata": {},
   "outputs": [],
   "source": [
    "for i in 'Kaspar':\n",
    "    print i"
   ]
  },
  {
   "cell_type": "markdown",
   "metadata": {},
   "source": [
    "### Finding Solutions\n",
    "\n",
    "We won't go into details here about debugging. More important is knowing how to solve these errors. \n",
    "\n",
    "**Where to look for help**? Generally copy-pasting the Error message in the Google Search Box, will lead you to useful solutions. A very rich resource is [Stack Overflow](https://stackoverflow.com/). For example typing\n",
    "\n",
    "``\n",
    "Stack Overflow SyntaxError: Missing parentheses in call to 'print'.\n",
    "``\n",
    "\n",
    "...will show you the [correct answer](https://stackoverflow.com/questions/25445439/what-does-syntaxerror-missing-parentheses-in-call-to-print-mean-in-python) to your question."
   ]
  },
  {
   "cell_type": "markdown",
   "metadata": {},
   "source": [
    "## 1.3.5 The Jupyter Notebook Environment\n",
    "\n",
    "The document you just opened is a Notebook, an **interactive coding environment** in your browser. It broadly consists of two different cell types: ``Code`` and ``Markdown``.\n",
    "** ``Code``** cells are preserved for running Python scripts.\n",
    "** ``Markdown``** cells can be used for adding notes to your Notebook document.\n",
    "The text you are reading now is written using Markdown.\n",
    "\n",
    "\n",
    "**Click here**, the box should be marked by a black rectangle. If you **double click** the original [**Markdown**](https://en.wikipedia.org/wiki/Markdown) syntax appears, and you can add your own text. \n",
    "\n",
    "\n",
    "**Exercise**: Let's try to enter your own name below, but surrounded by ``**`` (two asterisks) to print it in bold type\n",
    "\n",
    "Hello, my name is [your name here]\n",
    "\n",
    "Then press ``run cell``, or press ``ctrl+enter``"
   ]
  },
  {
   "cell_type": "code",
   "execution_count": null,
   "metadata": {
    "collapsed": true
   },
   "outputs": [],
   "source": []
  },
  {
   "cell_type": "markdown",
   "metadata": {},
   "source": [
    "You can add a new cell by going to\n",
    "``Insert >> Insert Cell Below``\n",
    "\n",
    "An empty cell should appear.\n",
    "\n",
    "**Exercise**: Add two cells below. One for printing your name with the Python ``print`` function. In the other create a Markdown cell, you write your name in italic (enclosed in a single asterisk) and bold type (double asterisk).\n",
    "\n",
    "You can always delete a cell by clicking on it and going to\n",
    "``Edit >> Delete Cells``"
   ]
  },
  {
   "cell_type": "code",
   "execution_count": null,
   "metadata": {
    "collapsed": true
   },
   "outputs": [],
   "source": [
    "# Start here"
   ]
  },
  {
   "cell_type": "code",
   "execution_count": 28,
   "metadata": {},
   "outputs": [
    {
     "name": "stdout",
     "output_type": "stream",
     "text": [
      "<class 'int'>\n",
      "<class 'float'>\n"
     ]
    }
   ],
   "source": [
    "1 + 0.1\n",
    "print(type(1))\n",
    "print(type(0.1))"
   ]
  },
  {
   "cell_type": "markdown",
   "metadata": {},
   "source": [
    "# 2. Python Basics"
   ]
  },
  {
   "cell_type": "code",
   "execution_count": 47,
   "metadata": {},
   "outputs": [
    {
     "data": {
      "text/plain": [
       "4"
      ]
     },
     "execution_count": 47,
     "metadata": {},
     "output_type": "execute_result"
    }
   ],
   "source": [
    "4"
   ]
  },
  {
   "cell_type": "markdown",
   "metadata": {},
   "source": [
    "# Ok, let's start!\n",
    "... for real.\n",
    "\n",
    "## 2.1 Values and Variables"
   ]
  },
  {
   "cell_type": "markdown",
   "metadata": {},
   "source": [
    "### Expressions and Values"
   ]
  },
  {
   "cell_type": "markdown",
   "metadata": {},
   "source": [
    "A value is one of the fundamental things like a letter or a number that a program can **manipulate**. The values we have seen so far are strings (\"Hello, World!\") and integers (the number of minutes in one week)."
   ]
  },
  {
   "cell_type": "markdown",
   "metadata": {},
   "source": [
    "Run the cells below--which evaluates the expression(s)--and inspect their output."
   ]
  },
  {
   "cell_type": "code",
   "execution_count": null,
   "metadata": {
    "collapsed": true
   },
   "outputs": [],
   "source": [
    "2"
   ]
  },
  {
   "cell_type": "markdown",
   "metadata": {},
   "source": [
    "Expressions in Python can be very simple. Python evaluates a number to that number itself, as shown above. This applies to numbers (integers) and strings."
   ]
  },
  {
   "cell_type": "code",
   "execution_count": null,
   "metadata": {
    "collapsed": true
   },
   "outputs": [],
   "source": [
    "'Kaspar'"
   ]
  },
  {
   "cell_type": "markdown",
   "metadata": {},
   "source": [
    "We can formulate more complex expressions using operators such as ``+`` or ``*``."
   ]
  },
  {
   "cell_type": "code",
   "execution_count": null,
   "metadata": {
    "collapsed": true
   },
   "outputs": [],
   "source": [
    "2 + 2 "
   ]
  },
  {
   "cell_type": "code",
   "execution_count": null,
   "metadata": {
    "collapsed": true
   },
   "outputs": [],
   "source": [
    "'Kaspar' + ' von ' + 'Beelen'"
   ]
  },
  {
   "cell_type": "code",
   "execution_count": null,
   "metadata": {
    "collapsed": true
   },
   "outputs": [],
   "source": []
  },
  {
   "cell_type": "markdown",
   "metadata": {},
   "source": [
    "Expressions that Python doesn't understand, throw an error. Which of the following lines is syntactically incorrect?"
   ]
  },
  {
   "cell_type": "code",
   "execution_count": null,
   "metadata": {
    "collapsed": true
   },
   "outputs": [],
   "source": [
    "+ 3 + 2"
   ]
  },
  {
   "cell_type": "code",
   "execution_count": null,
   "metadata": {
    "collapsed": true
   },
   "outputs": [],
   "source": [
    "2 = '2'"
   ]
  },
  {
   "cell_type": "code",
   "execution_count": null,
   "metadata": {
    "collapsed": true
   },
   "outputs": [],
   "source": [
    "3 + 1.0"
   ]
  },
  {
   "cell_type": "code",
   "execution_count": null,
   "metadata": {
    "collapsed": true
   },
   "outputs": [],
   "source": [
    "2 + 2 = "
   ]
  },
  {
   "cell_type": "markdown",
   "metadata": {},
   "source": [
    "The expression we created yields an output that belongs to a certain **data type**. You can inspect the type of your value by wrapping the function ``type`` around the value."
   ]
  },
  {
   "cell_type": "code",
   "execution_count": null,
   "metadata": {
    "collapsed": true
   },
   "outputs": [],
   "source": [
    "type('Kaspar')"
   ]
  },
  {
   "cell_type": "code",
   "execution_count": null,
   "metadata": {
    "collapsed": true
   },
   "outputs": [],
   "source": [
    "type(2)"
   ]
  },
  {
   "cell_type": "code",
   "execution_count": null,
   "metadata": {
    "collapsed": true
   },
   "outputs": [],
   "source": [
    "# run this cell to evaluate all the print statements\n",
    "print(2,type(2))\n",
    "print(\"Hello, World!\",type(\"Hello, World!\"))\n",
    "print(.5,type(0.5))"
   ]
  },
  {
   "cell_type": "markdown",
   "metadata": {},
   "source": [
    "As you see, the above values belong to different **in-built data types**: integer, string, float. There are more, but these are the ones we need for this course. We have a closer look at them later, but for now, remember that Python values belong to different built-in types."
   ]
  },
  {
   "cell_type": "markdown",
   "metadata": {},
   "source": [
    "Why is this important? Try to run the following block. What do you expect it to return? 5 or 14?"
   ]
  },
  {
   "cell_type": "code",
   "execution_count": null,
   "metadata": {
    "collapsed": true
   },
   "outputs": [],
   "source": [
    "print(1+\"4\")"
   ]
  },
  {
   "cell_type": "markdown",
   "metadata": {},
   "source": [
    "This should raise a **TypeError**. The error message points out that you cannot combine elements of the type string (`str`) and integer (`int`)---these don't mix well."
   ]
  },
  {
   "cell_type": "markdown",
   "metadata": {},
   "source": [
    "You can force an item to change the type (this is called **casting** a value). Run the cell below. Can you explain the differences between first and second print statement?"
   ]
  },
  {
   "cell_type": "code",
   "execution_count": null,
   "metadata": {
    "collapsed": true
   },
   "outputs": [],
   "source": [
    "print(str(1)+str(\"1\"))\n",
    "print(int(1)+int(\"1\"))"
   ]
  },
  {
   "cell_type": "markdown",
   "metadata": {},
   "source": [
    "Does this work?"
   ]
  },
  {
   "cell_type": "code",
   "execution_count": null,
   "metadata": {
    "collapsed": true
   },
   "outputs": [],
   "source": [
    "print(1 + .1)"
   ]
  },
  {
   "cell_type": "markdown",
   "metadata": {},
   "source": [
    "So, can we just print anything?"
   ]
  },
  {
   "cell_type": "code",
   "execution_count": null,
   "metadata": {
    "collapsed": true
   },
   "outputs": [],
   "source": [
    "print('Hi! ')"
   ]
  },
  {
   "cell_type": "code",
   "execution_count": null,
   "metadata": {
    "collapsed": true
   },
   "outputs": [],
   "source": [
    "print('Hi! '* 2)"
   ]
  },
  {
   "cell_type": "markdown",
   "metadata": {},
   "source": [
    "But this does not work!"
   ]
  },
  {
   "cell_type": "code",
   "execution_count": null,
   "metadata": {
    "collapsed": true
   },
   "outputs": [],
   "source": [
    "print(Hi)"
   ]
  },
  {
   "cell_type": "markdown",
   "metadata": {},
   "source": [
    "For Python, ``Hi``, without quotation marks, is a variable and not a string. To avoid this error **we should define a variable** first. But how to do this?"
   ]
  },
  {
   "cell_type": "markdown",
   "metadata": {},
   "source": [
    "### --Exercise--\n",
    "\n",
    "Complete the cell below:"
   ]
  },
  {
   "cell_type": "code",
   "execution_count": null,
   "metadata": {
    "collapsed": true
   },
   "outputs": [],
   "source": [
    "# print a string value\n",
    "# print the type of 3.1415\n",
    "# print an integer\n",
    "# print the type of \"Hello, goodbye!\""
   ]
  },
  {
   "cell_type": "markdown",
   "metadata": {},
   "source": [
    "### Variables\n",
    "\n",
    "One of the most powerful features of a programming language is the ability to **create and manipulate variables**. A variable is a **name** that denotes a specific **value**. \n",
    "\n",
    "The **assignment statement** creates a variable name that relates to concrete values. The `=` sign is called the **assignment operator**, everything on the left-hand side of the sign is the variable name, everything on the right-hand side is the expression/value. \n",
    "\n",
    "Why is it useful? Instead of passing values as an argument to the `print()` function, we can **store** them for possible re-use later."
   ]
  },
  {
   "cell_type": "code",
   "execution_count": null,
   "metadata": {
    "collapsed": true
   },
   "outputs": [],
   "source": [
    "# declaring a variable\n",
    "x = 'Hello World.'\n",
    "# printing what is in the box\n",
    "print(x)"
   ]
  },
  {
   "cell_type": "markdown",
   "metadata": {},
   "source": [
    "Assigning numerical variables is also possible for sure."
   ]
  },
  {
   "cell_type": "code",
   "execution_count": 35,
   "metadata": {},
   "outputs": [
    {
     "name": "stdout",
     "output_type": "stream",
     "text": [
      "22\n"
     ]
    }
   ],
   "source": [
    "# declaring a variable\n",
    "x = 22\n",
    "y = x\n",
    "# printing what is in the box\n",
    "print(y)"
   ]
  },
  {
   "cell_type": "markdown",
   "metadata": {},
   "source": [
    "If you vaguely remember your math-classes in school, this should look familiar. It is basically the same notation with the name of **the variable on the left, the value on the right**, and the = sign in the middle. \n",
    "\n",
    "In the code block above, two things happen. **First**, we fill `x` with a value, in our case `22`. This variable x behaves pretty much like a **box** on which we write an `x` with a thick, black marker to find it back later. **Second**: We print the contents of this box, using the `print()` command. ![box](./images/box.png)"
   ]
  },
  {
   "cell_type": "markdown",
   "metadata": {},
   "source": [
    "### --Exercise--\n",
    "\n",
    "Create and print two values: your name and date of birth."
   ]
  },
  {
   "cell_type": "code",
   "execution_count": null,
   "metadata": {
    "collapsed": true
   },
   "outputs": [],
   "source": [
    "# Exercise create and print two values: your name and date of birth"
   ]
  },
  {
   "cell_type": "markdown",
   "metadata": {},
   "source": [
    "### --Exercise--\n",
    "\n",
    "Calculate the number of minutes in one week and assign this number to `x`. Run the code again."
   ]
  },
  {
   "cell_type": "code",
   "execution_count": null,
   "metadata": {
    "collapsed": true
   },
   "outputs": [],
   "source": [
    "# here!"
   ]
  },
  {
   "cell_type": "markdown",
   "metadata": {},
   "source": [
    "### But do not mix up variables and (string) values\n",
    "\n",
    "In Python, **string** values always have to be **enclosed with single or double quotes**. Both `'Hi!'` and `\"Hi\"` are interpreted as strings. Because variables never take quotes, Python will read `Hi` as a variable, and attempt to look up what is saved in the box with this name. If the variable is not defined, it will raise a `NameError`."
   ]
  },
  {
   "cell_type": "code",
   "execution_count": null,
   "metadata": {
    "collapsed": true
   },
   "outputs": [],
   "source": [
    "# This works...\n",
    "print('Hello')\n",
    "# This as well...\n",
    "print(\"Hello\")\n",
    "# This raises a NameError\n",
    "print(Hello)"
   ]
  },
  {
   "cell_type": "markdown",
   "metadata": {},
   "source": [
    "Variable names can be chosen **arbitrarily**. *We* give a certain value a name, and we are free to pick one to our liking. It is, however, recommended to use **meaningful** names as we will use the variable names in our code directly and not the values they hold."
   ]
  },
  {
   "cell_type": "code",
   "execution_count": null,
   "metadata": {
    "collapsed": true
   },
   "outputs": [],
   "source": [
    "# not recommended...\n",
    "banana = \"The Lord of the Flies\"\n",
    "print(banana)"
   ]
  },
  {
   "cell_type": "markdown",
   "metadata": {},
   "source": [
    "You are free to use the name `banana` to hold the book title `\"The Lord of the Flies\"` but you will agree that this naming is not transparent. "
   ]
  },
  {
   "cell_type": "markdown",
   "metadata": {},
   "source": [
    "### Intermezzo: Valid/invalid variable names\n",
    "\n",
    "You are free to choose a name from a **semantic** point of view, but not all variable names are **syntactically valid** in Python. Variable names are only valid if they:\n",
    "\n",
    "- start with a letter or underscore (\\_)\n",
    "- only contain letters, numbers and underscores\n",
    "- are not a Python **keyword**: [Keywords]() define the language's rules and structure, and they cannot be used as variable names. To check if a variable name coincides with a keyword, run this code:"
   ]
  },
  {
   "cell_type": "code",
   "execution_count": null,
   "metadata": {
    "collapsed": true
   },
   "outputs": [],
   "source": [
    "import keyword\n",
    "print(keyword.kwlist)"
   ]
  },
  {
   "cell_type": "markdown",
   "metadata": {},
   "source": [
    "### --Exercise--\n",
    "\n",
    "Run the following code block and see what happens. \n",
    "- Try to run the block below by **commenting out** the invalid names. Add a `#` to comment out a specific line.\n",
    "- Optional: Then remove all `#` and fix the invalid variable names."
   ]
  },
  {
   "cell_type": "code",
   "execution_count": 48,
   "metadata": {},
   "outputs": [
    {
     "ename": "SyntaxError",
     "evalue": "invalid syntax (<ipython-input-48-830f237100f9>, line 4)",
     "output_type": "error",
     "traceback": [
      "\u001b[0;36m  File \u001b[0;32m\"<ipython-input-48-830f237100f9>\"\u001b[0;36m, line \u001b[0;32m4\u001b[0m\n\u001b[0;31m    eggs$ = 1\u001b[0m\n\u001b[0m        ^\u001b[0m\n\u001b[0;31mSyntaxError\u001b[0m\u001b[0;31m:\u001b[0m invalid syntax\n"
     ]
    }
   ],
   "source": [
    "eggs = 3\n",
    "_eggs = 6\n",
    "#5eggs = 5\n",
    "eggs$ = 1\n",
    "def = 0.005\n",
    "Def = .1\n",
    "eggs123 = 9\n",
    "ten_eggs = 10\n",
    "class = 9\n",
    "Class = 10\n",
    "TwelveEggs = 8\n",
    "twelve.eggs = 12"
   ]
  },
  {
   "cell_type": "markdown",
   "metadata": {},
   "source": [
    "### Re-assigning variables\n",
    "The box metaphor for a variable goes a long way: in such a box you can put **whatever value you want**. When you **re-assign** a variable, you remove the content of the box and put something new in it. "
   ]
  },
  {
   "cell_type": "code",
   "execution_count": null,
   "metadata": {
    "collapsed": true
   },
   "outputs": [],
   "source": [
    "# Re-assignmnet\n",
    "x = 5\n",
    "print(x)\n",
    "x = 7\n",
    "print(x)"
   ]
  },
  {
   "cell_type": "markdown",
   "metadata": {
    "collapsed": true
   },
   "source": [
    "### --Exercise--\n",
    "\n",
    "Reassign the variable `name` to your first name, print it, and re-assign it to your second name."
   ]
  },
  {
   "cell_type": "code",
   "execution_count": null,
   "metadata": {
    "collapsed": true
   },
   "outputs": [],
   "source": []
  },
  {
   "cell_type": "markdown",
   "metadata": {},
   "source": [
    "### Copying/referencing variables\n",
    "Besides storing values in variables, you can also **pass the value of one variable to another**, i.e. copy the content of a variable to another. "
   ]
  },
  {
   "cell_type": "markdown",
   "metadata": {},
   "source": [
    "we can assign the value of one variable to another variable. We will explain more about this later on, but here you just need to understand the basic mechanism. **Before** you evaluate the following code block, can you predict what Python will print?"
   ]
  },
  {
   "cell_type": "code",
   "execution_count": null,
   "metadata": {
    "collapsed": true
   },
   "outputs": [],
   "source": [
    "book = \"The Lord of the Flies\"\n",
    "reading = book\n",
    "print(reading)"
   ]
  },
  {
   "cell_type": "markdown",
   "metadata": {},
   "source": [
    "### --Exercise--\n",
    "Can you predict what Python will print now (don't run the code, try to understand what the sequence of expressions will output)?"
   ]
  },
  {
   "cell_type": "code",
   "execution_count": null,
   "metadata": {
    "collapsed": true
   },
   "outputs": [],
   "source": [
    "first_number = 5\n",
    "print(first_number)\n",
    "second_number = first_number # copying\n",
    "first_number = 3 # reassignmnent\n",
    "print(first_number)\n",
    "print(second_number)"
   ]
  },
  {
   "cell_type": "markdown",
   "metadata": {},
   "source": [
    "### Manipulating Variables"
   ]
  },
  {
   "cell_type": "markdown",
   "metadata": {},
   "source": [
    "After assigning the values to variables (or storing the values inside the variable), you can do interesting stuff by applying operations on them."
   ]
  },
  {
   "cell_type": "code",
   "execution_count": null,
   "metadata": {
    "collapsed": true
   },
   "outputs": [],
   "source": [
    "x = 3\n",
    "print(x)\n",
    "print(x * x)\n",
    "print(x + x)\n",
    "print(x - 6)"
   ]
  },
  {
   "cell_type": "markdown",
   "metadata": {},
   "source": [
    "### Updating variables"
   ]
  },
  {
   "cell_type": "markdown",
   "metadata": {
    "collapsed": true
   },
   "source": [
    "When we obtain a new book, we can update the number of books accordingly:"
   ]
  },
  {
   "cell_type": "code",
   "execution_count": null,
   "metadata": {
    "collapsed": true
   },
   "outputs": [],
   "source": [
    "number_of_books = 5\n",
    "# now buy a new book\n",
    "number_of_books = number_of_books + 1\n",
    "# print the number of books bought\n",
    "print(number_of_books)"
   ]
  },
  {
   "cell_type": "code",
   "execution_count": null,
   "metadata": {
    "collapsed": true
   },
   "outputs": [],
   "source": [
    "# Copy paste the previous code but update with ten instead of one\n",
    "# What is the result?"
   ]
  },
  {
   "cell_type": "markdown",
   "metadata": {},
   "source": [
    "## Exercises (DIY)"
   ]
  },
  {
   "cell_type": "markdown",
   "metadata": {},
   "source": [
    "Inspired by *Think Python* by Allen B. Downey (http://thinkpython.com), *Introduction to Programming Using Python* by Y. Liang (Pearson, 2013). Some exercises below have been taken from: http://www.ling.gu.se/~lager/python_exercises.html."
   ]
  },
  {
   "cell_type": "markdown",
   "metadata": {},
   "source": [
    "-  Ex. 1: Suppose the cover price of a book is 24.95 EUR, but bookstores get a 40 percent discount. Shipping costs 3 EUR for the first copy and 75 cents for each additional copy. What is the total wholesale cost for 60 copies? Print the result in a pretty fashion, using casting where necessary!"
   ]
  },
  {
   "cell_type": "code",
   "execution_count": null,
   "metadata": {
    "collapsed": true
   },
   "outputs": [],
   "source": []
  },
  {
   "cell_type": "markdown",
   "metadata": {},
   "source": [
    "-  Ex. 2: Can you identify and explain the errors in the following lines of code? Correct them please!"
   ]
  },
  {
   "cell_type": "code",
   "execution_count": null,
   "metadata": {
    "collapsed": true
   },
   "outputs": [],
   "source": [
    "print(\"A message\").\n",
    "print(\"A message')\n",
    "print('A message\"')"
   ]
  },
  {
   "cell_type": "markdown",
   "metadata": {},
   "source": [
    "-  Ex. 3: When something is wrong with your code, Python will raise errors. Often these will be 'syntax errors' that signal that something is wrong with the form of your code (i.e. a `SyntaxError` like the one thrown in the previous exercice). There are also 'runtime errors' that signal that your code was in itself formally correct, but that something went wrong during the code's execution. A good example is the `ZeroDivisionError`. Try to make Python throw such a ZeroDivisionError!"
   ]
  },
  {
   "cell_type": "code",
   "execution_count": null,
   "metadata": {
    "collapsed": true
   },
   "outputs": [],
   "source": [
    "# ZeroDivisionError"
   ]
  },
  {
   "cell_type": "markdown",
   "metadata": {},
   "source": [
    "- Ex. 4: Write a program that assigns the result of `9.5 * 4.5 - 2.5 * 345.5 - 3.5` to a variable. Print this variable. Use round parentheses to indicate 'operator precedence' and make sure that subtractions are performed before multiplications. When you convert the outcome to a string, how many characters does it count?"
   ]
  },
  {
   "cell_type": "code",
   "execution_count": null,
   "metadata": {
    "collapsed": true
   },
   "outputs": [],
   "source": [
    "x = str(2345345345)\n",
    "len(x)"
   ]
  },
  {
   "cell_type": "markdown",
   "metadata": {},
   "source": [
    "-  Ex. 5: Define three variables `var1`, `var2` and `var3`. Calculate the average of these variables and assign it to `average`. "
   ]
  },
  {
   "cell_type": "code",
   "execution_count": null,
   "metadata": {
    "collapsed": true
   },
   "outputs": [],
   "source": []
  },
  {
   "cell_type": "markdown",
   "metadata": {},
   "source": [
    "-  Ex. 6: Write a little program that can compute the surface of circle, using the variables `radius` and `pi=3.14159`. The formula is of course radius, multiplied by radius, multiplied by `pi`. Print the outcome of your program as follows: 'The surface area of a circle with radius ... is: ...'."
   ]
  },
  {
   "cell_type": "code",
   "execution_count": null,
   "metadata": {
    "collapsed": true
   },
   "outputs": [],
   "source": []
  },
  {
   "cell_type": "markdown",
   "metadata": {},
   "source": [
    "- Ex. 7: There is one operator (like the ones for multiplication and subtraction) that we did not mention yet, namely the modulus operator `%`. Could you figure by yourself what it does when you place it between two numbers (e.g. 113 % 9)? (PS: It's OK to get help online...) You don't need this operator all that often, but when you do, it comes in really handy!"
   ]
  },
  {
   "cell_type": "code",
   "execution_count": null,
   "metadata": {
    "collapsed": true
   },
   "outputs": [],
   "source": []
  }
 ],
 "metadata": {
  "kernelspec": {
   "display_name": "Python 3",
   "language": "python",
   "name": "python3"
  },
  "language_info": {
   "codemirror_mode": {
    "name": "ipython",
    "version": 3
   },
   "file_extension": ".py",
   "mimetype": "text/x-python",
   "name": "python",
   "nbconvert_exporter": "python",
   "pygments_lexer": "ipython3",
   "version": "3.6.3"
  }
 },
 "nbformat": 4,
 "nbformat_minor": 1
}
