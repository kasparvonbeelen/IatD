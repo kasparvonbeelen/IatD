{
 "cells": [
  {
   "cell_type": "markdown",
   "metadata": {},
   "source": [
    "\n",
    "-- Many of the materials are gently stolen from the following courses: \n",
    "- **[\"A Python Course for the Humanities\"](https://github.com/fbkarsdorp/python-course)** a course designed by Folgert Karsdorp and Maarten van Gompel\n",
    "- and later modified by Mike Kestemont and Lars Wieneke for the course **[\"Programming for Linguistics and Literature\"](https://github.com/mikekestemont/prog1617)**\n",
    "- **[\"Python for text analysis\"](https://github.com/cltl/python-for-text-analysis)** designed by H.D. van der Vliet and taught at the Vrije Universiteit\n",
    "- **[\"How to Think Like a Computer Scientist\"](http://www.greenteapress.com/thinkpython/thinkCSpy.pdf)** by Allen Downey, Jeffrey Elkner, Chris Meyers"
   ]
  },
  {
   "cell_type": "markdown",
   "metadata": {},
   "source": [
    "# Lab Session 2: Strings, Lists and Iteration"
   ]
  },
  {
   "cell_type": "markdown",
   "metadata": {},
   "source": [
    "### --Exercise--\n",
    "\n",
    "Just as a quick reminder: Python has several in-built data types, integers (1,3,100), floats (1.0, 2.5) and strings ('iii'). Complete the exercise below."
   ]
  },
  {
   "cell_type": "code",
   "execution_count": null,
   "metadata": {
    "collapsed": true
   },
   "outputs": [],
   "source": [
    "# print a string here\n",
    "# print a float here\n",
    "# print an integer here"
   ]
  },
  {
   "cell_type": "code",
   "execution_count": 4,
   "metadata": {},
   "outputs": [
    {
     "name": "stdout",
     "output_type": "stream",
     "text": [
      "1326\n"
     ]
    }
   ],
   "source": [
    "x = open('alice.txt').read()\n",
    "print(len(x))"
   ]
  },
  {
   "cell_type": "code",
   "execution_count": 22,
   "metadata": {},
   "outputs": [
    {
     "name": "stdout",
     "output_type": "stream",
     "text": [
      "ALICE was beginning to get very tired of sitting by her\n",
      "sister on the bank, and of having nothing to do: once or twice she had\n",
      "peeped into the book her sister was reading, but it had no pictures or\n",
      "conversations in it, \"and what is the use of a book,\" thought Alice,\n",
      "\"without pictures or conversations?\"\n",
      "\n",
      "So she was considering in her own mind (as well as she could, for the\n",
      "hot day made her feel very sleepy and stupid) whether the pleasure of\n",
      "making a daisy-chain would be worth the trouble of getting up and\n",
      "picking the daisies, when suddenly a White Rabbit with pink eyes ran\n",
      "close by her.\n",
      "\n",
      "There was nothing so _very_ remarkable in that; nor did Alice think it\n",
      "so _very_ much out of the way to hear the Rabbit say to itself, \"Oh\n",
      "dear! Oh dear! I shall be too late!\" (when she thought it over\n",
      "afterwards, it occurred to her that she ought to have wondered at this,\n",
      "but at the time it all seemed quite natural); but when the Rabbit\n",
      "actually _took a watch out of its waistcoat-pocket_, and looked at it,\n",
      "and then hurried on, Alice started to her feet, for it flashed across\n",
      "her mind that she had never before seen a rabbit with either a\n",
      "waistcoat-pocket, or a watch to take out of it, and burning with\n",
      "curiosity, she ran across the field after it, and was just in time to\n",
      "see it pop down a large rabbit-hole under the hedge.\n"
     ]
    }
   ],
   "source": [
    "a_replaced = x.replace('a','ö')\n",
    "print()"
   ]
  },
  {
   "cell_type": "markdown",
   "metadata": {},
   "source": [
    "## 1 Strings"
   ]
  },
  {
   "cell_type": "markdown",
   "metadata": {},
   "source": [
    "Let's have a closer look at the ``'str'`` type (str stands for string)\n",
    "\n",
    "Both numbers and strings can be added together. What do you think the operation below will produce?"
   ]
  },
  {
   "cell_type": "code",
   "execution_count": null,
   "metadata": {
    "collapsed": true
   },
   "outputs": [],
   "source": [
    "first_name = # Insert your first name here\n",
    "last_name = # Insert you last name here\n",
    "print(first_name+last_name)"
   ]
  },
  {
   "cell_type": "markdown",
   "metadata": {},
   "source": [
    "This the last operation is called string **concatination**."
   ]
  },
  {
   "cell_type": "code",
   "execution_count": null,
   "metadata": {
    "collapsed": true
   },
   "outputs": [],
   "source": [
    "book = \"The Lord of the Flies\"\n",
    "print(first_name + \" likes \" + book + \"?\")"
   ]
  },
  {
   "cell_type": "markdown",
   "metadata": {},
   "source": [
    "### --Exercise--"
   ]
  },
  {
   "cell_type": "code",
   "execution_count": 1,
   "metadata": {},
   "outputs": [
    {
     "name": "stdout",
     "output_type": "stream",
     "text": [
      "Kaspar   Beelen\n"
     ]
    }
   ],
   "source": [
    "# declare three variables first_name, white space and last_name\n",
    "# print them neatly using concatenation\n",
    "first_name = 'Kaspar'\n",
    "ws = ' '\n",
    "last_name = 'Beelen'\n",
    "print(first_name,ws,last_name)"
   ]
  },
  {
   "cell_type": "code",
   "execution_count": null,
   "metadata": {
    "collapsed": true
   },
   "outputs": [],
   "source": [
    "# try other operators (such as *, +, /, -)on the first_name and last_name variables\n",
    "# what works, what does not work? can you explain why?\n",
    "# e.g \"yourname\"*2\n",
    "first_name * 2 # works\n",
    "first_name / 2 # generates an error!\n",
    "first_name - 2 # generates an error!\n",
    "first_name + 2 # generates an error!"
   ]
  },
  {
   "cell_type": "markdown",
   "metadata": {},
   "source": [
    "You can do more than just applying operators to strings. We have a closer look at string manipulation later in the course, but at this stage, it is useful to be aware of Python's **`help()` function**."
   ]
  },
  {
   "cell_type": "code",
   "execution_count": null,
   "metadata": {
    "collapsed": true
   },
   "outputs": [],
   "source": [
    "# Get help!\n",
    "help(str)"
   ]
  },
  {
   "cell_type": "markdown",
   "metadata": {},
   "source": [
    "## 1.2 Doing Things with Strings"
   ]
  },
  {
   "cell_type": "markdown",
   "metadata": {},
   "source": [
    "### 1.2.1 Creating and Reading Text"
   ]
  },
  {
   "cell_type": "markdown",
   "metadata": {},
   "source": [
    "As we've seen you, can create string variables by typing text into your Notebook, put it between quotation marks and assign it to variable name using ``=``."
   ]
  },
  {
   "cell_type": "code",
   "execution_count": null,
   "metadata": {
    "collapsed": true
   },
   "outputs": [],
   "source": [
    "name = 'Kaspar'"
   ]
  },
  {
   "cell_type": "markdown",
   "metadata": {},
   "source": [
    "Another option is to read a text from your **disk**. The syntax may look complicated but don't worry about it now. In the cell below we load some paragraph's from [Lewis Carrol's \"Alice in Wonderland\".](http://www.gutenberg.org/cache/epub/28885/pg28885.txt)"
   ]
  },
  {
   "cell_type": "code",
   "execution_count": null,
   "metadata": {
    "collapsed": true
   },
   "outputs": [],
   "source": [
    "alice = open('./alice.txt').read()"
   ]
  },
  {
   "cell_type": "code",
   "execution_count": null,
   "metadata": {
    "collapsed": true
   },
   "outputs": [],
   "source": [
    "print(alice)"
   ]
  },
  {
   "cell_type": "markdown",
   "metadata": {},
   "source": [
    "``open`` creates a connection between your Python Notebook and the file with the path './alice'. './' stands for current directory'. In this directory we open to the file with the name 'alice.txt'. Note, that opening a file isn't equal to reading it. Run the cell below to see what happens."
   ]
  },
  {
   "cell_type": "code",
   "execution_count": null,
   "metadata": {
    "collapsed": true
   },
   "outputs": [],
   "source": [
    "open_alice = open('./alice.txt')\n",
    "print(open_alice)"
   ]
  },
  {
   "cell_type": "markdown",
   "metadata": {},
   "source": [
    "It returns a file object but does not read its content. For this reason we have to call the ``read()`` method explicitly."
   ]
  },
  {
   "cell_type": "code",
   "execution_count": null,
   "metadata": {
    "collapsed": true
   },
   "outputs": [],
   "source": [
    "alice_read = open('./alice.txt').read()\n",
    "print(alice_read)"
   ]
  },
  {
   "cell_type": "markdown",
   "metadata": {},
   "source": [
    "### --Exercise--\n",
    "\n",
    "- Open a text editor (not Word!), e.g. TextEdit on MacOS.\n",
    "- Copy-paste some paragraphs from Oscar Wilde's \"The Picture of Dorian Gray\"\n",
    "- Save it as 'gray.txt' **in the same folder as your Notebook**\n",
    "- Make sure you save it as **plain text** (Format > Make Plain Text) and use UTF-8 as encoding.\n",
    "- Open and read the file.\n",
    "- Print the content"
   ]
  },
  {
   "cell_type": "code",
   "execution_count": null,
   "metadata": {
    "collapsed": true
   },
   "outputs": [],
   "source": [
    "# Add you code here"
   ]
  },
  {
   "cell_type": "markdown",
   "metadata": {},
   "source": [
    "### 1.2.2 Playing around with text in Python"
   ]
  },
  {
   "cell_type": "markdown",
   "metadata": {},
   "source": [
    "In Python, everything is an object--for example \"Hello, World!\" is a string object. To make things easier for you, Python provides you with a lot of tools--called **functions or methods**--to manipulate **or** ask question about these objects."
   ]
  },
  {
   "cell_type": "markdown",
   "metadata": {},
   "source": [
    "###  1.2.2.1 ``len()``"
   ]
  },
  {
   "cell_type": "markdown",
   "metadata": {},
   "source": [
    "You can apply ``len()`` to any expression that evaluates to a string object. Put the string between the parentheses of ``len()`` (more formally, pass the string as an argument to the ``len()`` function.)\n",
    "\n",
    "For example:\n",
    "\n",
    "``len(argument)``"
   ]
  },
  {
   "cell_type": "markdown",
   "metadata": {},
   "source": [
    "### --Exercise--\n",
    "\n",
    "Try to figure what the ``len`` function does, by adapting the above code cell."
   ]
  },
  {
   "cell_type": "code",
   "execution_count": null,
   "metadata": {
    "collapsed": true
   },
   "outputs": [],
   "source": [
    "len('Hello, World!!')"
   ]
  },
  {
   "cell_type": "markdown",
   "metadata": {},
   "source": [
    "Ok, why is this useful? We can derive simple analytics from our data, for example count the number of characters in Alice and Wonderland."
   ]
  },
  {
   "cell_type": "code",
   "execution_count": 2,
   "metadata": {},
   "outputs": [
    {
     "name": "stdout",
     "output_type": "stream",
     "text": [
      "153606\n"
     ]
    }
   ],
   "source": [
    "alice_full = open('./fulltext/alice.txt').read()\n",
    "print(len(alice_full))"
   ]
  },
  {
   "cell_type": "markdown",
   "metadata": {},
   "source": [
    "We can do more, for example asking which book is longer."
   ]
  },
  {
   "cell_type": "markdown",
   "metadata": {},
   "source": [
    "### --Exercise--\n",
    "\n",
    "- Read the file 'gray.txt' in the folder 'fulltext'.\n",
    "- Print how many characters this file contains. Is it shorter or longer? What are you counting here?\n",
    "- Save the length of both books to two variables (length_alice and length_gray)"
   ]
  },
  {
   "cell_type": "code",
   "execution_count": 3,
   "metadata": {
    "collapsed": true
   },
   "outputs": [],
   "source": [
    "# Add code here\n",
    "gray = open('fulltext/gray.txt').read()\n",
    "length_gray = len(gray)\n",
    "length_alice = len(alice_full)"
   ]
  },
  {
   "cell_type": "markdown",
   "metadata": {},
   "source": [
    "### --Exercise--\n",
    "\n",
    " As you noticed `len()` evaluates to a number, which counts the characters in a string. What is the length of Alice and Dorian Gray combined?"
   ]
  },
  {
   "cell_type": "code",
   "execution_count": 4,
   "metadata": {},
   "outputs": [
    {
     "data": {
      "text/plain": [
       "587375"
      ]
     },
     "execution_count": 4,
     "metadata": {},
     "output_type": "execute_result"
    }
   ],
   "source": [
    "# Add code here\n",
    "length_alice + length_gray"
   ]
  },
  {
   "cell_type": "markdown",
   "metadata": {},
   "source": [
    "We can ask other types of question such as: does string X appear in string Y? For this we use the ``in`` operator."
   ]
  },
  {
   "cell_type": "code",
   "execution_count": null,
   "metadata": {
    "collapsed": true
   },
   "outputs": [],
   "source": [
    "'mother' in 'to be smothered'"
   ]
  },
  {
   "cell_type": "code",
   "execution_count": null,
   "metadata": {
    "collapsed": true
   },
   "outputs": [],
   "source": [
    "'mothers' in 'to be smothered'"
   ]
  },
  {
   "cell_type": "markdown",
   "metadata": {},
   "source": [
    "Both expression evaluate to boolean values: ``True`` or ``False``."
   ]
  },
  {
   "cell_type": "markdown",
   "metadata": {},
   "source": [
    "We can formulate more precise conditions, for examples asking Python is a string starts or ends with a specific value."
   ]
  },
  {
   "cell_type": "code",
   "execution_count": null,
   "metadata": {
    "collapsed": true
   },
   "outputs": [],
   "source": [
    "\"foodie\".startswith(\"foo\")"
   ]
  },
  {
   "cell_type": "code",
   "execution_count": null,
   "metadata": {
    "collapsed": true
   },
   "outputs": [],
   "source": [
    "\"foodie\".endswith(\"foo\")"
   ]
  },
  {
   "cell_type": "markdown",
   "metadata": {},
   "source": [
    "### --Exercise--\n",
    "\n",
    "Write an expression that checks whether a string is a valid Twitter Hashtag."
   ]
  },
  {
   "cell_type": "code",
   "execution_count": 6,
   "metadata": {},
   "outputs": [
    {
     "data": {
      "text/plain": [
       "True"
      ]
     },
     "execution_count": 6,
     "metadata": {},
     "output_type": "execute_result"
    }
   ],
   "source": [
    "# add code here\n",
    "'#Hello'.startswith('#')"
   ]
  },
  {
   "cell_type": "markdown",
   "metadata": {},
   "source": [
    "### --Exercise--\n",
    "\n",
    "Write an expression that checks whether documents in the folder 'fulltext' are '.txt' files"
   ]
  },
  {
   "cell_type": "code",
   "execution_count": 5,
   "metadata": {},
   "outputs": [
    {
     "data": {
      "text/plain": [
       "True"
      ]
     },
     "execution_count": 5,
     "metadata": {},
     "output_type": "execute_result"
    }
   ],
   "source": [
    "# add code here\n",
    "'fulltext/gray.txt'.endswith('txt')"
   ]
  },
  {
   "cell_type": "markdown",
   "metadata": {},
   "source": [
    "But Python comes with more directly useful string methods such as searching and counting."
   ]
  },
  {
   "cell_type": "markdown",
   "metadata": {},
   "source": [
    "While the `in` operator tells you that substring occurs in some other string (or not), is does not show you where and how often. To discover where the substring is located we can use the `.find()` method. `.find()` is applied to a string object and requires one parameter: a substring, which will be searched for within the string whose `.find()` method was called. More formally:\n",
    "\n",
    "\n",
    "``string.find(substring)``\n",
    "\n",
    "\n",
    "If the substring is found, the entire expression will evaluate to the index at which the substring is found. If the substring is not found, the expression evaluates to `-1`. "
   ]
  },
  {
   "cell_type": "code",
   "execution_count": null,
   "metadata": {
    "collapsed": true
   },
   "outputs": [],
   "source": [
    "print(\"kaspar\".find(\"k\"))\n",
    "print(\"kaspar\".find(\"a\"))\n",
    "print(\"kaspar\".find(\"ar\"))\n",
    "print(\"kaspar\".find(\"@\"))"
   ]
  },
  {
   "cell_type": "markdown",
   "metadata": {},
   "source": [
    "Please notice the following:\n",
    "- In Python we start counting at zero. The index of the first character 'k' is 0. This may be confusing at first, but you'll get used to it.\n",
    "- Find only returns the position of the first occurence of the your query."
   ]
  },
  {
   "cell_type": "markdown",
   "metadata": {},
   "source": [
    "### --Exercise--\n",
    "\n",
    "- Find the position of the hashtag in Trump's tweet.\n",
    "- Where is the hashtag located?\n",
    "- Are there any mentions (@) in these tweets?"
   ]
  },
  {
   "cell_type": "code",
   "execution_count": 8,
   "metadata": {
    "collapsed": true
   },
   "outputs": [],
   "source": [
    "tweet = \"\"\"Just landed in West Virginia. Big crowd, looking forward to seeing everyone soon! #MAGA\"\"\""
   ]
  },
  {
   "cell_type": "code",
   "execution_count": 12,
   "metadata": {
    "collapsed": true
   },
   "outputs": [],
   "source": [
    "tweet_2 = \"\"\"Will be going to the Great State of West Virginia on Tuesday Night to campaign & do a Rally Speech\n",
    "for a hard working and spectacular person, A.G. Patrick Morrisey, who is running for the U.S. Senate. \n",
    "Patrick has great Energy & Stamina-I need his VOTE to MAGA. Total Endorsement!\"\"\""
   ]
  },
  {
   "cell_type": "code",
   "execution_count": 13,
   "metadata": {},
   "outputs": [
    {
     "name": "stdout",
     "output_type": "stream",
     "text": [
      "82\n",
      "-1\n"
     ]
    }
   ],
   "source": [
    "print(tweet.find('#'))\n",
    "print(tweet_2.find('@'))"
   ]
  },
  {
   "cell_type": "markdown",
   "metadata": {},
   "source": [
    "We can also count how often certain patterns appear in a text. The syntax should look familiar by now:\n",
    "    \n",
    "``string.find(substring)``"
   ]
  },
  {
   "cell_type": "code",
   "execution_count": null,
   "metadata": {
    "collapsed": true
   },
   "outputs": [],
   "source": [
    "tweet_2.count('is')"
   ]
  },
  {
   "cell_type": "markdown",
   "metadata": {
    "collapsed": true
   },
   "source": [
    "Instead of just tweets we can apply these methods to whole books."
   ]
  },
  {
   "cell_type": "code",
   "execution_count": 15,
   "metadata": {},
   "outputs": [
    {
     "data": {
      "text/plain": [
       "400"
      ]
     },
     "execution_count": 15,
     "metadata": {},
     "output_type": "execute_result"
    }
   ],
   "source": [
    "alice = open('./fulltext/alice.txt').read()\n",
    "alice.count('Alice') # How often is Alice mentioned?"
   ]
  },
  {
   "cell_type": "markdown",
   "metadata": {},
   "source": [
    "### --Exercises--\n",
    "\n",
    "- How often does the pronoun \"she\" appear? in Alice\n",
    "- How often is Dorian Gray mentioned in Wilde's book? How often is the word \"he\" mentioned? "
   ]
  },
  {
   "cell_type": "code",
   "execution_count": 18,
   "metadata": {},
   "outputs": [
    {
     "name": "stdout",
     "output_type": "stream",
     "text": [
      "550\n",
      "8323\n"
     ]
    }
   ],
   "source": [
    "# Add your code here\n",
    "print(alice.count('she'))\n",
    "print(gray.count('he'))"
   ]
  },
  {
   "cell_type": "markdown",
   "metadata": {},
   "source": [
    "### --Exercise--\n",
    "\n",
    "- Test if count is case-sensitive"
   ]
  },
  {
   "cell_type": "code",
   "execution_count": 19,
   "metadata": {},
   "outputs": [
    {
     "name": "stdout",
     "output_type": "stream",
     "text": [
      "550\n",
      "40\n"
     ]
    }
   ],
   "source": [
    "# Add your code here\n",
    "print(alice.count('she'))\n",
    "print(alice.count('She'))"
   ]
  },
  {
   "cell_type": "markdown",
   "metadata": {},
   "source": [
    "## String Transformations"
   ]
  },
  {
   "cell_type": "markdown",
   "metadata": {},
   "source": [
    "As you've noticed, `count` is case-sensitive: you get different results, for example, when searching for \"she\" or \"She\". In case we want to ignore capitalization (something we often do when processing text) Python allows us to easily **lowercase** a string.\n",
    "\n",
    "'str.lower()' evaluates to a copy `str` with all characters transformed to lower case."
   ]
  },
  {
   "cell_type": "code",
   "execution_count": null,
   "metadata": {
    "collapsed": true
   },
   "outputs": [],
   "source": [
    "\"DON'T YELL!!!\".lower()"
   ]
  },
  {
   "cell_type": "markdown",
   "metadata": {
    "collapsed": true
   },
   "source": [
    "``.upper()`` performs the opposite transformation, returning a copy of the string all in capitals"
   ]
  },
  {
   "cell_type": "code",
   "execution_count": null,
   "metadata": {
    "collapsed": true
   },
   "outputs": [],
   "source": [
    "'yell!'.upper()"
   ]
  },
  {
   "cell_type": "markdown",
   "metadata": {
    "collapsed": true
   },
   "source": [
    "### --Exercise-- \n",
    "\n",
    "- Lowercase Alice in Wonderland and assign to a variable `alice_lower`.\n",
    "- Count the occurance of the string 'rabbit' in both the original and the lowercased version."
   ]
  },
  {
   "cell_type": "code",
   "execution_count": 20,
   "metadata": {
    "collapsed": true
   },
   "outputs": [],
   "source": [
    "# Add your code here\n",
    "alice_lower = alice.lower()"
   ]
  },
  {
   "cell_type": "markdown",
   "metadata": {},
   "source": [
    "`.replace()` method takes two parameters: a string to find, and a string to substitute that string with. [You can use this to make sad stories.](http://rwet.decontextualize.com/schedule/)"
   ]
  },
  {
   "cell_type": "code",
   "execution_count": null,
   "metadata": {
    "collapsed": true
   },
   "outputs": [],
   "source": [
    "\"I got rhythm, I got music, I got my man, who could ask for anything more\".replace(\"I got\", \"I used to have\")"
   ]
  },
  {
   "cell_type": "markdown",
   "metadata": {},
   "source": [
    "We can also apply ``.replace()`` to counter stereotypes."
   ]
  },
  {
   "cell_type": "code",
   "execution_count": null,
   "metadata": {
    "collapsed": true
   },
   "outputs": [],
   "source": [
    "'He works at the office, she takes cares of the kids.'.replace('she','he').replace('He','She')"
   ]
  },
  {
   "cell_type": "markdown",
   "metadata": {},
   "source": [
    "### --Exercise--\n",
    "\n",
    "- Make a simple script that the replaces 'her' with 'his' in the sentence.\n",
    "> 'I borrowed his book and her pen'\n",
    "- transform the sentence to uppercase\n",
    "- assigned the result to a new variable named ``upper_gender``"
   ]
  },
  {
   "cell_type": "code",
   "execution_count": 21,
   "metadata": {},
   "outputs": [
    {
     "name": "stdout",
     "output_type": "stream",
     "text": [
      "I BORROWED HIS BOOK AND HIS PEN\n"
     ]
    }
   ],
   "source": [
    "# Add your code here\n",
    "upper_gender = 'I borrowed his book and her pen'.replace('her','his').upper()\n",
    "print(upper_gender)"
   ]
  },
  {
   "cell_type": "markdown",
   "metadata": {},
   "source": [
    "### --Exercise--\n",
    "\n",
    "- Can you explain why, if we want to switch genders (he with she and vice versa), the following code does not yield the expected result?\n",
    "- Can you find a solution?"
   ]
  },
  {
   "cell_type": "code",
   "execution_count": null,
   "metadata": {
    "collapsed": true,
    "scrolled": true
   },
   "outputs": [],
   "source": [
    "print('he works at an office, she stays at home.'.replace('she','he').replace('he','she'))\n",
    "print('he works at an office, she stays at home.'.replace('he','she').replace('she','he'))"
   ]
  },
  {
   "cell_type": "code",
   "execution_count": 22,
   "metadata": {},
   "outputs": [
    {
     "data": {
      "text/plain": [
       "'she works at an office, he stays at home.'"
      ]
     },
     "execution_count": 22,
     "metadata": {},
     "output_type": "execute_result"
    }
   ],
   "source": [
    "# Add your code here\n",
    "'he works at an office, she stays at home.'.replace('she','__').replace('he','she').replace('__','he')"
   ]
  },
  {
   "cell_type": "markdown",
   "metadata": {},
   "source": [
    "# 2 Indexing and slicing"
   ]
  },
  {
   "cell_type": "markdown",
   "metadata": {},
   "source": [
    "Often we want to select a substring from a string value (or more generally a subset of elements from a collection). Python notation for **indexing** and **slicing** may be confusing at first, but very useful once you are familiar with it."
   ]
  },
  {
   "cell_type": "code",
   "execution_count": null,
   "metadata": {
    "collapsed": true
   },
   "outputs": [],
   "source": [
    "song = \"Naturkatastrophenkonzert\"\n",
    "print(song)"
   ]
  },
  {
   "cell_type": "markdown",
   "metadata": {},
   "source": [
    "As we know by now, such a piece of text (\"Naturkatastrophenkonzert\") is called a ``string`` in Python (cf. a **string of characters**). Strings in Python must always be enclosed with 'quotes' (either **single** or **double** quotes). *Without those quotes, Python will think it's dealing with the name of some variable that has been defined earlier because variable names never take quotes.* The following distinction is confusing, but extremely important (for this reason I repeat it here): variable names (without quotes) and string values (with quotes) look similar, but they serve a completely different purpose. Compare:"
   ]
  },
  {
   "cell_type": "code",
   "execution_count": null,
   "metadata": {
    "collapsed": true,
    "scrolled": true
   },
   "outputs": [],
   "source": [
    "name = \"Doris\"\n",
    "Doris = \"name\"\n",
    "D = \"D\"\n",
    "print(name)\n",
    "print (Doris)\n",
    "print(D)"
   ]
  },
  {
   "cell_type": "markdown",
   "metadata": {},
   "source": [
    "Now that you know the difference between variables and string values, we can inspect these strings further. Strings are called strings because they consist of a **series** (or ``'string'``) of **individual** characters. We can access these characters in Python with the help of **``'indexing'``** because each character in a string has a unique **``'index'``** (i.e. an integer that points to the position of the character). To print the first letter of the variable `song`, you can type:"
   ]
  },
  {
   "cell_type": "code",
   "execution_count": null,
   "metadata": {
    "collapsed": true
   },
   "outputs": [],
   "source": [
    "song_startswith = song[0]\n",
    "print(song)\n",
    "print(song_startswith)"
   ]
  },
  {
   "cell_type": "markdown",
   "metadata": {},
   "source": [
    " Or try:"
   ]
  },
  {
   "cell_type": "code",
   "execution_count": null,
   "metadata": {
    "collapsed": true
   },
   "outputs": [],
   "source": [
    "#print(\"Starts with: \",song_startwith)"
   ]
  },
  {
   "cell_type": "markdown",
   "metadata": {},
   "source": [
    "### How does indexing work exactly?\n",
    "\n",
    "![Indexes of the string Monty Python starting with 0](https://i.stack.imgur.com/vIKaD.png)\n",
    "Take a look at the string \"Monty Python\". We use the index **`0`** to access the **first** character in the string. This might seem odd, but all indexes in Python start at **zero**. Whenever you count in Python, you start at `0` instead of `1`. Note that the **space character** gets an index too, namely 5. This is something you will have to get used to!\n",
    "\n",
    "How to access the last letter of \"Naturkatastrophenkonzert\"? Python has a `len()` function, which tells you how many elements the sequence contains"
   ]
  },
  {
   "cell_type": "code",
   "execution_count": null,
   "metadata": {
    "collapsed": true
   },
   "outputs": [],
   "source": [
    "# get the length of the song variable \n",
    "len(song)"
   ]
  },
  {
   "cell_type": "markdown",
   "metadata": {},
   "source": [
    "Because you know the length of the song name you can ask for the last letter of \"Naturkatastrophenkonzert\": "
   ]
  },
  {
   "cell_type": "code",
   "execution_count": null,
   "metadata": {
    "collapsed": true
   },
   "outputs": [],
   "source": [
    "last_letter = song[len(song)]\n",
    "print(last_letter)"
   ]
  },
  {
   "cell_type": "markdown",
   "metadata": {},
   "source": [
    "Ouch, this raises an `IndexError`--again because we start counting at zero, not at one!"
   ]
  },
  {
   "cell_type": "markdown",
   "metadata": {
    "collapsed": true
   },
   "source": [
    "The example below offers a solution. Do you understand the following statement? Adapt it so it prints the last character of the `song` variable."
   ]
  },
  {
   "cell_type": "code",
   "execution_count": null,
   "metadata": {
    "collapsed": true
   },
   "outputs": [],
   "source": [
    "print(name[len(name)-1])"
   ]
  },
  {
   "cell_type": "markdown",
   "metadata": {},
   "source": [
    "It is rather inconvenient having to know how long our strings are if we want to find out what its last letter is. Python provides a simple way of accessing a string 'from the rear':"
   ]
  },
  {
   "cell_type": "code",
   "execution_count": null,
   "metadata": {
    "collapsed": true
   },
   "outputs": [],
   "source": [
    "# Exercise print the last letter of your name using a negative index\n",
    "last_letter = song[-1]\n",
    "print(last_letter)"
   ]
  },
  {
   "cell_type": "markdown",
   "metadata": {},
   "source": [
    "Now can you write some code that defines a variable `but_last_letter` and assigns to this variable the *one but last* letter of your name?"
   ]
  },
  {
   "cell_type": "code",
   "execution_count": null,
   "metadata": {
    "collapsed": true
   },
   "outputs": [],
   "source": [
    "name = # enter your name as a string"
   ]
  },
  {
   "cell_type": "code",
   "execution_count": null,
   "metadata": {
    "collapsed": true
   },
   "outputs": [],
   "source": [
    "but_last_letter = name[-2]\n",
    "print(but_last_letter)"
   ]
  },
  {
   "cell_type": "markdown",
   "metadata": {},
   "source": [
    "You're starting to become a real expert in indexing strings. Now, what if we would like to find out what the first two or three letters of our name are? In Python we can use so-called **'slice-indexes' or 'slices'** for short. To find the first two letters of our name we type in:"
   ]
  },
  {
   "cell_type": "code",
   "execution_count": null,
   "metadata": {
    "collapsed": true
   },
   "outputs": [],
   "source": [
    "first_two_letters = name[0:2]\n",
    "print(first_two_letters)"
   ]
  },
  {
   "cell_type": "markdown",
   "metadata": {},
   "source": [
    "The `0` index is optional, so we could just as well type in `name[:2]`. This says: take all characters of the  `name` variable until you reach index 2 (i.e. up to the third letter, but not including the third letter). We can also start at index 2 and leave the end index unspecified:"
   ]
  },
  {
   "cell_type": "code",
   "execution_count": null,
   "metadata": {
    "collapsed": true
   },
   "outputs": [],
   "source": [
    "without_first_two_letters = name[2:]\n",
    "print(without_first_two_letters)"
   ]
  },
  {
   "cell_type": "markdown",
   "metadata": {},
   "source": [
    "Because we did not specify the end index, Python continues until it reaches the end of our string. If we would like to find out what the last two letters of our name are, we can type in:"
   ]
  },
  {
   "cell_type": "code",
   "execution_count": null,
   "metadata": {
    "collapsed": true
   },
   "outputs": [],
   "source": [
    "last_two_letters = name[-2:]\n",
    "print(last_two_letters)"
   ]
  },
  {
   "cell_type": "markdown",
   "metadata": {},
   "source": [
    "### General Slice Syntax\n",
    "\n",
    "The more general form of the Python slicing syntax has the shape\n",
    "   \n",
    "   `object[start:stop:step]`\n",
    " \n",
    "Complete the three exercises below, to check if you properly understand this syntax."
   ]
  },
  {
   "cell_type": "code",
   "execution_count": 2,
   "metadata": {},
   "outputs": [
    {
     "name": "stdout",
     "output_type": "stream",
     "text": [
      "aprBee\n"
     ]
    }
   ],
   "source": [
    "# Exercise: print your name, but only the characters with an even index\n",
    "name =  'Kaspar Beelen'\n",
    "print(name[1::2])"
   ]
  },
  {
   "cell_type": "code",
   "execution_count": 3,
   "metadata": {},
   "outputs": [
    {
     "data": {
      "text/plain": [
       "'neleeB rapsaK'"
      ]
     },
     "execution_count": 3,
     "metadata": {},
     "output_type": "execute_result"
    }
   ],
   "source": [
    "# Exercise: what happens when you use a negative step without defining the start and end of the slice?\n",
    "name[::-1]"
   ]
  },
  {
   "cell_type": "code",
   "execution_count": 8,
   "metadata": {},
   "outputs": [
    {
     "name": "stdout",
     "output_type": "stream",
     "text": [
      "Kaspar Beelen\n"
     ]
    }
   ],
   "source": [
    "# Exercise: what happens if we apply [::] (or [:::]) to a variable?\n",
    "s = name[::]\n",
    "print(s)\n",
    "#p = name[:::] # raises an error\n",
    "#print(p)"
   ]
  },
  {
   "cell_type": "markdown",
   "metadata": {},
   "source": [
    "# 3. Iteration"
   ]
  },
  {
   "cell_type": "markdown",
   "metadata": {},
   "source": [
    "As should be clear by now, strings are a sequence of characters. With indexing and slicing, you can retrieve elements at specific positions and substrings located between two indices.\n",
    "\n",
    "But there is more: we can also iterate over the string, and do something with each character. For example, if we want to print a cat after each character in the word 'superCATifragilisticexpialidocious', we can use the following code:"
   ]
  },
  {
   "cell_type": "code",
   "execution_count": null,
   "metadata": {
    "collapsed": true
   },
   "outputs": [],
   "source": [
    "for char in 'superCATifragilisticexpialidocious':\n",
    "    print(char,\"🐱\")"
   ]
  },
  {
   "cell_type": "markdown",
   "metadata": {},
   "source": [
    "The `for` statement indicates iteration. It tells the program to do the same thing “for” each element of the string. Each item in the string is given the label `char`: i.e. initially num is 's', then `char` is 'u'. At each step we perform the same operation on `char`. You can think of a `for` loop as rummaging through a pile of books, take out one book, do something with it, put it somewhere else, take the next one, until the bottom of the pile."
   ]
  },
  {
   "cell_type": "markdown",
   "metadata": {},
   "source": [
    "`for` loops follow a simple structure:\n",
    "\n",
    "for `x` in `iterable`:\n",
    "\n",
    "    perform an operation on x"
   ]
  },
  {
   "cell_type": "markdown",
   "metadata": {},
   "source": [
    "`for` and `in` are the fixed parts of the iteration template. The name of the variable that will take the value of each items in the iterable (i.e. `char` or `x` in the above examples) is free, as long as it is used consistently."
   ]
  },
  {
   "cell_type": "code",
   "execution_count": null,
   "metadata": {
    "collapsed": true
   },
   "outputs": [],
   "source": [
    "for LALALALALALALALA in 'Kaspar':\n",
    "    print(LALALALALALALALA) "
   ]
  },
  {
   "cell_type": "markdown",
   "metadata": {},
   "source": [
    "You are **free to choose the name** of this variable, but it has to be consistent in the **indented** block below. The previous example works, but is not very convenient."
   ]
  },
  {
   "cell_type": "code",
   "execution_count": null,
   "metadata": {
    "collapsed": true
   },
   "outputs": [],
   "source": [
    "for char in 'Kaspar':\n",
    "    print(character) "
   ]
  },
  {
   "cell_type": "markdown",
   "metadata": {},
   "source": [
    "The preceding code yields a `NameError`, because 'character' is only defined if it **appears** between `for` and `in`."
   ]
  },
  {
   "cell_type": "markdown",
   "metadata": {},
   "source": [
    "`x` is the variable that will hold (i.e. take the value) of each element in the `iterable` object. As said earlier, it allows you to do something with each individual character in the string."
   ]
  },
  {
   "cell_type": "markdown",
   "metadata": {},
   "source": [
    "We can make a program that will print only vowels and censor the consonants, using the membership operator and `if ... else` condition (something we study in more detail later)"
   ]
  },
  {
   "cell_type": "code",
   "execution_count": null,
   "metadata": {
    "collapsed": true
   },
   "outputs": [],
   "source": [
    "word = 'superCATifragilisticexpialidocious'\n",
    "for char in word:\n",
    "    if char in 'aeuio':\n",
    "        print(char)\n",
    "    else:\n",
    "        print('-')"
   ]
  },
  {
   "cell_type": "markdown",
   "metadata": {},
   "source": [
    "We can make it look a bit cooler, by tweaking the print function (don't worry about what is happening here)"
   ]
  },
  {
   "cell_type": "code",
   "execution_count": null,
   "metadata": {
    "collapsed": true
   },
   "outputs": [],
   "source": [
    "word = 'supercatifragilisticexpialidocious'\n",
    "for char in word:\n",
    "    if char in 'aeuio':\n",
    "        print(char,end='',flush=True)\n",
    "    else:\n",
    "        print('-',end='',flush=True)\n",
    "        "
   ]
  },
  {
   "cell_type": "markdown",
   "metadata": {},
   "source": [
    "## --Exercise--\n",
    "\n",
    "Write a program that replaces vowels with cat emoticons and prints only consonants. Print it nicely on one line.\n",
    "\n",
    "*HINT*: Change the previous code, but use `not` before `in`, i.e. `not in`"
   ]
  },
  {
   "cell_type": "code",
   "execution_count": 10,
   "metadata": {},
   "outputs": [
    {
     "name": "stdout",
     "output_type": "stream",
     "text": [
      "s🐱p🐱rc🐱t🐱fr🐱g🐱l🐱st🐱c🐱xp🐱🐱l🐱d🐱c🐱🐱🐱s"
     ]
    }
   ],
   "source": [
    "word = 'supercatifragilisticexpialidocious'\n",
    "for char in word:\n",
    "    if not char in 'aeuio':\n",
    "        print(char,end='',flush=True)\n",
    "    else:\n",
    "        print('🐱',end='',flush=True)\n",
    "        "
   ]
  },
  {
   "cell_type": "markdown",
   "metadata": {},
   "source": [
    "## --Exercise--\n",
    "\n",
    "Make a program the opens Alice (the short version). and makes it look Swedish by \n",
    "- replacing e with ur\n",
    "- replacing aeo with ö.\n",
    "\n",
    "**HINT**: Use two following sequence of conditional statements.\n",
    "\n",
    " ``    \n",
    "if ...:\n",
    "elif ...:\n",
    "else:\n",
    "      ...``"
   ]
  },
  {
   "cell_type": "code",
   "execution_count": 11,
   "metadata": {},
   "outputs": [
    {
     "name": "stdout",
     "output_type": "stream",
     "text": [
      "ALICE wös böginning tö göt vöry tiröd öf sitting by hör\n",
      "sistör ön thö bönk, önd öf höving nöthing tö dö: öncö ör twicö shö höd\n",
      "pööpöd intö thö böök hör sistör wös rööding, but it höd nö picturös ör\n",
      "cönvörsötiöns in it, \"önd whöt is thö usö öf ö böök,\" thöught Alicö,\n",
      "\"withöut picturös ör cönvörsötiöns?\"\n",
      "\n",
      "Sö shö wös cönsidöring in hör öwn mind (ös wöll ös shö cöuld, för thö\n",
      "höt döy mödö hör fööl vöry slööpy önd stupid) whöthör thö plöösurö öf\n",
      "möking ö döisy-chöin wöuld bö wörth thö tröublö öf götting up önd\n",
      "picking thö döisiös, whön suddönly ö Whitö Röbbit with pink öyös rön\n",
      "clösö by hör.\n",
      "\n",
      "Thörö wös nöthing sö _vöry_ römörköblö in thöt; nör did Alicö think it\n",
      "sö _vöry_ much öut öf thö wöy tö höör thö Röbbit söy tö itsölf, \"Oh\n",
      "döör! Oh döör! I shöll bö töö lötö!\" (whön shö thöught it övör\n",
      "öftörwörds, it öccurröd tö hör thöt shö öught tö hövö wöndöröd öt this,\n",
      "but öt thö timö it öll söömöd quitö nöturöl); but whön thö Röbbit\n",
      "öctuölly _töök ö wötch öut öf its wöistcööt-pöcköt_, önd löököd öt it,\n",
      "önd thön hurriöd ön, Alicö störtöd tö hör fööt, för it flöshöd öcröss\n",
      "hör mind thöt shö höd növör böförö söön ö röbbit with öithör ö\n",
      "wöistcööt-pöcköt, ör ö wötch tö tökö öut öf it, önd burning with\n",
      "curiösity, shö rön öcröss thö fiöld öftör it, önd wös just in timö tö\n",
      "söö it pöp döwn ö lörgö röbbit-hölö undör thö hödgö."
     ]
    }
   ],
   "source": [
    "text = open('alice.txt').read()\n",
    "for i in text:\n",
    "    if i in 'aeo':\n",
    "        print('ö',end='',flush=True)\n",
    "    elif i == 'e':\n",
    "         print('ur',end='',flush=True)\n",
    "    else:\n",
    "        print(i,end='',flush=True)"
   ]
  },
  {
   "cell_type": "markdown",
   "metadata": {
    "collapsed": true
   },
   "source": [
    "### --Exercise--\n",
    "\n",
    "Can you obtain the same result with .replace()?"
   ]
  },
  {
   "cell_type": "code",
   "execution_count": 14,
   "metadata": {},
   "outputs": [
    {
     "name": "stdout",
     "output_type": "stream",
     "text": [
      "ALICE wös böginning tö göt vöry tiröd öf sitting by hör\n",
      "sistör ön thö bönk, önd öf höving nöthing tö dö: öncö ör twicö shö höd\n",
      "pööpöd intö thö böök hör sistör wös rööding, but it höd nö picturös ör\n",
      "cönvörsötiöns in it, \"önd whöt is thö usö öf ö böök,\" thöught Alicö,\n",
      "\"withöut picturös ör cönvörsötiöns?\"\n",
      "\n",
      "Sö shö wös cönsidöring in hör öwn mind (ös wöll ös shö cöuld, för thö\n",
      "höt döy mödö hör fööl vöry slööpy önd stupid) whöthör thö plöösurö öf\n",
      "möking ö döisy-chöin wöuld bö wörth thö tröublö öf götting up önd\n",
      "picking thö döisiös, whön suddönly ö Whitö Röbbit with pink öyös rön\n",
      "clösö by hör.\n",
      "\n",
      "Thörö wös nöthing sö _vöry_ römörköblö in thöt; nör did Alicö think it\n",
      "sö _vöry_ much öut öf thö wöy tö höör thö Röbbit söy tö itsölf, \"Oh\n",
      "döör! Oh döör! I shöll bö töö lötö!\" (whön shö thöught it övör\n",
      "öftörwörds, it öccurröd tö hör thöt shö öught tö hövö wöndöröd öt this,\n",
      "but öt thö timö it öll söömöd quitö nöturöl); but whön thö Röbbit\n",
      "öctuölly _töök ö wötch öut öf its wöistcööt-pöcköt_, önd löököd öt it,\n",
      "önd thön hurriöd ön, Alicö störtöd tö hör fööt, för it flöshöd öcröss\n",
      "hör mind thöt shö höd növör böförö söön ö röbbit with öithör ö\n",
      "wöistcööt-pöcköt, ör ö wötch tö tökö öut öf it, önd burning with\n",
      "curiösity, shö rön öcröss thö fiöld öftör it, önd wös just in timö tö\n",
      "söö it pöp döwn ö lörgö röbbit-hölö undör thö hödgö.\n"
     ]
    }
   ],
   "source": [
    "print(text.replace('a','ö').replace('e','ö').replace('o','ö').replace('e','ur'))"
   ]
  },
  {
   "cell_type": "markdown",
   "metadata": {},
   "source": [
    "# 4. Lists"
   ]
  },
  {
   "cell_type": "markdown",
   "metadata": {},
   "source": [
    "Consider the first sentence (represented as a string) from Franz Kafka's book 'The Trial'. Imagine for a moment that we have assigned the whole book to the `trial` variable."
   ]
  },
  {
   "cell_type": "code",
   "execution_count": null,
   "metadata": {
    "collapsed": true
   },
   "outputs": [],
   "source": [
    "trial = \"Someone must have slandered Josef K., for one morning, without having done anything truly wrong, he was arrested. \""
   ]
  },
  {
   "cell_type": "markdown",
   "metadata": {},
   "source": [
    "How can we select specific words from this book? It may seem more natural for humans to describe it as a series of words, rather than as a series of characters. Say, we want to access the first word in our sentence. If we enter:"
   ]
  },
  {
   "cell_type": "code",
   "execution_count": null,
   "metadata": {
    "collapsed": true
   },
   "outputs": [],
   "source": [
    "first_word = trial[0]\n",
    "print(first_word)"
   ]
  },
  {
   "cell_type": "markdown",
   "metadata": {},
   "source": [
    "**`split()` converts this string to a list of words.**\n",
    "\n",
    "Python only prints the first character of our sentence. (Think about this if you do not understand why.) We can, however, transform our sentence into a list of words (represented by strings) using the split() function as follows:"
   ]
  },
  {
   "cell_type": "code",
   "execution_count": null,
   "metadata": {
    "collapsed": true
   },
   "outputs": [],
   "source": [
    "words = trial.split()\n",
    "print(words)"
   ]
  },
  {
   "cell_type": "markdown",
   "metadata": {},
   "source": [
    "The variable `trial` now holds the first line of Kafka's Trial as a **list**. Each element in this list is now (approximately) a word. Run the code below to see the difference."
   ]
  },
  {
   "cell_type": "code",
   "execution_count": null,
   "metadata": {
    "collapsed": true
   },
   "outputs": [],
   "source": [
    "first_word = words[0]\n",
    "print(first_word)"
   ]
  },
  {
   "cell_type": "markdown",
   "metadata": {},
   "source": [
    "We apply the `split()` function to the variable `trial` and we assign the result of the function (we call this the 'return value' of the function) to the new variable `words`. "
   ]
  },
  {
   "cell_type": "markdown",
   "metadata": {},
   "source": [
    "### --Exercise--\n",
    "Split the first line of Genesis and assign the list to the variable `bible`\n",
    "\"In the beginning God created the heaven and the earth.\""
   ]
  },
  {
   "cell_type": "code",
   "execution_count": 15,
   "metadata": {},
   "outputs": [
    {
     "name": "stdout",
     "output_type": "stream",
     "text": [
      "['In', 'the', 'beginning', 'God', 'created', 'the', 'heaven', 'and', 'the', 'earth.']\n"
     ]
    }
   ],
   "source": [
    "# add your code here\n",
    "first_sent = \"In the beginning God created the heaven and the earth.\".split()\n",
    "print(first_sent)"
   ]
  },
  {
   "cell_type": "markdown",
   "metadata": {},
   "source": [
    "**`split()` takes other delimiters as arguments.**\n",
    "\n",
    "By default, the split() function in Python will split strings on the **spaces** between words (and it will return a list of words). However, we can pass an **argument** to `split()` that specifies explicitly the string we would like to split on. \n",
    "\n",
    "This is often useful for **parsing** information from a CSV file (or other structured data). For example, the line below has the structure of the [Google Ngram](https://books.google.com/ngrams). The Ngram Viewer allows the researcher to explore long-term cultural [trends](https://books.google.com/ngrams/graph?content=king%2C+queen&case_insensitive=on&year_start=1800&year_end=2000&corpus=15&smoothing=3&share=&direct_url=t4%3B%2Cking%3B%2Cc0%3B%2Cs0%3B%3Bking%3B%2Cc0%3B%3BKing%3B%2Cc0%3B%3BKING%3B%2Cc0%3B.t4%3B%2Cqueen%3B%2Cc0%3B%2Cs0%3B%3BQueen%3B%2Cc0%3B%3Bqueen%3B%2Cc0%3B%3BQUEEN%3B%2Cc0). The source data of this corpus comprises the yearly word and document frequencies for ~ 5 million books printed between 1500 and 2008. The lines are separated by hard returns (\"\\n\"). Each line holds four elements: word, year, word frequency, document frequency.\n",
    "\n",
    "Using the split function, we can easily **parse** this file, i.e. recognize and read its content. First, we split the string by their \"\\n\" and then each line by their \"\\t\" which stands for a \"tab\".\n",
    "\n",
    "In the code block below, we will split a string on tabs, instead of spaces. Do you get the syntax?"
   ]
  },
  {
   "cell_type": "markdown",
   "metadata": {},
   "source": [
    "### --Exercise--\n",
    "\n",
    "Parse the CSV data stored in `google_ngram`. Complete the code below."
   ]
  },
  {
   "cell_type": "code",
   "execution_count": null,
   "metadata": {
    "collapsed": true
   },
   "outputs": [],
   "source": [
    "# note the `\\n` symbol\n",
    "google_ngram = \"queen\\t1900\\t20394\\t3435\\nqueen\\t1901\\t23340\\t2935\\nqueen\\t1902\\t23120\\t3035\"\n",
    "print(google_ngram)\n",
    "google_ngram = google_ngram.split() # complete code here\n",
    "print(google_ngram)\n",
    "first_line = google_ngram[0]\n",
    "print(first_line.split()) # complete code here"
   ]
  },
  {
   "cell_type": "markdown",
   "metadata": {},
   "source": [
    ".split() acts on a string and evaluates to a list. But you can also manually create a list. We can  create lists by enclosing the individual items within square brackets, separated by a comma."
   ]
  },
  {
   "cell_type": "code",
   "execution_count": null,
   "metadata": {
    "collapsed": true
   },
   "outputs": [],
   "source": [
    "my_grades = [8,9,6,7]\n",
    "print(my_grades)\n",
    "my_garbage = ['Potatoe',[1,2,3],9.03434,'frogs']\n",
    "print(my_garbage)"
   ]
  },
  {
   "cell_type": "markdown",
   "metadata": {},
   "source": [
    "### General rules:\n",
    "* Lists are surrounded by square brackets and the elements in the list are separated by commas\n",
    "* A list element can be **any Python object** - even another list (e.g. * List can be a collection of numbers, strings, floats (or a combination thereof))\n",
    "* A list can store values with different types\n",
    "* A list can be empty"
   ]
  },
  {
   "cell_type": "markdown",
   "metadata": {},
   "source": [
    "### --Exercise--\n",
    "\n",
    "Create a list that contains three objects."
   ]
  },
  {
   "cell_type": "code",
   "execution_count": null,
   "metadata": {
    "collapsed": true
   },
   "outputs": [],
   "source": [
    "# add your code here\n",
    "three_objects = [1,'apple',2.3]"
   ]
  },
  {
   "cell_type": "markdown",
   "metadata": {},
   "source": [
    "Similar to strings, we can retrieve elements by their index or extract slices."
   ]
  },
  {
   "cell_type": "code",
   "execution_count": null,
   "metadata": {
    "collapsed": true
   },
   "outputs": [],
   "source": [
    "grades = '9,2,3,4,5,6,6,9'\n",
    "grades_splitted = grades.split(',')\n",
    "print(grades_splitted)"
   ]
  },
  {
   "cell_type": "code",
   "execution_count": null,
   "metadata": {
    "collapsed": true
   },
   "outputs": [],
   "source": [
    "print(grades_splitted[0])\n",
    "print(grades_splitted[-1])\n",
    "print(grades_splitted[3:7])"
   ]
  },
  {
   "cell_type": "markdown",
   "metadata": {},
   "source": [
    "## Asking questions to lists\n",
    "\n",
    "You can use lists in **membership boolean expressions** (See Notebook 2.2). The `in` operator checks whether the item 'God' appears in the variable `bible`."
   ]
  },
  {
   "cell_type": "code",
   "execution_count": null,
   "metadata": {
    "collapsed": true
   },
   "outputs": [],
   "source": [
    "bible = ['In', 'the', 'beginning', 'God', 'created', 'the', 'heaven', 'and', 'the', 'earth.']\n",
    "print('God' in bible)"
   ]
  },
  {
   "cell_type": "markdown",
   "metadata": {},
   "source": [
    "This is often useful for checking if a text contains a specific word. For sure, the line below returns the same result."
   ]
  },
  {
   "cell_type": "code",
   "execution_count": null,
   "metadata": {
    "collapsed": true
   },
   "outputs": [],
   "source": [
    "'God' in 'In the beginning God created the heaven and the earth.'"
   ]
  },
  {
   "cell_type": "markdown",
   "metadata": {},
   "source": [
    "But it matches the string **not** the \"word\"!"
   ]
  },
  {
   "cell_type": "code",
   "execution_count": null,
   "metadata": {
    "collapsed": true
   },
   "outputs": [],
   "source": [
    "print('God' in 'My Godess created the heaven and the earth.')\n",
    "print('God' in ['My', 'Godess', 'created', 'the', 'heaven', 'and', 'the', 'earth.'])"
   ]
  },
  {
   "cell_type": "markdown",
   "metadata": {},
   "source": [
    "Explain to yourself why the first expression evaluates to `True` while the latter returns `False`."
   ]
  },
  {
   "cell_type": "code",
   "execution_count": null,
   "metadata": {
    "collapsed": true
   },
   "outputs": [],
   "source": [
    "# add your answer here"
   ]
  },
  {
   "cell_type": "markdown",
   "metadata": {},
   "source": [
    "### Counting"
   ]
  },
  {
   "cell_type": "code",
   "execution_count": null,
   "metadata": {
    "collapsed": true
   },
   "outputs": [],
   "source": [
    "['a','b','a','c','a','aa'].count('a')"
   ]
  },
  {
   "cell_type": "markdown",
   "metadata": {},
   "source": [
    "### --Exercise--\n",
    "\n",
    "- Load Alice and Dorian Gray into your Notebook.\n",
    "- Split the string into \"words\".\n",
    "- Count how often the article (i.e. everything between spaces) \"a\" and \"the\" appear in Alice. Do the same for Dorian Gray. \n",
    "- Do not forget to lowercase!\n",
    "- Divide the frequency of the \"a\" and \"the\" by the total number of words.\n",
    "- What does this number mean?"
   ]
  },
  {
   "cell_type": "code",
   "execution_count": 17,
   "metadata": {},
   "outputs": [
    {
     "name": "stdout",
     "output_type": "stream",
     "text": [
      "0.02315781759554432 0.05994650250998498\n",
      "0.020913029159172092 0.04728548628176222\n"
     ]
    }
   ],
   "source": [
    "alice = open('fulltext/alice.txt','r').read()\n",
    "gray = open('fulltext/gray.txt').read()\n",
    "\n",
    "alice_lower = alice.lower()\n",
    "gray_lower = gray.lower()\n",
    "\n",
    "alice_lower_split = alice_lower.split()\n",
    "gray_lower_split = gray_lower.split()\n",
    "\n",
    "alice_a_prop = alice_lower_split.count('a') / len(alice_lower_split)\n",
    "alice_the_prop = alice_lower_split.count('the') / len(alice_lower_split)\n",
    "\n",
    "print(alice_a_prop,alice_the_prop)\n",
    "\n",
    "gray_a_prop = gray_lower_split.count('a') / len(gray_lower_split)\n",
    "gray_the_prop = gray_lower_split.count('the') / len(gray_lower_split)\n",
    "\n",
    "print(gray_a_prop,gray_the_prop)"
   ]
  },
  {
   "cell_type": "markdown",
   "metadata": {},
   "source": [
    "### --Exercise--\n",
    "\n",
    "Try to understand the code below; try to understand what happens at each line and recreate the code by yourself (i.e. without looking at the example). Congratulations you build your first search script!"
   ]
  },
  {
   "cell_type": "code",
   "execution_count": null,
   "metadata": {
    "collapsed": true
   },
   "outputs": [],
   "source": [
    "import requests\n",
    "url = 'https://labrosa.ee.columbia.edu/millionsong/sites/default/files/AdditionalFiles/tracks_per_year.txt'\n",
    "#small data set for those with a slower laptop/computer\n",
    "#url = ‘https://raw.githubusercontent.com/kasparvonbeelen/Coding-the-Humanities/master/lecture2/subsample.txt’\n"
   ]
  },
  {
   "cell_type": "code",
   "execution_count": null,
   "metadata": {
    "collapsed": true
   },
   "outputs": [],
   "source": [
    "data = requests.get(url).text.strip() \n",
    "song_titles = data.split('\\n')\n",
    "search = 'jude'\n",
    "for row in song_titles:\n",
    "    row_splitted = row.lower().split()\n",
    "    if search in row_splitted:\n",
    "        print(row)"
   ]
  }
 ],
 "metadata": {
  "kernelspec": {
   "display_name": "Python 3",
   "language": "python",
   "name": "python3"
  },
  "language_info": {
   "codemirror_mode": {
    "name": "ipython",
    "version": 3
   },
   "file_extension": ".py",
   "mimetype": "text/x-python",
   "name": "python",
   "nbconvert_exporter": "python",
   "pygments_lexer": "ipython3",
   "version": "3.6.3"
  }
 },
 "nbformat": 4,
 "nbformat_minor": 1
}
