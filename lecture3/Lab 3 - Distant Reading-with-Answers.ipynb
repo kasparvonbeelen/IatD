{
 "cells": [
  {
   "cell_type": "markdown",
   "metadata": {},
   "source": [
    "# Lab 3 - Distant Reading with Python"
   ]
  },
  {
   "cell_type": "markdown",
   "metadata": {},
   "source": [
    "## Hello\n",
    "**[Kaspar](https://arxiv.org/abs/1511.02301)**"
   ]
  },
  {
   "cell_type": "markdown",
   "metadata": {},
   "source": [
    "## Demo Cell"
   ]
  },
  {
   "cell_type": "code",
   "execution_count": null,
   "metadata": {
    "collapsed": true
   },
   "outputs": [],
   "source": [
    "data = open('alice.txt','r').read()\n",
    "#data\n",
    "import nltk\n",
    "data.split()"
   ]
  },
  {
   "cell_type": "code",
   "execution_count": null,
   "metadata": {
    "collapsed": true
   },
   "outputs": [],
   "source": [
    "#-Distant Reading\n",
    "# -Preprocessing\n",
    "#print('Hello, World'.lower())\n",
    "\n",
    "# --------- #\n",
    "#\n",
    "\n",
    "#-Pipeline: Reading and writing data\n",
    "#lowercased = 'Hello, World!'.lower() # input and lowercase\n",
    "#print(lowercased) # print the variable\n",
    "#output = open('hello.txt','w') # create a new document\n",
    "#output.write(lowercased) # write information to file\n",
    "#output.close() # close file\n",
    "\n",
    "# --------- #\n",
    "\n",
    "#-splitting strings into words\n",
    "#print('Hello, World!'.split())\n",
    "#from nltk.tokenize import word_tokenize # import the tokenization tool\n",
    "#tokens = word_tokenize(data) # tokenize string\n",
    "#print(tokens) # print tokens\n",
    "\n",
    "# --------- #\n",
    "\n",
    "#-Counting words\n",
    "#from collections import Counter\n",
    "#wordfreq = Counter(tokens)\n",
    "#print(wordfreq)\n",
    "#print(wordfreq['hello'])\n",
    "#print(Counter(tokens).most_common(100))\n",
    "# --------- #\n",
    "\n",
    "#-Transforming a string to an NLTK Text object\n",
    "#import nltk\n",
    "#hello_nlkt = nltk.text.Text(tokens)\n",
    "#print(type(tokens))\n",
    "#print(type(hello_nlkt))\n",
    "\n",
    "# -------- #\n",
    "\n",
    "#-Demo other tools: word clouds, keyword extraction, sentiment"
   ]
  },
  {
   "cell_type": "markdown",
   "metadata": {},
   "source": [
    "## 1. What is Distant Reading?\n",
    "- Processing content \"without engaging in the reading of the text\". [(J. Drucker)](http://dh101.humanities.ucla.edu/?page_id=62). \n",
    "- (Data) Mining as the new reading. Data as an entry point to culture and politics.\n",
    "- Expose patterns that human readers fail to notice (zoom-techniques).\n",
    "- **\"Hackability of texts\"** ([Ray Siemens, Algorithmic Criticism](https://onlinelibrary.wiley.com/doi/pdf/10.1002/9781405177504.ch26)): Creating new interpretations by radically transforming texts\n",
    "    - Computational tools assist the critic in the unfolding of interpretive possibilities, e.g word counting, KWIC, collocation analysis;\n",
    "    - Algorithmic transformation can provide alternative visions on a text. A computer carries out transformations in a rigidly holistic manner;\n",
    "    - Expanded powers of observation."
   ]
  },
  {
   "cell_type": "markdown",
   "metadata": {},
   "source": [
    "## 1.1. Materials "
   ]
  },
  {
   "cell_type": "markdown",
   "metadata": {},
   "source": [
    "### 1.1.1 Data"
   ]
  },
  {
   "cell_type": "markdown",
   "metadata": {},
   "source": [
    "- [Hillary Clinton emails](https://www.kaggle.com/kaggle/hillary-clinton-emails)\n",
    "- [The Complete Works of William Shakespeare](http://www.gutenberg.org/files/100/100-0.txt)"
   ]
  },
  {
   "cell_type": "markdown",
   "metadata": {},
   "source": [
    "### 1.1.2 Installing the Python tools"
   ]
  },
  {
   "cell_type": "markdown",
   "metadata": {},
   "source": [
    "Many of the examples below are taken from the [NLTK book](http://www.nltk.org/book/) Before we start, we should install the required materials. Run the cells below to install the tools and corpora. This can take a minute..."
   ]
  },
  {
   "cell_type": "code",
   "execution_count": null,
   "metadata": {
    "collapsed": true
   },
   "outputs": [],
   "source": [
    "# import NLTK and install a required data\n",
    "import nltk\n",
    "nltk.download('book')"
   ]
  },
  {
   "cell_type": "markdown",
   "metadata": {},
   "source": [
    "Please also run the cells below to install the additional material."
   ]
  },
  {
   "cell_type": "code",
   "execution_count": null,
   "metadata": {
    "collapsed": true
   },
   "outputs": [],
   "source": [
    "# installing a word cloud library\n",
    "!pip install wordcloud"
   ]
  },
  {
   "cell_type": "code",
   "execution_count": null,
   "metadata": {
    "collapsed": true
   },
   "outputs": [],
   "source": [
    "#!pip install rake-nltk\n",
    "!pip install python-rake"
   ]
  },
  {
   "cell_type": "markdown",
   "metadata": {},
   "source": [
    "## 2 Preprocessing\n",
    "\n",
    "In what follows we have a closer look at some of the common steps of the **data mining pipeline**. How to go from **\"raw\"** input to **insights**.\n",
    "\n",
    "The first step is loading data into Python. To open the original data we use the Pandas library (to which we turn later in this course). For now, just run the code and inspect the output.\n",
    "\n",
    "The cell below opens a document that contains the Clinton emails. Clinon's private emails were released by the State Department and contain around 7,000 pages of Clinton's heavily redacted emails (its biggest release of emails to date). The code on the third line prints the first five rows of the Clinton email dataset."
   ]
  },
  {
   "cell_type": "code",
   "execution_count": null,
   "metadata": {
    "collapsed": true
   },
   "outputs": [],
   "source": [
    "import pandas\n",
    "hillary = pandas.read_csv('./data/Emails_sorted.csv',header=0)\n",
    "hillary.head(5)"
   ]
  },
  {
   "cell_type": "markdown",
   "metadata": {},
   "source": [
    "### --Exercise--\n",
    "\n",
    "Read carefully the output above. What information does each column contain? Do you understand the structure of the table?"
   ]
  },
  {
   "cell_type": "markdown",
   "metadata": {},
   "source": [
    "For the purpose of this Lab session, we only look at the `ExtractedBodyText`. We save it in a separate document.\n",
    "\n",
    "We paste together all information in the `ExtractedBodyText` column using `.join` (you can ignore the syntax for now, just remember that `output_data` now contains all extracted body text.)."
   ]
  },
  {
   "cell_type": "code",
   "execution_count": null,
   "metadata": {
    "collapsed": true
   },
   "outputs": [],
   "source": [
    "output_data = '\\n'.join(hillary[~hillary.ExtractedBodyText.isnull()].ExtractedBodyText)"
   ]
  },
  {
   "cell_type": "markdown",
   "metadata": {},
   "source": [
    "Then we write the data to a file with the name 'hillary.txt'. The syntax is similar to reading data from disk, but notice that:\n",
    "1. We change the second argument (of the `open` function)from 'r' to 'w' (from read to write). \n",
    "2. Instead of `.read()`  we apply the `.write()` method. The data we want to write is given as an argument to (i.e. put between parenthesis) to the `.write` method.\n",
    "3. After storing our information, we close the file."
   ]
  },
  {
   "cell_type": "code",
   "execution_count": null,
   "metadata": {
    "collapsed": true
   },
   "outputs": [],
   "source": [
    "import codecs\n",
    "output_document = codecs.open('hillary.txt','w',encoding='utf-8') # create a document where to write the information\n",
    "output_document.write(output_data) # write output_data to the output_document\n",
    "output_document.close() # close the output document"
   ]
  },
  {
   "cell_type": "markdown",
   "metadata": {},
   "source": [
    "### --Exercise--\n",
    "\n",
    "1. Create a new variable `my_sent` and assign it to string value;\n",
    "2. Open a document with the name `my_doc.txt`;\n",
    "3. Write `my_sent` to `my_doc.txt`;\n",
    "4. Close the file."
   ]
  },
  {
   "cell_type": "code",
   "execution_count": null,
   "metadata": {
    "collapsed": true
   },
   "outputs": [],
   "source": [
    "# insert your code here\n",
    "my_sent = 'Trade war as it threatens to unsettle global economy.'\n",
    "output = open('my_doc.txt','w')\n",
    "output.write(my_sent)\n",
    "output.close()"
   ]
  },
  {
   "cell_type": "markdown",
   "metadata": {},
   "source": [
    "### --Exercise--\n",
    "\n",
    "Open the file 'shakespeare.txt', which is stored in the 'data' folder (i.e. use './data/shakespeare.txt' as path). \n",
    "\n",
    "Assign the complete works to a variable with the name `shakespeare_complete`."
   ]
  },
  {
   "cell_type": "code",
   "execution_count": null,
   "metadata": {
    "collapsed": true
   },
   "outputs": [],
   "source": [
    "# insert your code here\n",
    "shakespeare_complete = open('./data/shakespeare.txt').read()"
   ]
  },
  {
   "cell_type": "markdown",
   "metadata": {},
   "source": [
    "### 2.1 Lowercasing"
   ]
  },
  {
   "cell_type": "markdown",
   "metadata": {
    "collapsed": true
   },
   "source": [
    "Performing analytics to text objecs, often boils down to counting--counting words, to be precise. But what constitutes a word? Which distinctions do we want to retain? "
   ]
  },
  {
   "cell_type": "markdown",
   "metadata": {},
   "source": [
    "### --Exercise--"
   ]
  },
  {
   "cell_type": "markdown",
   "metadata": {},
   "source": [
    "Consider the following text fragment and compare the output of the `Counter` function. \n",
    "- How to interpret the output of `Counter()`?\n",
    "- What is the effect of the `.split()` method?\n",
    "- How does lowercasing change the results?"
   ]
  },
  {
   "cell_type": "code",
   "execution_count": null,
   "metadata": {
    "collapsed": true
   },
   "outputs": [],
   "source": [
    "from collections import Counter # we need to import Counter explicitly, it is not part of Python's standard library\n",
    "text = 'Hello hello I exchanged an Apple for an apple' # assign the example text to text"
   ]
  },
  {
   "cell_type": "code",
   "execution_count": null,
   "metadata": {
    "collapsed": true
   },
   "outputs": [],
   "source": [
    "Counter(text)"
   ]
  },
  {
   "cell_type": "code",
   "execution_count": null,
   "metadata": {
    "collapsed": true
   },
   "outputs": [],
   "source": [
    "Counter(text.lower())"
   ]
  },
  {
   "cell_type": "code",
   "execution_count": null,
   "metadata": {
    "collapsed": true
   },
   "outputs": [],
   "source": [
    "Counter(text.lower().split())"
   ]
  },
  {
   "cell_type": "code",
   "execution_count": null,
   "metadata": {
    "collapsed": true
   },
   "outputs": [],
   "source": [
    "Counter(text.split())"
   ]
  },
  {
   "cell_type": "markdown",
   "metadata": {},
   "source": [
    "As you see, without lowercasing we keep the distinction between the company and the fruit, but also count Hello and hello as two different words, even though treating them as the same would make more sense. \n",
    "\n",
    "There is no 'right' or 'wrong' in this case; it ultimately depends on your research question, but be aware the subtle choices have an effect on your results."
   ]
  },
  {
   "cell_type": "markdown",
   "metadata": {},
   "source": [
    "### 2.2 Word Tokenization"
   ]
  },
  {
   "cell_type": "markdown",
   "metadata": {},
   "source": [
    "As alluded to earlier, 'tokens' are the minimal units for the machine to process. We often simply equate **tokens with words**, which, in turn, were defined as everything between two whitespaces--but the relationship is more complex. "
   ]
  },
  {
   "cell_type": "markdown",
   "metadata": {},
   "source": [
    "### --Exercise--\n",
    "\n",
    "The simplest way to count tokens is to treat everything between white spaces as one token. To test this approach, first lowercase and then `.split()` the sentence below. After these steps, count the tokens (using the `Counter` function from above). "
   ]
  },
  {
   "cell_type": "code",
   "execution_count": null,
   "metadata": {
    "collapsed": true
   },
   "outputs": [],
   "source": [
    "from collections import Counter\n",
    "sentence =  \"On the 12th of August, 18-- (just three days after my tenth birthday, when I had been given such wonderful presents), I was awakened at seveno’clock in the morning by Karl Ivanitch slapping the wall close to my head with a fly-flap made of sugar paper and a stick.\"\n",
    "# insert your code here\n",
    "sent_lowercased = sentence.lower()\n",
    "words = sent_lowercased.split()\n",
    "Counter(words)"
   ]
  },
  {
   "cell_type": "markdown",
   "metadata": {},
   "source": [
    "Clearly, such a rudimentary method does not suffice. Luckily, NLTK comes with many ready-made tools for splitting strings neatly into tokens. Again we have to import some external tools, in this case the `word_tokenize` function. We apply it to the first sentence of Tolstoy's \"Childhood\"."
   ]
  },
  {
   "cell_type": "code",
   "execution_count": null,
   "metadata": {
    "collapsed": true
   },
   "outputs": [],
   "source": [
    "from nltk.tokenize import word_tokenize"
   ]
  },
  {
   "cell_type": "code",
   "execution_count": null,
   "metadata": {
    "collapsed": true
   },
   "outputs": [],
   "source": [
    "sentence = \"On the 12th of August, 18-- (just three days after my tenth birthday, when I had been given such wonderful presents), I was awakened at seveno’clock in the morning by Karl Ivanitch slapping the wall close to my head with a fly-flap made of sugar paper and a stick.\""
   ]
  },
  {
   "cell_type": "code",
   "execution_count": null,
   "metadata": {
    "collapsed": true
   },
   "outputs": [],
   "source": [
    "print(word_tokenize(sentence))"
   ]
  },
  {
   "cell_type": "markdown",
   "metadata": {},
   "source": [
    "There is not one \"correct\" method for tokenizing texts. Therefore, NLTK comes with many different tokenizers. What are their differences?"
   ]
  },
  {
   "cell_type": "code",
   "execution_count": null,
   "metadata": {
    "collapsed": true
   },
   "outputs": [],
   "source": [
    "from nltk.tokenize import regexp_tokenize, wordpunct_tokenize"
   ]
  },
  {
   "cell_type": "code",
   "execution_count": null,
   "metadata": {
    "collapsed": true
   },
   "outputs": [],
   "source": [
    "print(sentence.split())"
   ]
  },
  {
   "cell_type": "code",
   "execution_count": null,
   "metadata": {
    "collapsed": true
   },
   "outputs": [],
   "source": [
    "print(regexp_tokenize(sentence, pattern='\\w+'))"
   ]
  },
  {
   "cell_type": "code",
   "execution_count": null,
   "metadata": {
    "collapsed": true
   },
   "outputs": [],
   "source": [
    "print(wordpunct_tokenize(sentence))"
   ]
  },
  {
   "cell_type": "markdown",
   "metadata": {},
   "source": [
    "### --Exercise--\n",
    "\n",
    "- How many characters does the complete works of Shakespeare contain?\n",
    "- How many tokens?\n",
    "- Does the type of tokenization change the tokens count? \n",
    "\n",
    "**HINT** Compare `.split()` to `word_tokenize()`. Use `len` to count the number of tokens.\n"
   ]
  },
  {
   "cell_type": "code",
   "execution_count": null,
   "metadata": {
    "collapsed": true
   },
   "outputs": [],
   "source": [
    "# insert your code here\n",
    "print('Num chars = ',len(shakespeare_complete))\n",
    "print('Num tokens Split = ',len(shakespeare_complete.split()))\n",
    "print('Num tokens NLTK = ',len(word_tokenize(shakespeare_complete)))\n",
    "print('Num tokens NLTK Regexp = ',len(regexp_tokenize(shakespeare_complete, pattern='\\w+')))"
   ]
  },
  {
   "cell_type": "markdown",
   "metadata": {},
   "source": [
    "### 2.3 Sentence Tokenization"
   ]
  },
  {
   "cell_type": "markdown",
   "metadata": {},
   "source": [
    "Often it is useful to process a text by sentence, when we want, for example, inquire the use of different words within their meaningful context. "
   ]
  },
  {
   "cell_type": "code",
   "execution_count": null,
   "metadata": {
    "collapsed": true
   },
   "outputs": [],
   "source": [
    "from nltk.tokenize import sent_tokenize\n",
    "book = 'This is a sentence. And this another one!'\n",
    "sent_tokenize(book)"
   ]
  },
  {
   "cell_type": "markdown",
   "metadata": {},
   "source": [
    "### --Exercise-- \n",
    "How many sentences does Alice in Wonderland contain (approximately)?"
   ]
  },
  {
   "cell_type": "code",
   "execution_count": null,
   "metadata": {
    "collapsed": true
   },
   "outputs": [],
   "source": [
    "# open alice.txt\n",
    "alice = open('alice.txt','r').read()\n",
    "# split the text by sentence, assign the splitted copy to alice_sent_split\n",
    "alice_sent_split = sent_tokenize(alice)\n",
    "# apply len to alice_sent_split\n",
    "len(alice)"
   ]
  },
  {
   "cell_type": "markdown",
   "metadata": {},
   "source": [
    "### Tokens vs Types"
   ]
  },
  {
   "cell_type": "markdown",
   "metadata": {},
   "source": [
    "A **token** is a technical name for a **sequence of characters** — such as hairy, his, or :) — that we want to **treat as a group** (or **unit** of our analysis). When we count the number of tokens in a text, say, the phrase \"to be or not to be\", we are counting occurrences of these sequences. Thus, in our example phrase there are two occurrences of \"to\", two of \"be\", and one each of \"or\" and \"not\". "
   ]
  },
  {
   "cell_type": "code",
   "execution_count": null,
   "metadata": {
    "collapsed": true
   },
   "outputs": [],
   "source": [
    "sentence = 'to be or not to be'\n",
    "tokens = sentence.split()\n",
    "print(tokens,len(tokens))"
   ]
  },
  {
   "cell_type": "markdown",
   "metadata": {},
   "source": [
    "But there are only **four distinct** vocabulary items in this phrase. In Python we can use the `set()` function to count the number of **unique** words also called *types*"
   ]
  },
  {
   "cell_type": "code",
   "execution_count": null,
   "metadata": {
    "collapsed": true
   },
   "outputs": [],
   "source": [
    "types = set(tokens)\n",
    "print(types,len(types))"
   ]
  },
  {
   "cell_type": "markdown",
   "metadata": {},
   "source": [
    "To measure complexity of a text, we can compute the [type-token ratio](https://www.sltinfo.com/type-token-ratio/):"
   ]
  },
  {
   "cell_type": "code",
   "execution_count": null,
   "metadata": {
    "collapsed": true
   },
   "outputs": [],
   "source": [
    "round((len(types)/len(tokens)*100),1)"
   ]
  },
  {
   "cell_type": "markdown",
   "metadata": {},
   "source": [
    "### --Exercise--\n",
    "\n",
    "We can apply this to larger texts!\n",
    "\n",
    "- How many tokens do the complete works of William Shakespeare contain?\n",
    "- How many **distinct words** (types) does the book of Genesis contain? (In other words, how large is, approximately, his vocabulary?\n",
    "- Can you print the type-token ratio?"
   ]
  },
  {
   "cell_type": "code",
   "execution_count": null,
   "metadata": {
    "collapsed": true
   },
   "outputs": [],
   "source": [
    "# insert your code here\n",
    "shakespeare_tokens = regexp_tokenize(shakespeare_complete,pattern='\\w+')\n",
    "print('Vocab size = ',len(set(shakespeare_tokens)))\n",
    "print('Type-token ratio = ',len(set(shakespeare_tokens))/len(shakespeare_tokens))"
   ]
  },
  {
   "cell_type": "markdown",
   "metadata": {},
   "source": [
    "## 2.4 Counting Word Frequencies"
   ]
  },
  {
   "cell_type": "markdown",
   "metadata": {},
   "source": [
    "By tokenizing a text, we convert the string to a **list** in which each element is approximately one word. The code below gives an overview of the individual steps:"
   ]
  },
  {
   "cell_type": "code",
   "execution_count": null,
   "metadata": {
    "collapsed": true
   },
   "outputs": [],
   "source": [
    "from nltk.tokenize import word_tokenize # import stuff\n",
    "from collections import Counter # import stuff\n",
    "shakespeare = open('./data/shakespeare.txt','r').read() # open and read the document\n",
    "shakespeare_lower = shakespeare.lower() # lowercase the text, store it in shakespeare_lower\n",
    "shakespeare_tokens = word_tokenize(shakespeare_lower) # tokenize the text, store it in shakespeare_tokens\n",
    "tokenfrequency = Counter(shakespeare_tokens) # creates a word-to-frequency mapping"
   ]
  },
  {
   "cell_type": "markdown",
   "metadata": {},
   "source": [
    "The variable `tokenfrequency` now holds a `Counter()`  object which **maps words to their frequencies**."
   ]
  },
  {
   "cell_type": "code",
   "execution_count": null,
   "metadata": {
    "collapsed": true
   },
   "outputs": [],
   "source": [
    "tokenfrequency"
   ]
  },
  {
   "cell_type": "markdown",
   "metadata": {},
   "source": [
    "Later in this course--when we have a closer look at Python dictionaries--we inspect such mappings more thoroughly. For now, just note that the `Counter()` object allows you to access the frequency of an individual word. Please note we use **square brackets** here, not the parenthesis as usually."
   ]
  },
  {
   "cell_type": "code",
   "execution_count": null,
   "metadata": {
    "collapsed": true
   },
   "outputs": [],
   "source": [
    "tokenfrequency['you']"
   ]
  },
  {
   "cell_type": "markdown",
   "metadata": {},
   "source": [
    "## --Exercise--\n",
    "\n",
    "- What is the frequency of 'hamlet'?\n",
    "- What is the frequency of 'spamlet'? "
   ]
  },
  {
   "cell_type": "code",
   "execution_count": null,
   "metadata": {
    "collapsed": true
   },
   "outputs": [],
   "source": [
    "# insert your code here\n",
    "print(tokenfrequency['hamlet'])\n",
    "print(tokenfrequency['spamlet'])"
   ]
  },
  {
   "cell_type": "markdown",
   "metadata": {
    "collapsed": true
   },
   "source": [
    "We can also sort the mapping by frequency and plot the *n* most common tokens."
   ]
  },
  {
   "cell_type": "code",
   "execution_count": null,
   "metadata": {
    "collapsed": true
   },
   "outputs": [],
   "source": [
    "tokenfrequency.most_common(25)"
   ]
  },
  {
   "cell_type": "markdown",
   "metadata": {},
   "source": [
    "Notice that you can perform all these steps in just one line, but the code becomes more difficult to read."
   ]
  },
  {
   "cell_type": "code",
   "execution_count": null,
   "metadata": {
    "collapsed": true
   },
   "outputs": [],
   "source": [
    "Counter(word_tokenize(open('./data/shakespeare.txt','r').read().lower())).most_common(25)"
   ]
  },
  {
   "cell_type": "markdown",
   "metadata": {},
   "source": [
    "### --Exercise--\n",
    "\n",
    "- Compare the most frequent words in Shakespeare to Alice in Wonderland. What are the differences and similarities?"
   ]
  },
  {
   "cell_type": "code",
   "execution_count": null,
   "metadata": {
    "collapsed": true
   },
   "outputs": [],
   "source": [
    "# insert your code here\n",
    "Counter(word_tokenize(open('./alice.txt','r').read().lower())).most_common(25)"
   ]
  },
  {
   "cell_type": "markdown",
   "metadata": {
    "collapsed": true
   },
   "source": [
    "## 3. Exploring data with Natural Language ToolKit (NLTK) "
   ]
  },
  {
   "cell_type": "markdown",
   "metadata": {},
   "source": [
    "## 3.1 From lists to NLTK Text objects"
   ]
  },
  {
   "cell_type": "markdown",
   "metadata": {},
   "source": [
    "So, far we covered just the most basic operation: counting words. Even though word frequencies can give us some insight into the content of a file, it remains a crude analytical instrument. \n",
    "\n",
    "NLTK comes with more refined tools to analyse corpora from a distance and extract lexical patterns."
   ]
  },
  {
   "cell_type": "markdown",
   "metadata": {},
   "source": [
    "In the Digital Humanities, we often treat texts as *raw data*, as input for our programs. Interpretations arise from abstraction, transformation and decontextualization, for example, by counting word frequencies, analysing specific segments of a corpus (i.e. Key Word In Context, or KWIC analysis) or searching for patterns (i.e. collocations). \n",
    "\n",
    "NLTK provides several tools for both **processing** data and **interpreting** texts."
   ]
  },
  {
   "cell_type": "markdown",
   "metadata": {},
   "source": [
    "Let's see what corpora NLTK provides, but first, we have to import everything!"
   ]
  },
  {
   "cell_type": "code",
   "execution_count": null,
   "metadata": {
    "collapsed": true
   },
   "outputs": [],
   "source": [
    "import nltk"
   ]
  },
  {
   "cell_type": "markdown",
   "metadata": {
    "collapsed": true
   },
   "source": [
    "NLTK comes with some preprocessed texts:"
   ]
  },
  {
   "cell_type": "code",
   "execution_count": null,
   "metadata": {
    "collapsed": true
   },
   "outputs": [],
   "source": [
    "from nltk.book import *"
   ]
  },
  {
   "cell_type": "markdown",
   "metadata": {},
   "source": [
    "`from nltk.book import *` says as much as \"from NLTK's book module, load all items.\" This loads all the books that are preprocessed for further analysis.\n",
    "\n",
    "Below we use these books occasionally--for demonstration purposes. We focus on the data we processed ourselves."
   ]
  },
  {
   "cell_type": "markdown",
   "metadata": {},
   "source": [
    "From the above output, we discover that NLTK includes the script of 'Monty Python and the Holy Grail'. When we `print` text6 we (surprisingly) can not see the actual content yet."
   ]
  },
  {
   "cell_type": "code",
   "execution_count": null,
   "metadata": {
    "collapsed": true
   },
   "outputs": [],
   "source": [
    "print(text6)"
   ]
  },
  {
   "cell_type": "markdown",
   "metadata": {},
   "source": [
    "As a standard procedure, we should uncover the data type of the object we are dealing with."
   ]
  },
  {
   "cell_type": "code",
   "execution_count": null,
   "metadata": {
    "collapsed": true
   },
   "outputs": [],
   "source": [
    "print(type(text6))"
   ]
  },
  {
   "cell_type": "markdown",
   "metadata": {},
   "source": [
    "... and inspect which functionalities are attached to this object:"
   ]
  },
  {
   "cell_type": "code",
   "execution_count": null,
   "metadata": {
    "collapsed": true
   },
   "outputs": [],
   "source": [
    "dir(text6)"
   ]
  },
  {
   "cell_type": "markdown",
   "metadata": {},
   "source": [
    "We can do a lot with this `Text` object. To view all the methods attached to this object, use Python's help function. You can ignore all the methods that start with a double underscore and scroll down."
   ]
  },
  {
   "cell_type": "code",
   "execution_count": null,
   "metadata": {
    "collapsed": true
   },
   "outputs": [],
   "source": [
    "help(nltk.text.Text)"
   ]
  },
  {
   "cell_type": "markdown",
   "metadata": {},
   "source": [
    "The list above shows the tools that NLTK provides you for analysing your text data. "
   ]
  },
  {
   "cell_type": "code",
   "execution_count": null,
   "metadata": {
    "collapsed": true
   },
   "outputs": [],
   "source": [
    "text6.concordance('shrubbery')"
   ]
  },
  {
   "cell_type": "markdown",
   "metadata": {},
   "source": [
    "To convert a text object to an NLTK text object, we need to tokenize the text first."
   ]
  },
  {
   "cell_type": "code",
   "execution_count": null,
   "metadata": {
    "collapsed": true
   },
   "outputs": [],
   "source": [
    "hillary_text = open('hillary.txt','r').read() # open the text\n",
    "hillary_text_lower = hillary_text.lower() # lowercase the text\n",
    "hillary_tokens = word_tokenize(hillary_text_lower) # tokenize the text"
   ]
  },
  {
   "cell_type": "code",
   "execution_count": null,
   "metadata": {
    "collapsed": true
   },
   "outputs": [],
   "source": [
    "hillary_tokens[:100] # print the first hundred tokens"
   ]
  },
  {
   "cell_type": "markdown",
   "metadata": {},
   "source": [
    "The line below does not return any output, but here is where the magic happens, i.e. where we **transform a simple list of tokens to an NLTK Text object** (why this is useful will be explained below). "
   ]
  },
  {
   "cell_type": "code",
   "execution_count": null,
   "metadata": {
    "collapsed": true
   },
   "outputs": [],
   "source": [
    "hillary_nltk = nltk.text.Text(hillary_tokens)"
   ]
  },
  {
   "cell_type": "markdown",
   "metadata": {},
   "source": [
    "Below we inspect some of the methods attached to the `Text` object."
   ]
  },
  {
   "cell_type": "markdown",
   "metadata": {},
   "source": [
    "### --Exercise--\n",
    "\n",
    "- Convert the complete works of Shakespeare to an NLTK text object."
   ]
  },
  {
   "cell_type": "code",
   "execution_count": null,
   "metadata": {
    "collapsed": true
   },
   "outputs": [],
   "source": [
    "# insert your code here\n",
    "from nltk.tokenize import wordpunct_tokenize\n",
    "shakespeare = open('./data/shakespeare.txt','r').read()\n",
    "shakespeare_tokens = wordpunct_tokenize(shakespeare)\n",
    "shakespeare_nltk = nltk.text.Text(shakespeare_tokens)\n",
    "shakespeare_nltk.concordance('spring') # just to test"
   ]
  },
  {
   "cell_type": "markdown",
   "metadata": {},
   "source": [
    "## 3.2 NLTK Tools"
   ]
  },
  {
   "cell_type": "markdown",
   "metadata": {},
   "source": [
    "###  3.2.1. `.concordance()`"
   ]
  },
  {
   "cell_type": "markdown",
   "metadata": {},
   "source": [
    "An oft-used technique for distant reading is **Keyword In Context Analysis** in which we centre a whole corpus on a specific word of interest. NLTK comes with a `concordance()` method that allows you to do just this. "
   ]
  },
  {
   "cell_type": "code",
   "execution_count": null,
   "metadata": {
    "collapsed": true
   },
   "outputs": [],
   "source": [
    "help(nltk.text.Text.concordance)"
   ]
  },
  {
   "cell_type": "markdown",
   "metadata": {},
   "source": [
    "With concordance, we can easily look up what was said about Trump in Hillary's emails."
   ]
  },
  {
   "cell_type": "code",
   "execution_count": null,
   "metadata": {
    "collapsed": true
   },
   "outputs": [],
   "source": [
    "hillary_nltk.concordance('trump')"
   ]
  },
  {
   "cell_type": "markdown",
   "metadata": {},
   "source": [
    "Or, given that Clinten was Secretary of State, what is said about Iran?\n",
    "\n",
    "### -- Exercise--\n",
    "- Center corpus on \"iran\" and \"obama\""
   ]
  },
  {
   "cell_type": "code",
   "execution_count": null,
   "metadata": {
    "collapsed": true
   },
   "outputs": [],
   "source": [
    "# add your code here\n",
    "hillary_nltk.concordance('iran')"
   ]
  },
  {
   "cell_type": "code",
   "execution_count": null,
   "metadata": {
    "collapsed": true
   },
   "outputs": [],
   "source": [
    "hillary_nltk.concordance('obama')"
   ]
  },
  {
   "cell_type": "markdown",
   "metadata": {},
   "source": [
    "As you noticed, there are more hits for \"Iran\" than shown in the list above. We can specify the number of hits to print with the `lines` argument."
   ]
  },
  {
   "cell_type": "code",
   "execution_count": null,
   "metadata": {
    "collapsed": true
   },
   "outputs": [],
   "source": [
    "hillary_nltk.concordance('obama',lines=100)"
   ]
  },
  {
   "cell_type": "markdown",
   "metadata": {},
   "source": [
    "The context--the words surrounding the queried term--is often too short to understand what is actually going on. We can expand the number of characters by tweaking the `width` argument."
   ]
  },
  {
   "cell_type": "markdown",
   "metadata": {
    "collapsed": true
   },
   "source": [
    "### Exercise\n",
    "\n",
    "In the Clinton emails:\n",
    "- search for `bush`;\n",
    "- print the first 50 results;\n",
    "- expand the context to 150 characters;"
   ]
  },
  {
   "cell_type": "code",
   "execution_count": null,
   "metadata": {
    "collapsed": true
   },
   "outputs": [],
   "source": [
    "# insert your code here\n",
    "hillary_nltk.concordance('bush',lines=10,width=150)"
   ]
  },
  {
   "cell_type": "markdown",
   "metadata": {},
   "source": [
    "### --Exercise--\n",
    "\n",
    "Inspect the use of the word \"monstrous\" in Melville's Moby Dick:"
   ]
  },
  {
   "cell_type": "code",
   "execution_count": null,
   "metadata": {
    "collapsed": true
   },
   "outputs": [],
   "source": [
    "text1.concordance('monstrous')"
   ]
  },
  {
   "cell_type": "markdown",
   "metadata": {},
   "source": [
    "### 3.2.2. `.similar()`"
   ]
  },
  {
   "cell_type": "markdown",
   "metadata": {},
   "source": [
    "`concordance()` shows words in their context. For example, we saw that monstrous occurred in contexts such as the \\_\\_\\_ pictures and a \\_\\_\\_ size. What other words appear in a **similar context**? We can find out by applying the `.similar` method to an NLTK text and enter the word you want analyse within parentheses (don't forget to put a string between quotation marks):"
   ]
  },
  {
   "cell_type": "code",
   "execution_count": null,
   "metadata": {
    "collapsed": true
   },
   "outputs": [],
   "source": [
    "help(text1.similar)"
   ]
  },
  {
   "cell_type": "markdown",
   "metadata": {},
   "source": [
    "`.similarity()` returns a list of semantically related words from one text (based on the intuition that words which share common contexts are related) "
   ]
  },
  {
   "cell_type": "code",
   "execution_count": null,
   "metadata": {
    "collapsed": true
   },
   "outputs": [],
   "source": [
    "#text1: Moby Dick by Herman Melville 1851\n",
    "text1.similar(\"monstrous\")\n",
    "print('\\n')\n",
    "#text2: Sense and Sensibility by Jane Austen 1811\n",
    "text2.similar(\"monstrous\")"
   ]
  },
  {
   "cell_type": "markdown",
   "metadata": {},
   "source": [
    "Observe that we get **different results for different texts**. Austen uses this word quite differently compared to Melville; for her, monstrous has positive connotations and sometimes functions as an intensifier like the word very."
   ]
  },
  {
   "cell_type": "markdown",
   "metadata": {
    "collapsed": true
   },
   "source": [
    "`.similar()` helps us to understand how words are used, by proposing similar items. Let's have a look at Shakespeare.\n",
    "\n",
    "Below we convert a string object to NLTK Text object. The syntax should look familiar, no?"
   ]
  },
  {
   "cell_type": "code",
   "execution_count": null,
   "metadata": {
    "collapsed": true
   },
   "outputs": [],
   "source": [
    "shakespeare = open('./data/shakespeare.txt','r').read()\n",
    "shakespeare = shakespeare.lower()\n",
    "shakespeare_tokens = word_tokenize(shakespeare)\n",
    "shakespeare_nltk = nltk.text.Text(shakespeare_tokens)"
   ]
  },
  {
   "cell_type": "markdown",
   "metadata": {},
   "source": [
    "### --Exercises--\n",
    "\n",
    "Using Shakespeare's complete works, which words are similar to:\n",
    "- jew\n",
    "- summer\n",
    "- terrible"
   ]
  },
  {
   "cell_type": "code",
   "execution_count": null,
   "metadata": {
    "collapsed": true
   },
   "outputs": [],
   "source": [
    "# insert your code here\n",
    "shakespeare_nltk.similar('jew')\n",
    "shakespeare_nltk.similar('summer')\n",
    "shakespeare_nltk.similar('terrible')"
   ]
  },
  {
   "cell_type": "markdown",
   "metadata": {},
   "source": [
    "### 3.2.3. `.common_contexts()`"
   ]
  },
  {
   "cell_type": "code",
   "execution_count": null,
   "metadata": {
    "collapsed": true
   },
   "outputs": [],
   "source": [
    "help(nltk.text.Text.common_contexts)"
   ]
  },
  {
   "cell_type": "markdown",
   "metadata": {},
   "source": [
    "The method `common_contexts` allows us to **examine just the contexts** that are shared by two or more words, such as monstrous and very. We have to enclose these words by square brackets as well as parentheses, and separate them with a comma.\n",
    "\n",
    "To understand why 'terrible' and 'noble' are similar--which contexts they share--run the cell below:"
   ]
  },
  {
   "cell_type": "code",
   "execution_count": null,
   "metadata": {
    "collapsed": true
   },
   "outputs": [],
   "source": [
    "shakespeare_nltk.common_contexts([\"terrible\", \"noble\"])"
   ]
  },
  {
   "cell_type": "markdown",
   "metadata": {},
   "source": [
    "### --Exercise--\n",
    "\n",
    "- Find the contexts shared by 'lovely' and 'sweet'"
   ]
  },
  {
   "cell_type": "code",
   "execution_count": null,
   "metadata": {
    "collapsed": true
   },
   "outputs": [],
   "source": [
    "# insert your code here\n",
    "shakespeare_nltk.common_contexts([\"lovely\", \"sweet\"])"
   ]
  },
  {
   "cell_type": "markdown",
   "metadata": {},
   "source": [
    "### 3.2.4. `.dispersion_plot()`"
   ]
  },
  {
   "cell_type": "markdown",
   "metadata": {},
   "source": [
    "We can also determine the **location** of a word in the text: how many words from the beginning it appears. This **positional information** can be displayed using a dispersion plot. Each **stripe** represents an instance of a word, and each **row** represents the entire text. Below we see some striking patterns of word usage over the last 220 years (in an artificial text constructed by joining the texts of the Inaugural Address Corpus end-to-end). You can produce this plot as shown below. You might like to try more words (e.g., liberty, constitution), and different texts. Can you predict the dispersion of a word before you view it? As before, take care to get the quotes, commas, brackets and parentheses exactly right."
   ]
  },
  {
   "cell_type": "code",
   "execution_count": null,
   "metadata": {
    "collapsed": true
   },
   "outputs": [],
   "source": [
    "text4.dispersion_plot([\"citizens\", \"democracy\", \"freedom\", \"duties\", \"America\"])"
   ]
  },
  {
   "cell_type": "markdown",
   "metadata": {},
   "source": [
    "### --Exercise--\n",
    "\n",
    "- Find the thematic shifts in the Clinton emails using the dispersion plot, see example below.\n",
    "- Apply the same technique to the Shakespeare corpus."
   ]
  },
  {
   "cell_type": "code",
   "execution_count": null,
   "metadata": {
    "collapsed": true
   },
   "outputs": [],
   "source": [
    "%matplotlib inline\n",
    "hillary_nltk.dispersion_plot(['iran','israel','palestine','netherlands','belgium'])"
   ]
  },
  {
   "cell_type": "code",
   "execution_count": null,
   "metadata": {
    "collapsed": true
   },
   "outputs": [],
   "source": [
    "# insert your code here"
   ]
  },
  {
   "cell_type": "code",
   "execution_count": null,
   "metadata": {
    "collapsed": true
   },
   "outputs": [],
   "source": [
    "# insert your code here"
   ]
  },
  {
   "cell_type": "markdown",
   "metadata": {},
   "source": [
    "### 3.2.5. `.collocations()`"
   ]
  },
  {
   "cell_type": "markdown",
   "metadata": {},
   "source": [
    "A collocation is a **sequence of words that occur together unusually often**. Thus *red wine* is a collocation, whereas *the wine* is not. A characteristic of collocations is that they are resistant to substitution with words that have similar senses; for example, maroon wine sounds definitely odd."
   ]
  },
  {
   "cell_type": "markdown",
   "metadata": {
    "collapsed": true
   },
   "source": [
    "### -- Exercise--\n",
    "\n",
    "- Inspect the collocation documentation using Python in-built `help` function.\n",
    "- Apply `.collocations` to some of the Shakespeare's collected works. Assess the outcomes and its use for research.\n",
    "- change the `window_size` argument, and see how it affects the output."
   ]
  },
  {
   "cell_type": "code",
   "execution_count": null,
   "metadata": {
    "collapsed": true
   },
   "outputs": [],
   "source": [
    "# insert your code here\n",
    "help(hillary_nltk.collocations)"
   ]
  },
  {
   "cell_type": "code",
   "execution_count": null,
   "metadata": {
    "collapsed": true
   },
   "outputs": [],
   "source": [
    "hillary_nltk.collocations()"
   ]
  },
  {
   "cell_type": "code",
   "execution_count": null,
   "metadata": {
    "collapsed": true
   },
   "outputs": [],
   "source": [
    "hillary_nltk.collocations(window_size=20)  # this may take a while"
   ]
  },
  {
   "cell_type": "markdown",
   "metadata": {},
   "source": [
    "# 4. Additional Tools"
   ]
  },
  {
   "cell_type": "markdown",
   "metadata": {},
   "source": [
    "## 4.1. Word Clouds"
   ]
  },
  {
   "cell_type": "code",
   "execution_count": 2,
   "metadata": {
    "collapsed": true
   },
   "outputs": [],
   "source": [
    "from wordcloud import WordCloud\n",
    "import matplotlib.pyplot as plt\n",
    "\n",
    "def plot_cloud(text):\n",
    "    \"\"\"\n",
    "    Simple function that takes a string as argument and \n",
    "    plot the standard word cloud.\n",
    "    \"\"\"\n",
    "    # Generate a word cloud image\n",
    "    wordcloud = WordCloud(width=600,height=400,scale=2,max_words=100,mode='RGBA').generate(text)\n",
    "\n",
    "    # Display the generated image:\n",
    "    # the matplotlib way:\n",
    "    \n",
    "    plt.imshow(wordcloud, interpolation='bilinear')\n",
    "    plt.axis(\"off\")\n",
    "    plt.show()\n"
   ]
  },
  {
   "cell_type": "code",
   "execution_count": 3,
   "metadata": {},
   "outputs": [
    {
     "data": {
      "image/png": "[encoded data removed]",
      "text/plain": [
       "<matplotlib.figure.Figure at 0x10b110278>"
      ]
     },
     "metadata": {},
     "output_type": "display_data"
    }
   ],
   "source": [
    "# First run the preceding code cell, otherwise plotting the word cloud won't work\n",
    "text = open('data/alice.txt').read()\n",
    "plot_cloud(text)"
   ]
  },
  {
   "cell_type": "markdown",
   "metadata": {},
   "source": [
    "## 4.2. Keyword Extraction with [RAKE](https://pdfs.semanticscholar.org/5a58/00deb6461b3d022c8465e5286908de9f8d4e.pdf)"
   ]
  },
  {
   "cell_type": "code",
   "execution_count": null,
   "metadata": {
    "collapsed": true
   },
   "outputs": [],
   "source": [
    "import RAKE\n",
    "hillary_text = open('./data/alice.txt').read()\n",
    "# https://github.com/fabianvf/python-rake\n",
    "rake = RAKE.Rake(RAKE.SmartStopList())\n",
    "rake.run(hillary_text, minCharacters = 3, maxWords = 3, minFrequency = 4)"
   ]
  },
  {
   "cell_type": "markdown",
   "metadata": {},
   "source": [
    "## Epilogue: Emotion Mining"
   ]
  },
  {
   "cell_type": "markdown",
   "metadata": {},
   "source": [
    "## Vader Sentiment Analyzer\n",
    "The variable paragraphs counts is not the most interesting one, let's have a look at the semtiment values of these mentions of immigration.\n",
    "\n",
    "For this we use **VADER**.\n",
    "\n",
    "[from Github](https://github.com/cjhutto/vaderSentiment): VADER (Valence Aware Dictionary and sEntiment Reasoner) is a lexicon and rule-based sentiment analysis tool.\n",
    "\n",
    "VADER uses a lexicon (a mapping of words to sentiment values, e.g bad=-1.0, good=+1.0) to compute the sentiment (positivity or negativity) of a text."
   ]
  },
  {
   "cell_type": "code",
   "execution_count": null,
   "metadata": {
    "collapsed": true
   },
   "outputs": [],
   "source": [
    "# we need to install the vader lexicon first\n",
    "import nltk\n",
    "nltk.download('vader_lexicon')"
   ]
  },
  {
   "cell_type": "markdown",
   "metadata": {},
   "source": [
    "Now load the VADER Sentiment analyzer"
   ]
  },
  {
   "cell_type": "code",
   "execution_count": null,
   "metadata": {
    "collapsed": true
   },
   "outputs": [],
   "source": [
    "from nltk.sentiment import vader\n",
    "analyzer = vader.SentimentIntensityAnalyzer()"
   ]
  },
  {
   "cell_type": "markdown",
   "metadata": {},
   "source": [
    "Below you can test VADER yourself by changing the value of the ``text`` variable, and running the code block. \n",
    "\n",
    "Can you trick the system? Not very easy isn't it?!"
   ]
  },
  {
   "cell_type": "code",
   "execution_count": null,
   "metadata": {
    "collapsed": true
   },
   "outputs": [],
   "source": [
    "text = \"\"\"That was not quite as awful for Theresa May as the “nothing has changed” general election presser where she had to rewrite her election manifesto after the “dementia tax” self-destructed, but it was not far off. She looked tetchy, defensive and weakened. Number 10 weren’t expecting a breakthrough at Salzburg, but they were hoping that the EU27 would be sufficiently diplomatic, or evasive, to keep the Chequers option in play. The comments we’ve had in the last hour (eg, see 2.20pm, 2.23pm and 2.49pm) indicate that her hopes have been dashed, and that all that’s left for Chequers (at least, its core principles) is for someone to perform the last rites.\"\"\"\n",
    "sentiments_analysis = analyzer.polarity_scores(text)\n",
    "print(sentiments_analysis)"
   ]
  },
  {
   "cell_type": "markdown",
   "metadata": {},
   "source": [
    "We are interested here in the compound, the combination of positive and negative sentiments. We can select this by putting the string 'compound' between square brackets"
   ]
  },
  {
   "cell_type": "code",
   "execution_count": null,
   "metadata": {
    "collapsed": true
   },
   "outputs": [],
   "source": [
    "sentiments_analysis['compound']"
   ]
  }
 ],
 "metadata": {
  "kernelspec": {
   "display_name": "Python 3",
   "language": "python",
   "name": "python3"
  },
  "language_info": {
   "codemirror_mode": {
    "name": "ipython",
    "version": 3
   },
   "file_extension": ".py",
   "mimetype": "text/x-python",
   "name": "python",
   "nbconvert_exporter": "python",
   "pygments_lexer": "ipython3",
   "version": "3.6.3"
  }
 },
 "nbformat": 4,
 "nbformat_minor": 2
}
