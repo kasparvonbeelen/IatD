{
 "cells": [
  {
   "cell_type": "markdown",
   "metadata": {},
   "source": [
    "# Lab 3 - Distant Reading with Python"
   ]
  },
  {
   "cell_type": "markdown",
   "metadata": {},
   "source": [
    "## Demo Cell"
   ]
  },
  {
   "cell_type": "code",
   "execution_count": 32,
   "metadata": {},
   "outputs": [
    {
     "data": {
      "text/plain": [
       "['ALICE',\n",
       " 'was',\n",
       " 'beginning',\n",
       " 'to',\n",
       " 'get',\n",
       " 'very',\n",
       " 'tired',\n",
       " 'of',\n",
       " 'sitting',\n",
       " 'by',\n",
       " 'her',\n",
       " 'sister',\n",
       " 'on',\n",
       " 'the',\n",
       " 'bank,',\n",
       " 'and',\n",
       " 'of',\n",
       " 'having',\n",
       " 'nothing',\n",
       " 'to',\n",
       " 'do:',\n",
       " 'once',\n",
       " 'or',\n",
       " 'twice',\n",
       " 'she',\n",
       " 'had',\n",
       " 'peeped',\n",
       " 'into',\n",
       " 'the',\n",
       " 'book',\n",
       " 'her',\n",
       " 'sister',\n",
       " 'was',\n",
       " 'reading,',\n",
       " 'but',\n",
       " 'it',\n",
       " 'had',\n",
       " 'no',\n",
       " 'pictures',\n",
       " 'or',\n",
       " 'conversations',\n",
       " 'in',\n",
       " 'it,',\n",
       " '\"and',\n",
       " 'what',\n",
       " 'is',\n",
       " 'the',\n",
       " 'use',\n",
       " 'of',\n",
       " 'a',\n",
       " 'book,\"',\n",
       " 'thought',\n",
       " 'Alice,',\n",
       " '\"without',\n",
       " 'pictures',\n",
       " 'or',\n",
       " 'conversations?\"',\n",
       " 'So',\n",
       " 'she',\n",
       " 'was',\n",
       " 'considering',\n",
       " 'in',\n",
       " 'her',\n",
       " 'own',\n",
       " 'mind',\n",
       " '(as',\n",
       " 'well',\n",
       " 'as',\n",
       " 'she',\n",
       " 'could,',\n",
       " 'for',\n",
       " 'the',\n",
       " 'hot',\n",
       " 'day',\n",
       " 'made',\n",
       " 'her',\n",
       " 'feel',\n",
       " 'very',\n",
       " 'sleepy',\n",
       " 'and',\n",
       " 'stupid)',\n",
       " 'whether',\n",
       " 'the',\n",
       " 'pleasure',\n",
       " 'of',\n",
       " 'making',\n",
       " 'a',\n",
       " 'daisy-chain',\n",
       " 'would',\n",
       " 'be',\n",
       " 'worth',\n",
       " 'the',\n",
       " 'trouble',\n",
       " 'of',\n",
       " 'getting',\n",
       " 'up',\n",
       " 'and',\n",
       " 'picking',\n",
       " 'the',\n",
       " 'daisies,',\n",
       " 'when',\n",
       " 'suddenly',\n",
       " 'a',\n",
       " 'White',\n",
       " 'Rabbit',\n",
       " 'with',\n",
       " 'pink',\n",
       " 'eyes',\n",
       " 'ran',\n",
       " 'close',\n",
       " 'by',\n",
       " 'her.',\n",
       " 'There',\n",
       " 'was',\n",
       " 'nothing',\n",
       " 'so',\n",
       " '_very_',\n",
       " 'remarkable',\n",
       " 'in',\n",
       " 'that;',\n",
       " 'nor',\n",
       " 'did',\n",
       " 'Alice',\n",
       " 'think',\n",
       " 'it',\n",
       " 'so',\n",
       " '_very_',\n",
       " 'much',\n",
       " 'out',\n",
       " 'of',\n",
       " 'the',\n",
       " 'way',\n",
       " 'to',\n",
       " 'hear',\n",
       " 'the',\n",
       " 'Rabbit',\n",
       " 'say',\n",
       " 'to',\n",
       " 'itself,',\n",
       " '\"Oh',\n",
       " 'dear!',\n",
       " 'Oh',\n",
       " 'dear!',\n",
       " 'I',\n",
       " 'shall',\n",
       " 'be',\n",
       " 'too',\n",
       " 'late!\"',\n",
       " '(when',\n",
       " 'she',\n",
       " 'thought',\n",
       " 'it',\n",
       " 'over',\n",
       " 'afterwards,',\n",
       " 'it',\n",
       " 'occurred',\n",
       " 'to',\n",
       " 'her',\n",
       " 'that',\n",
       " 'she',\n",
       " 'ought',\n",
       " 'to',\n",
       " 'have',\n",
       " 'wondered',\n",
       " 'at',\n",
       " 'this,',\n",
       " 'but',\n",
       " 'at',\n",
       " 'the',\n",
       " 'time',\n",
       " 'it',\n",
       " 'all',\n",
       " 'seemed',\n",
       " 'quite',\n",
       " 'natural);',\n",
       " 'but',\n",
       " 'when',\n",
       " 'the',\n",
       " 'Rabbit',\n",
       " 'actually',\n",
       " '_took',\n",
       " 'a',\n",
       " 'watch',\n",
       " 'out',\n",
       " 'of',\n",
       " 'its',\n",
       " 'waistcoat-pocket_,',\n",
       " 'and',\n",
       " 'looked',\n",
       " 'at',\n",
       " 'it,',\n",
       " 'and',\n",
       " 'then',\n",
       " 'hurried',\n",
       " 'on,',\n",
       " 'Alice',\n",
       " 'started',\n",
       " 'to',\n",
       " 'her',\n",
       " 'feet,',\n",
       " 'for',\n",
       " 'it',\n",
       " 'flashed',\n",
       " 'across',\n",
       " 'her',\n",
       " 'mind',\n",
       " 'that',\n",
       " 'she',\n",
       " 'had',\n",
       " 'never',\n",
       " 'before',\n",
       " 'seen',\n",
       " 'a',\n",
       " 'rabbit',\n",
       " 'with',\n",
       " 'either',\n",
       " 'a',\n",
       " 'waistcoat-pocket,',\n",
       " 'or',\n",
       " 'a',\n",
       " 'watch',\n",
       " 'to',\n",
       " 'take',\n",
       " 'out',\n",
       " 'of',\n",
       " 'it,',\n",
       " 'and',\n",
       " 'burning',\n",
       " 'with',\n",
       " 'curiosity,',\n",
       " 'she',\n",
       " 'ran',\n",
       " 'across',\n",
       " 'the',\n",
       " 'field',\n",
       " 'after',\n",
       " 'it,',\n",
       " 'and',\n",
       " 'was',\n",
       " 'just',\n",
       " 'in',\n",
       " 'time',\n",
       " 'to',\n",
       " 'see',\n",
       " 'it',\n",
       " 'pop',\n",
       " 'down',\n",
       " 'a',\n",
       " 'large',\n",
       " 'rabbit-hole',\n",
       " 'under',\n",
       " 'the',\n",
       " 'hedge.']"
      ]
     },
     "execution_count": 32,
     "metadata": {},
     "output_type": "execute_result"
    }
   ],
   "source": [
    "data = open('alice.txt','r').read()\n",
    "#data\n",
    "import nltk\n",
    "data.split()"
   ]
  },
  {
   "cell_type": "code",
   "execution_count": 39,
   "metadata": {},
   "outputs": [
    {
     "name": "stdout",
     "output_type": "stream",
     "text": [
      "<class 'list'>\n",
      "<class 'nltk.text.Text'>\n"
     ]
    }
   ],
   "source": [
    "#-Distant Reading\n",
    "# -Preprocessing\n",
    "#print('Hello, World'.lower())\n",
    "\n",
    "# --------- #\n",
    "#\n",
    "\n",
    "#-Pipeline: Reading and writing data\n",
    "#lowercased = 'Hello, World!'.lower() # input and lowercase\n",
    "#print(lowercased) # print the variable\n",
    "#output = open('hello.txt','w') # create a new document\n",
    "#output.write(lowercased) # write information to file\n",
    "#output.close() # close file\n",
    "\n",
    "# --------- #\n",
    "\n",
    "#-splitting strings into words\n",
    "#print('Hello, World!'.split())\n",
    "from nltk.tokenize import word_tokenize # import the tokenization tool\n",
    "tokens = word_tokenize(data) # tokenize string\n",
    "#print(tokens) # print tokens\n",
    "\n",
    "# --------- #\n",
    "\n",
    "#-Counting words\n",
    "from collections import Counter\n",
    "wordfreq = Counter(tokens)\n",
    "#print(wordfreq)\n",
    "#print(wordfreq['hello'])\n",
    "#print(Counter(tokens).most_common(100))\n",
    "# --------- #\n",
    "\n",
    "#-Transforming a string to an NLTK Text object\n",
    "import nltk\n",
    "hello_nlkt = nltk.text.Text(tokens)\n",
    "print(type(tokens))\n",
    "print(type(hello_nlkt))\n",
    "\n",
    "# -------- #\n",
    "\n",
    "#-Demo other tools: word clouds, keyword extraction, sentiment"
   ]
  },
  {
   "cell_type": "code",
   "execution_count": 40,
   "metadata": {},
   "outputs": [
    {
     "name": "stdout",
     "output_type": "stream",
     "text": [
      "Displaying 4 of 4 matches:\n",
      "                                     ALICE was beginning to get very tired of s\n",
      "at is the use of a book , '' thought Alice , '' without pictures or conversatio\n",
      " _very_ remarkable in that ; nor did Alice think it so _very_ much out of the w\n",
      "looked at it , and then hurried on , Alice started to her feet , for it flashed\n"
     ]
    }
   ],
   "source": [
    "hello_nlkt.concordance('alice')"
   ]
  },
  {
   "cell_type": "code",
   "execution_count": 22,
   "metadata": {},
   "outputs": [
    {
     "name": "stdout",
     "output_type": "stream",
     "text": [
      "*** Introductory Examples for the NLTK Book ***\n",
      "Loading text1, ..., text9 and sent1, ..., sent9\n",
      "Type the name of the text or sentence to view it.\n",
      "Type: 'texts()' or 'sents()' to list the materials.\n",
      "text1: Moby Dick by Herman Melville 1851\n",
      "text2: Sense and Sensibility by Jane Austen 1811\n",
      "text3: The Book of Genesis\n",
      "text4: Inaugural Address Corpus\n",
      "text5: Chat Corpus\n",
      "text6: Monty Python and the Holy Grail\n",
      "text7: Wall Street Journal\n",
      "text8: Personals Corpus\n",
      "text9: The Man Who Was Thursday by G . K . Chesterton 1908\n"
     ]
    }
   ],
   "source": [
    "from nltk.book import *"
   ]
  },
  {
   "cell_type": "code",
   "execution_count": 46,
   "metadata": {},
   "outputs": [
    {
     "name": "stdout",
     "output_type": "stream",
     "text": [
      "war congress government citizens all people life nations states\n",
      "freedom those union liberty power nation them peace law man progress\n",
      "\n",
      "\n",
      "whales it them whale him that crew time this god sea side ship land on\n",
      "back head boats sailors and\n"
     ]
    }
   ],
   "source": [
    "%matplotlib inline\n",
    "#text4.dispersion_plot(['duty','democracy','America','citizen'])\n",
    "text4.similar('men')\n",
    "print('\\n')\n",
    "text1.similar('men')"
   ]
  },
  {
   "cell_type": "markdown",
   "metadata": {},
   "source": [
    "## 1. What is Distant Reading?\n",
    "- Processing content \"without engaging in the reading of the text\". [(J. Drucker)](http://dh101.humanities.ucla.edu/?page_id=62). \n",
    "- (Data) Mining as the new reading. Data as an entry point to culture and politics.\n",
    "- Expose patterns that human readers fail to notice (zoom-techniques).\n",
    "- **\"Hackability of texts\"** ([Ray Siemens, Algorithmic Criticism](https://onlinelibrary.wiley.com/doi/pdf/10.1002/9781405177504.ch26)): Creating new interpretations by radically transforming texts\n",
    "    - Computational tools assist the critic in the unfolding of interpretive possibilities, e.g word counting, KWIC, collocation analysis;\n",
    "    - Algorithmic transformation can provide alternative visions on a text. A computer carries out transformations in a rigidly holistic manner;\n",
    "    - Expanded powers of observation."
   ]
  },
  {
   "cell_type": "markdown",
   "metadata": {},
   "source": [
    "## 1.1. Materials "
   ]
  },
  {
   "cell_type": "markdown",
   "metadata": {},
   "source": [
    "### 1.1.1 Data"
   ]
  },
  {
   "cell_type": "markdown",
   "metadata": {},
   "source": [
    "- [Hillary Clinton emails](https://www.kaggle.com/kaggle/hillary-clinton-emails)\n",
    "- [The Complete Works of William Shakespeare](http://www.gutenberg.org/files/100/100-0.txt)"
   ]
  },
  {
   "cell_type": "markdown",
   "metadata": {},
   "source": [
    "### 1.1.2 Installing the Python tools"
   ]
  },
  {
   "cell_type": "markdown",
   "metadata": {},
   "source": [
    "Many of the examples below are taken from the [NLTK book](http://www.nltk.org/book/) Before we start, we should install the required materials. Run the cells below to install the tools and corpora. This can take a minute..."
   ]
  },
  {
   "cell_type": "code",
   "execution_count": 21,
   "metadata": {},
   "outputs": [
    {
     "name": "stdout",
     "output_type": "stream",
     "text": [
      "[nltk_data] Downloading collection 'book'\n",
      "[nltk_data]    | \n",
      "[nltk_data]    | Downloading package abc to\n",
      "[nltk_data]    |     /Users/kasparbeelen/nltk_data...\n",
      "[nltk_data]    |   Package abc is already up-to-date!\n",
      "[nltk_data]    | Downloading package brown to\n",
      "[nltk_data]    |     /Users/kasparbeelen/nltk_data...\n",
      "[nltk_data]    |   Package brown is already up-to-date!\n",
      "[nltk_data]    | Downloading package chat80 to\n",
      "[nltk_data]    |     /Users/kasparbeelen/nltk_data...\n",
      "[nltk_data]    |   Package chat80 is already up-to-date!\n",
      "[nltk_data]    | Downloading package cmudict to\n",
      "[nltk_data]    |     /Users/kasparbeelen/nltk_data...\n",
      "[nltk_data]    |   Package cmudict is already up-to-date!\n",
      "[nltk_data]    | Downloading package conll2000 to\n",
      "[nltk_data]    |     /Users/kasparbeelen/nltk_data...\n",
      "[nltk_data]    |   Package conll2000 is already up-to-date!\n",
      "[nltk_data]    | Downloading package conll2002 to\n",
      "[nltk_data]    |     /Users/kasparbeelen/nltk_data...\n",
      "[nltk_data]    |   Package conll2002 is already up-to-date!\n",
      "[nltk_data]    | Downloading package dependency_treebank to\n",
      "[nltk_data]    |     /Users/kasparbeelen/nltk_data...\n",
      "[nltk_data]    |   Package dependency_treebank is already up-to-date!\n",
      "[nltk_data]    | Downloading package genesis to\n",
      "[nltk_data]    |     /Users/kasparbeelen/nltk_data...\n",
      "[nltk_data]    |   Package genesis is already up-to-date!\n",
      "[nltk_data]    | Downloading package gutenberg to\n",
      "[nltk_data]    |     /Users/kasparbeelen/nltk_data...\n",
      "[nltk_data]    |   Package gutenberg is already up-to-date!\n",
      "[nltk_data]    | Downloading package ieer to\n",
      "[nltk_data]    |     /Users/kasparbeelen/nltk_data...\n",
      "[nltk_data]    |   Package ieer is already up-to-date!\n",
      "[nltk_data]    | Downloading package inaugural to\n",
      "[nltk_data]    |     /Users/kasparbeelen/nltk_data...\n",
      "[nltk_data]    |   Package inaugural is already up-to-date!\n",
      "[nltk_data]    | Downloading package movie_reviews to\n",
      "[nltk_data]    |     /Users/kasparbeelen/nltk_data...\n",
      "[nltk_data]    |   Package movie_reviews is already up-to-date!\n",
      "[nltk_data]    | Downloading package nps_chat to\n",
      "[nltk_data]    |     /Users/kasparbeelen/nltk_data...\n",
      "[nltk_data]    |   Package nps_chat is already up-to-date!\n",
      "[nltk_data]    | Downloading package names to\n",
      "[nltk_data]    |     /Users/kasparbeelen/nltk_data...\n",
      "[nltk_data]    |   Package names is already up-to-date!\n",
      "[nltk_data]    | Downloading package ppattach to\n",
      "[nltk_data]    |     /Users/kasparbeelen/nltk_data...\n",
      "[nltk_data]    |   Package ppattach is already up-to-date!\n",
      "[nltk_data]    | Downloading package reuters to\n",
      "[nltk_data]    |     /Users/kasparbeelen/nltk_data...\n",
      "[nltk_data]    |   Package reuters is already up-to-date!\n",
      "[nltk_data]    | Downloading package senseval to\n",
      "[nltk_data]    |     /Users/kasparbeelen/nltk_data...\n",
      "[nltk_data]    |   Package senseval is already up-to-date!\n",
      "[nltk_data]    | Downloading package state_union to\n",
      "[nltk_data]    |     /Users/kasparbeelen/nltk_data...\n",
      "[nltk_data]    |   Package state_union is already up-to-date!\n",
      "[nltk_data]    | Downloading package stopwords to\n",
      "[nltk_data]    |     /Users/kasparbeelen/nltk_data...\n",
      "[nltk_data]    |   Package stopwords is already up-to-date!\n",
      "[nltk_data]    | Downloading package swadesh to\n",
      "[nltk_data]    |     /Users/kasparbeelen/nltk_data...\n",
      "[nltk_data]    |   Package swadesh is already up-to-date!\n",
      "[nltk_data]    | Downloading package timit to\n",
      "[nltk_data]    |     /Users/kasparbeelen/nltk_data...\n",
      "[nltk_data]    |   Package timit is already up-to-date!\n",
      "[nltk_data]    | Downloading package treebank to\n",
      "[nltk_data]    |     /Users/kasparbeelen/nltk_data...\n",
      "[nltk_data]    |   Unzipping corpora/treebank.zip.\n",
      "[nltk_data]    | Downloading package toolbox to\n",
      "[nltk_data]    |     /Users/kasparbeelen/nltk_data...\n",
      "[nltk_data]    |   Package toolbox is already up-to-date!\n",
      "[nltk_data]    | Downloading package udhr to\n",
      "[nltk_data]    |     /Users/kasparbeelen/nltk_data...\n",
      "[nltk_data]    |   Package udhr is already up-to-date!\n",
      "[nltk_data]    | Downloading package udhr2 to\n",
      "[nltk_data]    |     /Users/kasparbeelen/nltk_data...\n",
      "[nltk_data]    |   Package udhr2 is already up-to-date!\n",
      "[nltk_data]    | Downloading package unicode_samples to\n",
      "[nltk_data]    |     /Users/kasparbeelen/nltk_data...\n",
      "[nltk_data]    |   Package unicode_samples is already up-to-date!\n",
      "[nltk_data]    | Downloading package webtext to\n",
      "[nltk_data]    |     /Users/kasparbeelen/nltk_data...\n",
      "[nltk_data]    |   Package webtext is already up-to-date!\n",
      "[nltk_data]    | Downloading package wordnet to\n",
      "[nltk_data]    |     /Users/kasparbeelen/nltk_data...\n",
      "[nltk_data]    |   Package wordnet is already up-to-date!\n",
      "[nltk_data]    | Downloading package wordnet_ic to\n",
      "[nltk_data]    |     /Users/kasparbeelen/nltk_data...\n",
      "[nltk_data]    |   Package wordnet_ic is already up-to-date!\n",
      "[nltk_data]    | Downloading package words to\n",
      "[nltk_data]    |     /Users/kasparbeelen/nltk_data...\n",
      "[nltk_data]    |   Package words is already up-to-date!\n",
      "[nltk_data]    | Downloading package maxent_treebank_pos_tagger to\n",
      "[nltk_data]    |     /Users/kasparbeelen/nltk_data...\n",
      "[nltk_data]    |   Package maxent_treebank_pos_tagger is already up-\n",
      "[nltk_data]    |       to-date!\n",
      "[nltk_data]    | Downloading package maxent_ne_chunker to\n",
      "[nltk_data]    |     /Users/kasparbeelen/nltk_data...\n",
      "[nltk_data]    |   Package maxent_ne_chunker is already up-to-date!\n",
      "[nltk_data]    | Downloading package universal_tagset to\n",
      "[nltk_data]    |     /Users/kasparbeelen/nltk_data...\n",
      "[nltk_data]    |   Package universal_tagset is already up-to-date!\n",
      "[nltk_data]    | Downloading package punkt to\n",
      "[nltk_data]    |     /Users/kasparbeelen/nltk_data...\n",
      "[nltk_data]    |   Package punkt is already up-to-date!\n",
      "[nltk_data]    | Downloading package book_grammars to\n",
      "[nltk_data]    |     /Users/kasparbeelen/nltk_data...\n",
      "[nltk_data]    |   Package book_grammars is already up-to-date!\n",
      "[nltk_data]    | Downloading package city_database to\n",
      "[nltk_data]    |     /Users/kasparbeelen/nltk_data...\n",
      "[nltk_data]    |   Package city_database is already up-to-date!\n",
      "[nltk_data]    | Downloading package tagsets to\n",
      "[nltk_data]    |     /Users/kasparbeelen/nltk_data...\n",
      "[nltk_data]    |   Package tagsets is already up-to-date!\n",
      "[nltk_data]    | Downloading package panlex_swadesh to\n",
      "[nltk_data]    |     /Users/kasparbeelen/nltk_data...\n",
      "[nltk_data]    |   Package panlex_swadesh is already up-to-date!\n",
      "[nltk_data]    | Downloading package averaged_perceptron_tagger to\n",
      "[nltk_data]    |     /Users/kasparbeelen/nltk_data...\n",
      "[nltk_data]    |   Package averaged_perceptron_tagger is already up-\n",
      "[nltk_data]    |       to-date!\n",
      "[nltk_data]    | \n",
      "[nltk_data]  Done downloading collection book\n"
     ]
    },
    {
     "data": {
      "text/plain": [
       "True"
      ]
     },
     "execution_count": 21,
     "metadata": {},
     "output_type": "execute_result"
    }
   ],
   "source": [
    "# import NLTK and install a required data\n",
    "import nltk\n",
    "nltk.download('book')"
   ]
  },
  {
   "cell_type": "markdown",
   "metadata": {},
   "source": [
    "Please also run the cells below to install the additional material."
   ]
  },
  {
   "cell_type": "code",
   "execution_count": 49,
   "metadata": {},
   "outputs": [
    {
     "name": "stdout",
     "output_type": "stream",
     "text": [
      "Requirement already satisfied: wordcloud in /Users/kasparbeelen/anaconda3/lib/python3.6/site-packages (1.5.0)\n",
      "Requirement already satisfied: numpy>=1.6.1 in /Users/kasparbeelen/anaconda3/lib/python3.6/site-packages (from wordcloud) (1.14.3)\n",
      "Requirement already satisfied: pillow in /Users/kasparbeelen/anaconda3/lib/python3.6/site-packages (from wordcloud) (4.2.1)\n",
      "Requirement already satisfied: olefile in /Users/kasparbeelen/anaconda3/lib/python3.6/site-packages (from pillow->wordcloud) (0.44)\n"
     ]
    }
   ],
   "source": [
    "# installing a word cloud library\n",
    "!pip install wordcloud"
   ]
  },
  {
   "cell_type": "code",
   "execution_count": 50,
   "metadata": {},
   "outputs": [
    {
     "name": "stdout",
     "output_type": "stream",
     "text": [
      "Requirement already satisfied: python-rake in /Users/kasparbeelen/anaconda3/lib/python3.6/site-packages (1.4.5)\r\n"
     ]
    }
   ],
   "source": [
    "#!pip install rake-nltk\n",
    "!pip install python-rake"
   ]
  },
  {
   "cell_type": "markdown",
   "metadata": {},
   "source": [
    "## 2 Preprocessing\n",
    "\n",
    "In what follows we have a closer look at some of the common steps of the **data mining pipeline**. How to go from **\"raw\"** input to **insights**.\n",
    "\n",
    "The first step is loading data into Python. To open the original data we use the Pandas library (to which we turn later in this course). For now, just run the code and inspect the output.\n",
    "\n",
    "The cell below opens a document that contains the Clinton emails. Clinon's private emails were released by the State Department and contain around 7,000 pages of Clinton's heavily redacted emails (its biggest release of emails to date). The code on the third line prints the first five rows of the Clinton email dataset."
   ]
  },
  {
   "cell_type": "code",
   "execution_count": 47,
   "metadata": {},
   "outputs": [
    {
     "data": {
      "text/html": [
       "<div>\n",
       "<style scoped>\n",
       "    .dataframe tbody tr th:only-of-type {\n",
       "        vertical-align: middle;\n",
       "    }\n",
       "\n",
       "    .dataframe tbody tr th {\n",
       "        vertical-align: top;\n",
       "    }\n",
       "\n",
       "    .dataframe thead th {\n",
       "        text-align: right;\n",
       "    }\n",
       "</style>\n",
       "<table border=\"1\" class=\"dataframe\">\n",
       "  <thead>\n",
       "    <tr style=\"text-align: right;\">\n",
       "      <th></th>\n",
       "      <th>Unnamed: 0</th>\n",
       "      <th>Id</th>\n",
       "      <th>DocNumber</th>\n",
       "      <th>MetadataSubject</th>\n",
       "      <th>MetadataTo</th>\n",
       "      <th>MetadataFrom</th>\n",
       "      <th>SenderPersonId</th>\n",
       "      <th>MetadataDateSent</th>\n",
       "      <th>MetadataDateReleased</th>\n",
       "      <th>MetadataPdfLink</th>\n",
       "      <th>...</th>\n",
       "      <th>ExtractedTo</th>\n",
       "      <th>ExtractedFrom</th>\n",
       "      <th>ExtractedCc</th>\n",
       "      <th>ExtractedDateSent</th>\n",
       "      <th>ExtractedCaseNumber</th>\n",
       "      <th>ExtractedDocNumber</th>\n",
       "      <th>ExtractedDateReleased</th>\n",
       "      <th>ExtractedReleaseInPartOrFull</th>\n",
       "      <th>ExtractedBodyText</th>\n",
       "      <th>RawText</th>\n",
       "    </tr>\n",
       "  </thead>\n",
       "  <tbody>\n",
       "    <tr>\n",
       "      <th>0</th>\n",
       "      <td>1774</td>\n",
       "      <td>1775</td>\n",
       "      <td>C05761872</td>\n",
       "      <td>PPERSPECTIVE ON USAID CONTRACTING MEDHANISMS</td>\n",
       "      <td>NaN</td>\n",
       "      <td>FINCA International</td>\n",
       "      <td>67.0</td>\n",
       "      <td>2008-05-01T04:00:00+00:00</td>\n",
       "      <td>2015-06-30T04:00:00+00:00</td>\n",
       "      <td>DOCUMENTS/HRCAll_1_1-29_JuneWEB/20_21_22/DOC_0...</td>\n",
       "      <td>...</td>\n",
       "      <td>NaN</td>\n",
       "      <td>NaN</td>\n",
       "      <td>NaN</td>\n",
       "      <td>NaN</td>\n",
       "      <td>F-2014-20439</td>\n",
       "      <td>C05761872</td>\n",
       "      <td>06/30/2015</td>\n",
       "      <td>RELEASE IN FULL</td>\n",
       "      <td>NaN</td>\n",
       "      <td>UNCLASSIFIED U.S. Department of State Case No....</td>\n",
       "    </tr>\n",
       "    <tr>\n",
       "      <th>1</th>\n",
       "      <td>3461</td>\n",
       "      <td>3462</td>\n",
       "      <td>C05766073</td>\n",
       "      <td>2009-12-31 LEWIS DEPARTMENT NOTICE</td>\n",
       "      <td>NaN</td>\n",
       "      <td>S/SRGIA</td>\n",
       "      <td>189.0</td>\n",
       "      <td>2009-01-04T05:00:00+00:00</td>\n",
       "      <td>2015-08-31T04:00:00+00:00</td>\n",
       "      <td>DOCUMENTS/HRCEmail_August_Web/IPS-0051-0056/DO...</td>\n",
       "      <td>...</td>\n",
       "      <td>NaN</td>\n",
       "      <td>NaN</td>\n",
       "      <td>NaN</td>\n",
       "      <td>NaN</td>\n",
       "      <td>F-2014-20439</td>\n",
       "      <td>C05766073</td>\n",
       "      <td>08/31/2015</td>\n",
       "      <td>RELEASE IN FULL</td>\n",
       "      <td>NaN</td>\n",
       "      <td>UNCLASSIFIED U.S. Department of State Case No....</td>\n",
       "    </tr>\n",
       "    <tr>\n",
       "      <th>2</th>\n",
       "      <td>3905</td>\n",
       "      <td>3906</td>\n",
       "      <td>C05767009</td>\n",
       "      <td>SECRETARY OF STATE HILLARY RODHAM CLINTON ADDR...</td>\n",
       "      <td>NaN</td>\n",
       "      <td>NaN</td>\n",
       "      <td>NaN</td>\n",
       "      <td>2009-01-06T05:00:00+00:00</td>\n",
       "      <td>2015-08-31T04:00:00+00:00</td>\n",
       "      <td>DOCUMENTS/HRCEmail_August_Web/IPS-0051-0056/DO...</td>\n",
       "      <td>...</td>\n",
       "      <td>Mills, Cheryl D; Toiv, Nora F; Sullivan, Jacob...</td>\n",
       "      <td>Tillemann, Tomicah S</td>\n",
       "      <td>Muscatine, Lissa; S_SpecialAssistants</td>\n",
       "      <td>Monday, December 21, 2009 2:33 PM</td>\n",
       "      <td>F-2014-20439</td>\n",
       "      <td>C05767009</td>\n",
       "      <td>08/31/2015</td>\n",
       "      <td>RELEASE IN PART</td>\n",
       "      <td>Folks,\\nI've attached the latest draft of the ...</td>\n",
       "      <td>UNCLASSIFIED U.S. Department of State Case No....</td>\n",
       "    </tr>\n",
       "    <tr>\n",
       "      <th>3</th>\n",
       "      <td>4300</td>\n",
       "      <td>4301</td>\n",
       "      <td>C05767813</td>\n",
       "      <td>THE SECRETARY'S CALL SHEET FOR NEW YORK CITY M...</td>\n",
       "      <td>NaN</td>\n",
       "      <td>NaN</td>\n",
       "      <td>NaN</td>\n",
       "      <td>2009-01-12T05:00:00+00:00</td>\n",
       "      <td>2015-08-31T04:00:00+00:00</td>\n",
       "      <td>DOCUMENTS/HRCEmail_August_Web/IPS-0057/DOC_0C0...</td>\n",
       "      <td>...</td>\n",
       "      <td>NaN</td>\n",
       "      <td>NaN</td>\n",
       "      <td>NaN</td>\n",
       "      <td>NaN</td>\n",
       "      <td>F-2014-20439</td>\n",
       "      <td>C05767813</td>\n",
       "      <td>08/31/2015</td>\n",
       "      <td>RELEASE IN PART</td>\n",
       "      <td>NaN</td>\n",
       "      <td>UNCLASSIFIED U.S. Department of State Case No....</td>\n",
       "    </tr>\n",
       "    <tr>\n",
       "      <th>4</th>\n",
       "      <td>4393</td>\n",
       "      <td>4394</td>\n",
       "      <td>C05767967</td>\n",
       "      <td>EUROPE: U.S. SHOULD BE WARY OF \"AL QAEDA TRAP\"...</td>\n",
       "      <td>NaN</td>\n",
       "      <td>State</td>\n",
       "      <td>190.0</td>\n",
       "      <td>2009-01-15T05:00:00+00:00</td>\n",
       "      <td>2015-08-31T04:00:00+00:00</td>\n",
       "      <td>DOCUMENTS/HRCEmail_August_Web/IPS-0058/DOC_0C0...</td>\n",
       "      <td>...</td>\n",
       "      <td>NaN</td>\n",
       "      <td>NaN</td>\n",
       "      <td>NaN</td>\n",
       "      <td>NaN</td>\n",
       "      <td>F-2014-20439</td>\n",
       "      <td>C05767967</td>\n",
       "      <td>08/31/2015</td>\n",
       "      <td>RELEASE IN FULL</td>\n",
       "      <td>NaN</td>\n",
       "      <td>UNCLASSIFIED U.S. Department of State Case No....</td>\n",
       "    </tr>\n",
       "  </tbody>\n",
       "</table>\n",
       "<p>5 rows × 23 columns</p>\n",
       "</div>"
      ],
      "text/plain": [
       "   Unnamed: 0    Id  DocNumber  \\\n",
       "0        1774  1775  C05761872   \n",
       "1        3461  3462  C05766073   \n",
       "2        3905  3906  C05767009   \n",
       "3        4300  4301  C05767813   \n",
       "4        4393  4394  C05767967   \n",
       "\n",
       "                                     MetadataSubject MetadataTo  \\\n",
       "0       PPERSPECTIVE ON USAID CONTRACTING MEDHANISMS        NaN   \n",
       "1                 2009-12-31 LEWIS DEPARTMENT NOTICE        NaN   \n",
       "2  SECRETARY OF STATE HILLARY RODHAM CLINTON ADDR...        NaN   \n",
       "3  THE SECRETARY'S CALL SHEET FOR NEW YORK CITY M...        NaN   \n",
       "4  EUROPE: U.S. SHOULD BE WARY OF \"AL QAEDA TRAP\"...        NaN   \n",
       "\n",
       "          MetadataFrom  SenderPersonId           MetadataDateSent  \\\n",
       "0  FINCA International            67.0  2008-05-01T04:00:00+00:00   \n",
       "1              S/SRGIA           189.0  2009-01-04T05:00:00+00:00   \n",
       "2                  NaN             NaN  2009-01-06T05:00:00+00:00   \n",
       "3                  NaN             NaN  2009-01-12T05:00:00+00:00   \n",
       "4                State           190.0  2009-01-15T05:00:00+00:00   \n",
       "\n",
       "        MetadataDateReleased  \\\n",
       "0  2015-06-30T04:00:00+00:00   \n",
       "1  2015-08-31T04:00:00+00:00   \n",
       "2  2015-08-31T04:00:00+00:00   \n",
       "3  2015-08-31T04:00:00+00:00   \n",
       "4  2015-08-31T04:00:00+00:00   \n",
       "\n",
       "                                     MetadataPdfLink  \\\n",
       "0  DOCUMENTS/HRCAll_1_1-29_JuneWEB/20_21_22/DOC_0...   \n",
       "1  DOCUMENTS/HRCEmail_August_Web/IPS-0051-0056/DO...   \n",
       "2  DOCUMENTS/HRCEmail_August_Web/IPS-0051-0056/DO...   \n",
       "3  DOCUMENTS/HRCEmail_August_Web/IPS-0057/DOC_0C0...   \n",
       "4  DOCUMENTS/HRCEmail_August_Web/IPS-0058/DOC_0C0...   \n",
       "\n",
       "                         ...                          \\\n",
       "0                        ...                           \n",
       "1                        ...                           \n",
       "2                        ...                           \n",
       "3                        ...                           \n",
       "4                        ...                           \n",
       "\n",
       "                                         ExtractedTo         ExtractedFrom  \\\n",
       "0                                                NaN                   NaN   \n",
       "1                                                NaN                   NaN   \n",
       "2  Mills, Cheryl D; Toiv, Nora F; Sullivan, Jacob...  Tillemann, Tomicah S   \n",
       "3                                                NaN                   NaN   \n",
       "4                                                NaN                   NaN   \n",
       "\n",
       "                             ExtractedCc                  ExtractedDateSent  \\\n",
       "0                                    NaN                                NaN   \n",
       "1                                    NaN                                NaN   \n",
       "2  Muscatine, Lissa; S_SpecialAssistants  Monday, December 21, 2009 2:33 PM   \n",
       "3                                    NaN                                NaN   \n",
       "4                                    NaN                                NaN   \n",
       "\n",
       "  ExtractedCaseNumber ExtractedDocNumber ExtractedDateReleased  \\\n",
       "0        F-2014-20439          C05761872            06/30/2015   \n",
       "1        F-2014-20439          C05766073            08/31/2015   \n",
       "2        F-2014-20439          C05767009            08/31/2015   \n",
       "3        F-2014-20439          C05767813            08/31/2015   \n",
       "4        F-2014-20439          C05767967            08/31/2015   \n",
       "\n",
       "  ExtractedReleaseInPartOrFull  \\\n",
       "0              RELEASE IN FULL   \n",
       "1              RELEASE IN FULL   \n",
       "2              RELEASE IN PART   \n",
       "3              RELEASE IN PART   \n",
       "4              RELEASE IN FULL   \n",
       "\n",
       "                                   ExtractedBodyText  \\\n",
       "0                                                NaN   \n",
       "1                                                NaN   \n",
       "2  Folks,\\nI've attached the latest draft of the ...   \n",
       "3                                                NaN   \n",
       "4                                                NaN   \n",
       "\n",
       "                                             RawText  \n",
       "0  UNCLASSIFIED U.S. Department of State Case No....  \n",
       "1  UNCLASSIFIED U.S. Department of State Case No....  \n",
       "2  UNCLASSIFIED U.S. Department of State Case No....  \n",
       "3  UNCLASSIFIED U.S. Department of State Case No....  \n",
       "4  UNCLASSIFIED U.S. Department of State Case No....  \n",
       "\n",
       "[5 rows x 23 columns]"
      ]
     },
     "execution_count": 47,
     "metadata": {},
     "output_type": "execute_result"
    }
   ],
   "source": [
    "import pandas\n",
    "hillary = pandas.read_csv('./data/Emails_sorted.csv',header=0)\n",
    "hillary.head(5)"
   ]
  },
  {
   "cell_type": "markdown",
   "metadata": {},
   "source": [
    "### --Exercise--\n",
    "\n",
    "Read carefully the output above. What information does each column contain? Do you understand the structure of the table?"
   ]
  },
  {
   "cell_type": "markdown",
   "metadata": {},
   "source": [
    "For the purpose of this Lab session, we only look at the `ExtractedBodyText`. We save it in a separate document.\n",
    "\n",
    "We paste together all information in the `ExtractedBodyText` column using `.join` (you can ignore the syntax for now, just remember that `output_data` now contains all extracted body text.)."
   ]
  },
  {
   "cell_type": "code",
   "execution_count": 48,
   "metadata": {
    "collapsed": true
   },
   "outputs": [],
   "source": [
    "output_data = '\\n'.join(hillary[~hillary.ExtractedBodyText.isnull()].ExtractedBodyText)"
   ]
  },
  {
   "cell_type": "markdown",
   "metadata": {},
   "source": [
    "Then we write the data to a file with the name 'hillary.txt'. The syntax is similar to reading data from disk, but notice that:\n",
    "1. We change the second argument (of the `open` function)from 'r' to 'w' (from read to write). \n",
    "2. Instead of `.read()`  we apply the `.write()` method. The data we want to write is given as an argument to (i.e. put between parenthesis) to the `.write` method.\n",
    "3. After storing our information, we close the file."
   ]
  },
  {
   "cell_type": "code",
   "execution_count": null,
   "metadata": {
    "collapsed": true
   },
   "outputs": [],
   "source": [
    "import codecs\n",
    "output_document = codecs.open('hillary.txt','w',encoding='utf-8') # create a document where to write the information\n",
    "output_document.write(output_data) # write output_data to the output_document\n",
    "output_document.close() # close the output document"
   ]
  },
  {
   "cell_type": "markdown",
   "metadata": {},
   "source": [
    "### --Exercise--\n",
    "\n",
    "1. Create a new variable `my_sent` and assign it to string value;\n",
    "2. Open a document with the name `my_doc.txt`;\n",
    "3. Write `my_sent` to `my_doc.txt`;\n",
    "4. Close the file."
   ]
  },
  {
   "cell_type": "code",
   "execution_count": null,
   "metadata": {
    "collapsed": true
   },
   "outputs": [],
   "source": [
    "# insert your code here"
   ]
  },
  {
   "cell_type": "markdown",
   "metadata": {},
   "source": [
    "### --Exercise--\n",
    "\n",
    "Open the file 'shakespeare.txt', which is stored in the 'data' folder (i.e. use './data/shakespeare.txt' as path). \n",
    "\n",
    "Assign the complete works to a variable with the name `shakespeare_complete`."
   ]
  },
  {
   "cell_type": "code",
   "execution_count": null,
   "metadata": {
    "collapsed": true
   },
   "outputs": [],
   "source": [
    "# insert your code here"
   ]
  },
  {
   "cell_type": "markdown",
   "metadata": {},
   "source": [
    "### 2.1 Lowercasing"
   ]
  },
  {
   "cell_type": "markdown",
   "metadata": {
    "collapsed": true
   },
   "source": [
    "Performing analytics to text objecs, often boils down to counting--counting words, to be precise. But what constitutes a word? Which distinctions do we want to retain? "
   ]
  },
  {
   "cell_type": "markdown",
   "metadata": {},
   "source": [
    "### --Exercise--"
   ]
  },
  {
   "cell_type": "markdown",
   "metadata": {},
   "source": [
    "Consider the following text fragment and compare the output of the `Counter` function. \n",
    "- How to interpret the output of `Counter()`?\n",
    "- What is the effect of the `.split()` method?\n",
    "- How does lowercasing change the results?"
   ]
  },
  {
   "cell_type": "code",
   "execution_count": null,
   "metadata": {
    "collapsed": true
   },
   "outputs": [],
   "source": [
    "from collections import Counter # we need to import Counter explicitly, it is not part of Python's standard library\n",
    "text = 'Hello hello I exchanged an Apple for an apple' # assign the example text to text"
   ]
  },
  {
   "cell_type": "code",
   "execution_count": null,
   "metadata": {
    "collapsed": true
   },
   "outputs": [],
   "source": [
    "Counter(text)"
   ]
  },
  {
   "cell_type": "code",
   "execution_count": null,
   "metadata": {
    "collapsed": true
   },
   "outputs": [],
   "source": [
    "Counter(text.lower())"
   ]
  },
  {
   "cell_type": "code",
   "execution_count": null,
   "metadata": {
    "collapsed": true
   },
   "outputs": [],
   "source": [
    "Counter(text.lower().split())"
   ]
  },
  {
   "cell_type": "code",
   "execution_count": null,
   "metadata": {
    "collapsed": true
   },
   "outputs": [],
   "source": [
    "Counter(text.split())"
   ]
  },
  {
   "cell_type": "markdown",
   "metadata": {},
   "source": [
    "As you see, without lowercasing we keep the distinction between the company and the fruit, but also count Hello and hello as two different words, even though treating them as the same would make more sense. \n",
    "\n",
    "There is no 'right' or 'wrong' in this case; it ultimately depends on your research question, but be aware the subtle choices have an effect on your results."
   ]
  },
  {
   "cell_type": "markdown",
   "metadata": {},
   "source": [
    "### 2.2 Word Tokenization"
   ]
  },
  {
   "cell_type": "markdown",
   "metadata": {},
   "source": [
    "As alluded to earlier, 'tokens' are the minimal units for the machine to process. We often simply equate **tokens with words**, which, in turn, were defined as everything between two whitespaces--but the relationship is more complex. "
   ]
  },
  {
   "cell_type": "markdown",
   "metadata": {},
   "source": [
    "### --Exercise--\n",
    "\n",
    "The simplest way to count tokens is to treat everything between white spaces as one token. To test this approach, first lowercase and then `.split()` the sentence below. After these steps, count the tokens (using the `Counter` function from above). "
   ]
  },
  {
   "cell_type": "code",
   "execution_count": null,
   "metadata": {
    "collapsed": true
   },
   "outputs": [],
   "source": [
    "from collections import Counter\n",
    "sentence =  \"On the 12th of August, 18-- (just three days after my tenth birthday, when I had been given such wonderful presents), I was awakened at seveno’clock in the morning by Karl Ivanitch slapping the wall close to my head with a fly-flap made of sugar paper and a stick.\"\n",
    "# insert your code here"
   ]
  },
  {
   "cell_type": "markdown",
   "metadata": {},
   "source": [
    "Clearly, such a rudimentary method does not suffice. Luckily, NLTK comes with many ready-made tools for splitting strings neatly into tokens. Again we have to import some external tools, in this case the `word_tokenize` function. We apply it to the first sentence of Tolstoy's \"Childhood\"."
   ]
  },
  {
   "cell_type": "code",
   "execution_count": null,
   "metadata": {
    "collapsed": true
   },
   "outputs": [],
   "source": [
    "from nltk.tokenize import word_tokenize"
   ]
  },
  {
   "cell_type": "code",
   "execution_count": null,
   "metadata": {
    "collapsed": true
   },
   "outputs": [],
   "source": [
    "sentence = \"On the 12th of August, 18-- (just three days after my tenth birthday, when I had been given such wonderful presents), I was awakened at seveno’clock in the morning by Karl Ivanitch slapping the wall close to my head with a fly-flap made of sugar paper and a stick.\""
   ]
  },
  {
   "cell_type": "code",
   "execution_count": null,
   "metadata": {
    "collapsed": true
   },
   "outputs": [],
   "source": [
    "print(word_tokenize(sentence))"
   ]
  },
  {
   "cell_type": "markdown",
   "metadata": {},
   "source": [
    "There is not one \"correct\" method for tokenizing texts. Therefore, NLTK comes with many different tokenizers. What are their differences?"
   ]
  },
  {
   "cell_type": "code",
   "execution_count": null,
   "metadata": {
    "collapsed": true
   },
   "outputs": [],
   "source": [
    "from nltk.tokenize import regexp_tokenize, wordpunct_tokenize"
   ]
  },
  {
   "cell_type": "code",
   "execution_count": null,
   "metadata": {
    "collapsed": true
   },
   "outputs": [],
   "source": [
    "print(sentence.split())"
   ]
  },
  {
   "cell_type": "code",
   "execution_count": null,
   "metadata": {
    "collapsed": true
   },
   "outputs": [],
   "source": [
    "print(regexp_tokenize(sentence, pattern='\\w+'))"
   ]
  },
  {
   "cell_type": "code",
   "execution_count": null,
   "metadata": {
    "collapsed": true
   },
   "outputs": [],
   "source": [
    "print(wordpunct_tokenize(sentence))"
   ]
  },
  {
   "cell_type": "markdown",
   "metadata": {},
   "source": [
    "### --Exercise--\n",
    "\n",
    "- How many characters does the complete works of Shakespeare contain?\n",
    "- How many tokens?\n",
    "- Does the type of tokenization change the tokens count? \n",
    "\n",
    "**HINT** Compare `.split()` to `word_tokenize()`. Use `len` to count the number of tokens.\n"
   ]
  },
  {
   "cell_type": "code",
   "execution_count": null,
   "metadata": {
    "collapsed": true
   },
   "outputs": [],
   "source": [
    "# insert your code here"
   ]
  },
  {
   "cell_type": "markdown",
   "metadata": {},
   "source": [
    "### 2.3 Sentence Tokenization"
   ]
  },
  {
   "cell_type": "markdown",
   "metadata": {},
   "source": [
    "Often it is useful to process a text by sentence, when we want, for example, inquire the use of different words within their meaningful context. "
   ]
  },
  {
   "cell_type": "code",
   "execution_count": null,
   "metadata": {
    "collapsed": true
   },
   "outputs": [],
   "source": [
    "from nltk.tokenize import sent_tokenize\n",
    "book = 'This is a sentence. And this another one!'\n",
    "sent_tokenize(book)"
   ]
  },
  {
   "cell_type": "markdown",
   "metadata": {},
   "source": [
    "### --Exercise-- \n",
    "How many sentences does Alice in Wonderland contain (approximately)?"
   ]
  },
  {
   "cell_type": "code",
   "execution_count": null,
   "metadata": {
    "collapsed": true
   },
   "outputs": [],
   "source": [
    "# open alice.txt\n",
    "# split the text by sentence, assign the splitted copy to alice_sent_split\n",
    "# apply len to alice_sent_split"
   ]
  },
  {
   "cell_type": "markdown",
   "metadata": {},
   "source": [
    "### Tokens vs Types"
   ]
  },
  {
   "cell_type": "markdown",
   "metadata": {},
   "source": [
    "A **token** is a technical name for a **sequence of characters** — such as hairy, his, or :) — that we want to **treat as a group** (or **unit** of our analysis). When we count the number of tokens in a text, say, the phrase \"to be or not to be\", we are counting occurrences of these sequences. Thus, in our example phrase there are two occurrences of \"to\", two of \"be\", and one each of \"or\" and \"not\". "
   ]
  },
  {
   "cell_type": "code",
   "execution_count": null,
   "metadata": {
    "collapsed": true
   },
   "outputs": [],
   "source": [
    "sentence = 'to be or not to be'\n",
    "tokens = sentence.split()\n",
    "print(tokens,len(tokens))"
   ]
  },
  {
   "cell_type": "markdown",
   "metadata": {},
   "source": [
    "But there are only **four distinct** vocabulary items in this phrase. In Python we can use the `set()` function to count the number of **unique** words also called *types*"
   ]
  },
  {
   "cell_type": "code",
   "execution_count": null,
   "metadata": {
    "collapsed": true
   },
   "outputs": [],
   "source": [
    "types = set(tokens)\n",
    "print(types,len(types))"
   ]
  },
  {
   "cell_type": "markdown",
   "metadata": {},
   "source": [
    "To measure complexity of a text, we can compute the [type-token ratio](https://www.sltinfo.com/type-token-ratio/):"
   ]
  },
  {
   "cell_type": "code",
   "execution_count": null,
   "metadata": {
    "collapsed": true
   },
   "outputs": [],
   "source": [
    "round((len(types)/len(tokens)*100),1)"
   ]
  },
  {
   "cell_type": "markdown",
   "metadata": {},
   "source": [
    "### --Exercise--\n",
    "\n",
    "We can apply this to larger texts!\n",
    "\n",
    "- How many tokens do the complete works of William Shakespeare contain?\n",
    "- How many **distinct words** (types) does the book of Genesis contain? (In other words, how large is, approximately, his vocabulary?\n",
    "- Can you print the type-token ratio?"
   ]
  },
  {
   "cell_type": "code",
   "execution_count": null,
   "metadata": {
    "collapsed": true
   },
   "outputs": [],
   "source": [
    "# insert your code here"
   ]
  },
  {
   "cell_type": "markdown",
   "metadata": {},
   "source": [
    "## 2.4 Counting Word Frequencies"
   ]
  },
  {
   "cell_type": "markdown",
   "metadata": {},
   "source": [
    "By tokenizing a text, we convert the string to a **list** in which each element is approximately one word. The code below gives an overview of the individual steps:"
   ]
  },
  {
   "cell_type": "code",
   "execution_count": null,
   "metadata": {
    "collapsed": true
   },
   "outputs": [],
   "source": [
    "from nltk.tokenize import word_tokenize # import stuff\n",
    "from collections import Counter # import stuff\n",
    "shakespeare = open('./data/shakespeare.txt','r').read() # open and read the document\n",
    "shakespeare_lower = shakespeare.lower() # lowercase the text, store it in shakespeare_lower\n",
    "shakespeare_tokens = word_tokenize(shakespeare_lower) # tokenize the text, store it in shakespeare_tokens\n",
    "tokenfrequency = Counter(shakespeare_tokens) # creates a word-to-frequency mapping"
   ]
  },
  {
   "cell_type": "markdown",
   "metadata": {},
   "source": [
    "The variable `tokenfrequency` now holds a `Counter()`  object which **maps words to their frequencies**."
   ]
  },
  {
   "cell_type": "code",
   "execution_count": null,
   "metadata": {
    "collapsed": true
   },
   "outputs": [],
   "source": [
    "tokenfrequency"
   ]
  },
  {
   "cell_type": "markdown",
   "metadata": {},
   "source": [
    "Later in this course--when we have a closer look at Python dictionaries--we inspect such mappings more thoroughly. For now, just note that the `Counter()` object allows you to access the frequency of an individual word. Please note we use **square brackets** here, not the parenthesis as usually."
   ]
  },
  {
   "cell_type": "code",
   "execution_count": null,
   "metadata": {
    "collapsed": true
   },
   "outputs": [],
   "source": [
    "tokenfrequency['you']"
   ]
  },
  {
   "cell_type": "markdown",
   "metadata": {},
   "source": [
    "## --Exercise--\n",
    "\n",
    "- What is the frequency of 'hamlet'?\n",
    "- What is the frequency of 'spamlet'? "
   ]
  },
  {
   "cell_type": "code",
   "execution_count": null,
   "metadata": {
    "collapsed": true
   },
   "outputs": [],
   "source": [
    "# insert your code here"
   ]
  },
  {
   "cell_type": "markdown",
   "metadata": {
    "collapsed": true
   },
   "source": [
    "We can also sort the mapping by frequency and plot the *n* most common tokens."
   ]
  },
  {
   "cell_type": "code",
   "execution_count": null,
   "metadata": {
    "collapsed": true
   },
   "outputs": [],
   "source": [
    "tokenfrequency.most_common(25)"
   ]
  },
  {
   "cell_type": "markdown",
   "metadata": {},
   "source": [
    "Notice that you can perform all these steps in just one line, but the code becomes more difficult to read."
   ]
  },
  {
   "cell_type": "code",
   "execution_count": null,
   "metadata": {
    "collapsed": true
   },
   "outputs": [],
   "source": [
    "Counter(word_tokenize(open('./data/shakespeare.txt','r').read().lower())).most_common(25)"
   ]
  },
  {
   "cell_type": "markdown",
   "metadata": {},
   "source": [
    "### --Exercise--\n",
    "\n",
    "- Compare the most frequent words in Shakespeare to Alice in Wonderland. What are the differences and similarities?"
   ]
  },
  {
   "cell_type": "code",
   "execution_count": null,
   "metadata": {
    "collapsed": true
   },
   "outputs": [],
   "source": [
    "# insert your code here"
   ]
  },
  {
   "cell_type": "markdown",
   "metadata": {
    "collapsed": true
   },
   "source": [
    "## 3. Exploring data with Natural Language ToolKit (NLTK) "
   ]
  },
  {
   "cell_type": "markdown",
   "metadata": {},
   "source": [
    "## 3.1 From lists to NLTK Text objects"
   ]
  },
  {
   "cell_type": "markdown",
   "metadata": {},
   "source": [
    "So, far we covered just the most basic operation: counting words. Even though word frequencies can give us some insight into the content of a file, it remains a crude analytical instrument. \n",
    "\n",
    "NLTK comes with more refined tools to analyse corpora from a distance and extract lexical patterns."
   ]
  },
  {
   "cell_type": "markdown",
   "metadata": {},
   "source": [
    "In the Digital Humanities, we often treat texts as *raw data*, as input for our programs. Interpretations arise from abstraction, transformation and decontextualization, for example, by counting word frequencies, analysing specific segments of a corpus (i.e. Key Word In Context, or KWIC analysis) or searching for patterns (i.e. collocations). \n",
    "\n",
    "NLTK provides several tools for both **processing** data and **interpreting** texts."
   ]
  },
  {
   "cell_type": "markdown",
   "metadata": {},
   "source": [
    "Let's see what corpora NLTK provides, but first, we have to import everything!"
   ]
  },
  {
   "cell_type": "code",
   "execution_count": null,
   "metadata": {
    "collapsed": true
   },
   "outputs": [],
   "source": [
    "import nltk"
   ]
  },
  {
   "cell_type": "markdown",
   "metadata": {
    "collapsed": true
   },
   "source": [
    "NLTK comes with some preprocessed texts:"
   ]
  },
  {
   "cell_type": "code",
   "execution_count": null,
   "metadata": {
    "collapsed": true
   },
   "outputs": [],
   "source": [
    "from nltk.book import *"
   ]
  },
  {
   "cell_type": "markdown",
   "metadata": {},
   "source": [
    "`from nltk.book import *` says as much as \"from NLTK's book module, load all items.\" This loads all the books that are preprocessed for further analysis.\n",
    "\n",
    "Below we use these books occasionally--for demonstration purposes. We focus on the data we processed ourselves."
   ]
  },
  {
   "cell_type": "markdown",
   "metadata": {},
   "source": [
    "From the above output, we discover that NLTK includes the script of 'Monty Python and the Holy Grail'. When we `print` text6 we (surprisingly) can not see the actual content yet."
   ]
  },
  {
   "cell_type": "code",
   "execution_count": null,
   "metadata": {
    "collapsed": true
   },
   "outputs": [],
   "source": [
    "print(text6)"
   ]
  },
  {
   "cell_type": "markdown",
   "metadata": {},
   "source": [
    "As a standard procedure, we should uncover the data type of the object we are dealing with."
   ]
  },
  {
   "cell_type": "code",
   "execution_count": null,
   "metadata": {
    "collapsed": true
   },
   "outputs": [],
   "source": [
    "print(type(text6))"
   ]
  },
  {
   "cell_type": "markdown",
   "metadata": {},
   "source": [
    "... and inspect which functionalities are attached to this object:"
   ]
  },
  {
   "cell_type": "code",
   "execution_count": null,
   "metadata": {
    "collapsed": true
   },
   "outputs": [],
   "source": [
    "dir(text6)"
   ]
  },
  {
   "cell_type": "markdown",
   "metadata": {},
   "source": [
    "We can do a lot with this `Text` object. To view all the methods attached to this object, use Python's help function. You can ignore all the methods that start with a double underscore and scroll down."
   ]
  },
  {
   "cell_type": "code",
   "execution_count": null,
   "metadata": {
    "collapsed": true
   },
   "outputs": [],
   "source": [
    "help(nltk.text.Text)"
   ]
  },
  {
   "cell_type": "markdown",
   "metadata": {},
   "source": [
    "The list above shows the tools that NLTK provides you for analysing your text data. "
   ]
  },
  {
   "cell_type": "code",
   "execution_count": null,
   "metadata": {
    "collapsed": true
   },
   "outputs": [],
   "source": [
    "text6.concordance('shrubbery')"
   ]
  },
  {
   "cell_type": "markdown",
   "metadata": {},
   "source": [
    "To convert a text object to an NLTK text object, we need to tokenize the text first."
   ]
  },
  {
   "cell_type": "code",
   "execution_count": null,
   "metadata": {
    "collapsed": true
   },
   "outputs": [],
   "source": [
    "hillary_text = open('hillary.txt','r').read() # open the text\n",
    "hillary_text_lower = hillary_text.lower() # lowercase the text\n",
    "hillary_tokens = word_tokenize(hillary_text_lower) # tokenize the text"
   ]
  },
  {
   "cell_type": "code",
   "execution_count": null,
   "metadata": {
    "collapsed": true
   },
   "outputs": [],
   "source": [
    "hillary_tokens[:100] # print the first hundred tokens"
   ]
  },
  {
   "cell_type": "markdown",
   "metadata": {},
   "source": [
    "The line below does not return any output, but here is where the magic happens, i.e. where we **transform a simple list of tokens to an NLTK Text object** (why this is useful will be explained below). "
   ]
  },
  {
   "cell_type": "code",
   "execution_count": null,
   "metadata": {
    "collapsed": true
   },
   "outputs": [],
   "source": [
    "hillary_nltk = nltk.text.Text(hillary_tokens)"
   ]
  },
  {
   "cell_type": "markdown",
   "metadata": {},
   "source": [
    "Below we inspect some of the methods attached to the `Text` object."
   ]
  },
  {
   "cell_type": "markdown",
   "metadata": {},
   "source": [
    "### --Exercise--\n",
    "\n",
    "- Convert the complete works of Shakespeare to an NLTK text object."
   ]
  },
  {
   "cell_type": "code",
   "execution_count": null,
   "metadata": {
    "collapsed": true
   },
   "outputs": [],
   "source": [
    "# insert your code here"
   ]
  },
  {
   "cell_type": "markdown",
   "metadata": {},
   "source": [
    "## 3.2 NLTK Tools"
   ]
  },
  {
   "cell_type": "markdown",
   "metadata": {},
   "source": [
    "###  3.2.1. `.concordance()`"
   ]
  },
  {
   "cell_type": "markdown",
   "metadata": {},
   "source": [
    "An oft-used technique for distant reading is **Keyword In Context Analysis** in which we centre a whole corpus on a specific word of interest. NLTK comes with a `concordance()` method that allows you to do just this. "
   ]
  },
  {
   "cell_type": "code",
   "execution_count": null,
   "metadata": {
    "collapsed": true
   },
   "outputs": [],
   "source": [
    "help(nltk.text.Text.concordance)"
   ]
  },
  {
   "cell_type": "markdown",
   "metadata": {},
   "source": [
    "With concordance, we can easily look up what was said about Trump in Hillary's emails."
   ]
  },
  {
   "cell_type": "code",
   "execution_count": null,
   "metadata": {
    "collapsed": true
   },
   "outputs": [],
   "source": [
    "hillary_nltk.concordance('trump')"
   ]
  },
  {
   "cell_type": "markdown",
   "metadata": {},
   "source": [
    "Or, given that Clinten was Secretary of State, what is said about Iran?\n",
    "\n",
    "### -- Exercise--\n",
    "- Center corpus on \"iran\" and \"obama\""
   ]
  },
  {
   "cell_type": "code",
   "execution_count": null,
   "metadata": {
    "collapsed": true
   },
   "outputs": [],
   "source": [
    "# add your code here"
   ]
  },
  {
   "cell_type": "markdown",
   "metadata": {},
   "source": [
    "As you noticed, there are more hits for \"Iran\" than shown in the list above. We can specify the number of hits to print with the `lines` argument."
   ]
  },
  {
   "cell_type": "code",
   "execution_count": null,
   "metadata": {
    "collapsed": true
   },
   "outputs": [],
   "source": [
    "hillary_nltk.concordance('obama',lines=100)"
   ]
  },
  {
   "cell_type": "markdown",
   "metadata": {},
   "source": [
    "The context--the words surrounding the queried term--is often too short to understand what is actually going on. We can expand the number of characters by tweaking the `width` argument."
   ]
  },
  {
   "cell_type": "markdown",
   "metadata": {
    "collapsed": true
   },
   "source": [
    "### Exercise\n",
    "\n",
    "In the Clinton emails:\n",
    "- search for `bush`;\n",
    "- print the first 50 results;\n",
    "- expand the context to 150 characters;"
   ]
  },
  {
   "cell_type": "code",
   "execution_count": null,
   "metadata": {
    "collapsed": true
   },
   "outputs": [],
   "source": [
    "# insert your code here"
   ]
  },
  {
   "cell_type": "markdown",
   "metadata": {},
   "source": [
    "### --Exercise--\n",
    "\n",
    "Inspect the use of the word \"monstrous\" in Melville's Moby Dick:"
   ]
  },
  {
   "cell_type": "code",
   "execution_count": null,
   "metadata": {
    "collapsed": true
   },
   "outputs": [],
   "source": [
    "text1.concordance('monstrous')"
   ]
  },
  {
   "cell_type": "markdown",
   "metadata": {},
   "source": [
    "### 3.2.2. `.similar()`"
   ]
  },
  {
   "cell_type": "markdown",
   "metadata": {},
   "source": [
    "`concordance()` shows words in their context. For example, we saw that monstrous occurred in contexts such as the \\_\\_\\_ pictures and a \\_\\_\\_ size. What other words appear in a **similar context**? We can find out by applying the `.similar` method to an NLTK text and enter the word you want analyse within parentheses (don't forget to put a string between quotation marks):"
   ]
  },
  {
   "cell_type": "code",
   "execution_count": null,
   "metadata": {
    "collapsed": true
   },
   "outputs": [],
   "source": [
    "help(text1.similar)"
   ]
  },
  {
   "cell_type": "markdown",
   "metadata": {},
   "source": [
    "`.similarity()` returns a list of semantically related words from one text (based on the intuition that words which share common contexts are related) "
   ]
  },
  {
   "cell_type": "code",
   "execution_count": null,
   "metadata": {
    "collapsed": true
   },
   "outputs": [],
   "source": [
    "#text1: Moby Dick by Herman Melville 1851\n",
    "text1.similar(\"monstrous\")\n",
    "print('\\n')\n",
    "#text2: Sense and Sensibility by Jane Austen 1811\n",
    "text2.similar(\"monstrous\")"
   ]
  },
  {
   "cell_type": "markdown",
   "metadata": {},
   "source": [
    "Observe that we get **different results for different texts**. Austen uses this word quite differently compared to Melville; for her, monstrous has positive connotations and sometimes functions as an intensifier like the word very."
   ]
  },
  {
   "cell_type": "markdown",
   "metadata": {
    "collapsed": true
   },
   "source": [
    "`.similar()` helps us to understand how words are used, by proposing similar items. Let's have a look at Shakespeare.\n",
    "\n",
    "Below we convert a string object to NLTK Text object. The syntax should look familiar, no?"
   ]
  },
  {
   "cell_type": "code",
   "execution_count": null,
   "metadata": {
    "collapsed": true
   },
   "outputs": [],
   "source": [
    "shakespeare = open('./data/shakespeare.txt','r').read()\n",
    "shakespeare = shakespeare.lower()\n",
    "shakespeare_tokens = word_tokenize(shakespeare)\n",
    "shakespeare_nltk = nltk.text.Text(shakespeare_tokens)"
   ]
  },
  {
   "cell_type": "markdown",
   "metadata": {},
   "source": [
    "### --Exercises--\n",
    "\n",
    "Using Shakespeare's complete works, which words are similar to:\n",
    "- jew\n",
    "- summer\n",
    "- terrible"
   ]
  },
  {
   "cell_type": "code",
   "execution_count": null,
   "metadata": {
    "collapsed": true
   },
   "outputs": [],
   "source": [
    "# insert your code here"
   ]
  },
  {
   "cell_type": "markdown",
   "metadata": {},
   "source": [
    "### 3.2.3. `.common_contexts()`"
   ]
  },
  {
   "cell_type": "code",
   "execution_count": null,
   "metadata": {
    "collapsed": true
   },
   "outputs": [],
   "source": [
    "help(nltk.text.Text.common_contexts)"
   ]
  },
  {
   "cell_type": "markdown",
   "metadata": {},
   "source": [
    "The method `common_contexts` allows us to **examine just the contexts** that are shared by two or more words, such as monstrous and very. We have to enclose these words by square brackets as well as parentheses, and separate them with a comma.\n",
    "\n",
    "To understand why 'terrible' and 'noble' are similar--which contexts they share--run the cell below:"
   ]
  },
  {
   "cell_type": "code",
   "execution_count": null,
   "metadata": {
    "collapsed": true
   },
   "outputs": [],
   "source": [
    "shakespeare_nltk.common_contexts([\"terrible\", \"noble\"])"
   ]
  },
  {
   "cell_type": "markdown",
   "metadata": {},
   "source": [
    "### --Exercise--\n",
    "\n",
    "- Find the contexts shared by 'lovely' and 'sweet'"
   ]
  },
  {
   "cell_type": "code",
   "execution_count": null,
   "metadata": {
    "collapsed": true
   },
   "outputs": [],
   "source": [
    "# insert your code here"
   ]
  },
  {
   "cell_type": "markdown",
   "metadata": {},
   "source": [
    "### 3.2.4. `.dispersion_plot()`"
   ]
  },
  {
   "cell_type": "markdown",
   "metadata": {},
   "source": [
    "We can also determine the **location** of a word in the text: how many words from the beginning it appears. This **positional information** can be displayed using a dispersion plot. Each **stripe** represents an instance of a word, and each **row** represents the entire text. Below we see some striking patterns of word usage over the last 220 years (in an artificial text constructed by joining the texts of the Inaugural Address Corpus end-to-end). You can produce this plot as shown below. You might like to try more words (e.g., liberty, constitution), and different texts. Can you predict the dispersion of a word before you view it? As before, take care to get the quotes, commas, brackets and parentheses exactly right."
   ]
  },
  {
   "cell_type": "code",
   "execution_count": null,
   "metadata": {
    "collapsed": true
   },
   "outputs": [],
   "source": [
    "text4.dispersion_plot([\"citizens\", \"democracy\", \"freedom\", \"duties\", \"America\"])"
   ]
  },
  {
   "cell_type": "markdown",
   "metadata": {},
   "source": [
    "### --Exercise--\n",
    "\n",
    "- Find the thematic shifts in the Clinton emails using the dispersion plot, see example below.\n",
    "- Apply the same technique to the Shakespeare corpus."
   ]
  },
  {
   "cell_type": "code",
   "execution_count": null,
   "metadata": {
    "collapsed": true
   },
   "outputs": [],
   "source": [
    "%matplotlib inline\n",
    "hillary_nltk.dispersion_plot(['iran','israel','palestine','netherlands','belgium'])"
   ]
  },
  {
   "cell_type": "code",
   "execution_count": null,
   "metadata": {
    "collapsed": true
   },
   "outputs": [],
   "source": [
    "# insert your code here"
   ]
  },
  {
   "cell_type": "code",
   "execution_count": null,
   "metadata": {
    "collapsed": true
   },
   "outputs": [],
   "source": [
    "# insert your code here"
   ]
  },
  {
   "cell_type": "markdown",
   "metadata": {},
   "source": [
    "### 3.2.5. `.collocations()`"
   ]
  },
  {
   "cell_type": "markdown",
   "metadata": {},
   "source": [
    "A collocation is a **sequence of words that occur together unusually often**. Thus *red wine* is a collocation, whereas *the wine* is not. A characteristic of collocations is that they are resistant to substitution with words that have similar senses; for example, maroon wine sounds definitely odd."
   ]
  },
  {
   "cell_type": "markdown",
   "metadata": {
    "collapsed": true
   },
   "source": [
    "### -- Exercise--\n",
    "\n",
    "- Inspect the collocation documentation using Python in-built `help` function.\n",
    "- Apply `.collocations` to some of the Shakespeare's collected works. Assess the outcomes and its use for research.\n",
    "- change the `window_size` argument, and see how it affects the output."
   ]
  },
  {
   "cell_type": "code",
   "execution_count": null,
   "metadata": {
    "collapsed": true
   },
   "outputs": [],
   "source": [
    "# insert your code here"
   ]
  },
  {
   "cell_type": "markdown",
   "metadata": {},
   "source": [
    "# 4. Additional Tools"
   ]
  },
  {
   "cell_type": "markdown",
   "metadata": {},
   "source": [
    "## 4.1. Word Clouds"
   ]
  },
  {
   "cell_type": "code",
   "execution_count": 27,
   "metadata": {
    "collapsed": true
   },
   "outputs": [],
   "source": [
    "from wordcloud import WordCloud\n",
    "import matplotlib.pyplot as plt\n",
    "\n",
    "def plot_cloud(text):\n",
    "    \"\"\"\n",
    "    Simple function that takes a string as argument and \n",
    "    plot the standard word cloud.\n",
    "    \"\"\"\n",
    "    # Generate a word cloud image\n",
    "    wordcloud = WordCloud(width=600,height=400,scale=2,max_words=100,mode='RGBA').generate(text)\n",
    "\n",
    "    # Display the generated image:\n",
    "    # the matplotlib way:\n",
    "    \n",
    "    plt.imshow(wordcloud, interpolation='bilinear')\n",
    "    plt.axis(\"off\")\n",
    "    plt.show()\n"
   ]
  },
  {
   "cell_type": "code",
   "execution_count": 51,
   "metadata": {},
   "outputs": [
    {
     "data": {
      "image/png": "[encoded data removed]",
      "text/plain": [
       "<matplotlib.figure.Figure at 0x126de24a8>"
      ]
     },
     "metadata": {},
     "output_type": "display_data"
    }
   ],
   "source": [
    "# First run the preceding code cell, otherwise plotting the word cloud won't work\n",
    "text = open('data/alice.txt').read()\n",
    "plot_cloud(text)"
   ]
  },
  {
   "cell_type": "markdown",
   "metadata": {},
   "source": [
    "## 4.2. Keyword Extraction with [RAKE](https://pdfs.semanticscholar.org/5a58/00deb6461b3d022c8465e5286908de9f8d4e.pdf)"
   ]
  },
  {
   "cell_type": "code",
   "execution_count": 52,
   "metadata": {},
   "outputs": [
    {
     "data": {
      "text/plain": [
       "[('beau--ootiful soo--oop', 14.285714285714285),\n",
       " ('bread-and-butter', 8.049062049062048),\n",
       " ('mock turtle', 4.455026455026456),\n",
       " ('mary ann', 4.333333333333333),\n",
       " ('good deal', 4.314814814814815),\n",
       " ('white rabbit', 4.282967032967033),\n",
       " ('march hare', 4.163636363636364),\n",
       " ('yer honour', 4.0),\n",
       " ('golden key', 3.9206349206349205),\n",
       " ('alice replied', 3.837142857142857),\n",
       " ('play croquet', 3.725),\n",
       " ('offended tone', 3.602777777777778),\n",
       " ('great hurry', 3.462121212121212),\n",
       " ('feet high', 3.450657894736842),\n",
       " ('cheshire cat', 3.432330827067669),\n",
       " ('crowded round', 3.421602787456446),\n",
       " ('beautiful soup', 3.394230769230769),\n",
       " ('alice began', 3.3728571428571428),\n",
       " ('jury-box', 3.280952380952381),\n",
       " ('alice ventured', 3.2800000000000002),\n",
       " ('thought alice', 3.0772222222222223),\n",
       " ('alice thought', 3.0772222222222223),\n",
       " ('cried alice', 2.98),\n",
       " ('alice looked', 2.926808510638298),\n",
       " ('large', 2.161290322580645),\n",
       " ('good', 2.1481481481481484),\n",
       " ('hastily', 2.0625),\n",
       " ('people', 2.0),\n",
       " ('poor', 2.0),\n",
       " ('cats', 2.0),\n",
       " ('rabbit', 1.9615384615384615),\n",
       " ('great', 1.9166666666666667),\n",
       " ('began', 1.8928571428571428),\n",
       " ('till', 1.8636363636363635),\n",
       " ('tone', 1.825),\n",
       " ('gloves', 1.8),\n",
       " ('turned', 1.7647058823529411),\n",
       " ('voice', 1.7291666666666667),\n",
       " ('curious', 1.7142857142857142),\n",
       " ('round', 1.7073170731707317),\n",
       " ('asked', 1.7058823529411764),\n",
       " ('opened', 1.7),\n",
       " ('party', 1.7),\n",
       " ('long', 1.696969696969697),\n",
       " ('half', 1.68),\n",
       " ('slowly', 1.6666666666666667),\n",
       " ('dinah', 1.6666666666666667),\n",
       " ('eat', 1.6666666666666667),\n",
       " ('repeated', 1.6666666666666667),\n",
       " ('child', 1.6666666666666667),\n",
       " ('anxiously', 1.6428571428571428),\n",
       " ('book', 1.6363636363636365),\n",
       " ('read', 1.6363636363636365),\n",
       " ('tea', 1.631578947368421),\n",
       " ('dream', 1.625),\n",
       " ('bit', 1.625),\n",
       " ('_i_', 1.625),\n",
       " ('eagerly', 1.625),\n",
       " ('opportunity', 1.625),\n",
       " ('arm', 1.625),\n",
       " ('appeared', 1.625),\n",
       " ('running', 1.625),\n",
       " ('ground', 1.625),\n",
       " ('soup', 1.625),\n",
       " ('gardeners', 1.625),\n",
       " ('grow', 1.6153846153846154),\n",
       " ('children', 1.6),\n",
       " ('waited', 1.6),\n",
       " ('birds', 1.6),\n",
       " ('thought', 1.5972222222222223),\n",
       " ('_that_', 1.5833333333333333),\n",
       " ('queer', 1.5833333333333333),\n",
       " ('drew', 1.5714285714285714),\n",
       " ('generally', 1.5714285714285714),\n",
       " ('asleep', 1.5714285714285714),\n",
       " ('silence', 1.5625),\n",
       " ('mad', 1.5625),\n",
       " ('left', 1.5555555555555556),\n",
       " ('things', 1.5483870967741935),\n",
       " ('close', 1.5454545454545454),\n",
       " ('hurry', 1.5454545454545454),\n",
       " ('eyes', 1.5384615384615385),\n",
       " ('dodo', 1.5384615384615385),\n",
       " ('doesn', 1.5294117647058822),\n",
       " ('nonsense', 1.5),\n",
       " ('violently', 1.5),\n",
       " ('make', 1.5),\n",
       " ('noticed', 1.5),\n",
       " ('hand', 1.5),\n",
       " ('table', 1.5),\n",
       " ('remember', 1.5),\n",
       " ('cried', 1.5),\n",
       " ('live', 1.5),\n",
       " ('change', 1.5),\n",
       " ('called', 1.5),\n",
       " ('stood', 1.5),\n",
       " ('mine', 1.5),\n",
       " ('day', 1.5),\n",
       " ('footman', 1.5),\n",
       " ('alice', 1.48),\n",
       " ('speak', 1.4666666666666666),\n",
       " ('suddenly', 1.4615384615384615),\n",
       " ('pig', 1.4545454545454546),\n",
       " ('growing', 1.4545454545454546),\n",
       " ('looked', 1.446808510638298),\n",
       " ('adventures', 1.4444444444444444),\n",
       " ('hall', 1.4444444444444444),\n",
       " ('hard', 1.4444444444444444),\n",
       " ('shook', 1.4444444444444444),\n",
       " ('arms', 1.4285714285714286),\n",
       " ('breath', 1.4285714285714286),\n",
       " ('open', 1.4285714285714286),\n",
       " ('eye', 1.4285714285714286),\n",
       " ('lory', 1.4285714285714286),\n",
       " ('fetch', 1.4285714285714286),\n",
       " ('_what_', 1.4285714285714286),\n",
       " ('silent', 1.4285714285714286),\n",
       " ('treacle', 1.4285714285714286),\n",
       " ('draw', 1.4285714285714286),\n",
       " ('pack', 1.4285714285714286),\n",
       " ('hurried', 1.4),\n",
       " ('coming', 1.4),\n",
       " ('lessons', 1.4),\n",
       " ('small', 1.4),\n",
       " ('garden', 1.4),\n",
       " ('thing', 1.3877551020408163),\n",
       " ('jury', 1.380952380952381),\n",
       " ('making', 1.375),\n",
       " ('lying', 1.375),\n",
       " ('work', 1.375),\n",
       " ('sat', 1.375),\n",
       " ('puzzled', 1.375),\n",
       " ('nose', 1.375),\n",
       " ('added', 1.3703703703703705),\n",
       " ('tis', 1.3333333333333333),\n",
       " ('fancy', 1.3333333333333333),\n",
       " ('stupid', 1.3333333333333333),\n",
       " ('word', 1.3333333333333333),\n",
       " ('knew', 1.3333333333333333),\n",
       " ('hair', 1.3333333333333333),\n",
       " ('grin', 1.3333333333333333),\n",
       " ('sentence', 1.3333333333333333),\n",
       " ('_you_', 1.3333333333333333),\n",
       " ('give', 1.3333333333333333),\n",
       " ('stay', 1.3333333333333333),\n",
       " ('loud', 1.3333333333333333),\n",
       " ('shouted', 1.3333333333333333),\n",
       " ('understand', 1.3333333333333333),\n",
       " ('sneezing', 1.3333333333333333),\n",
       " ('soldiers', 1.3333333333333333),\n",
       " ('executioner', 1.3333333333333333),\n",
       " ('school', 1.3333333333333333),\n",
       " ('write', 1.3333333333333333),\n",
       " ('back', 1.325),\n",
       " ('made', 1.3225806451612903),\n",
       " ('felt', 1.3181818181818181),\n",
       " ('pool', 1.3076923076923077),\n",
       " ('cook', 1.3076923076923077),\n",
       " ('dormouse', 1.3076923076923077),\n",
       " ('sitting', 1.3),\n",
       " ('foot', 1.3),\n",
       " ('story', 1.3),\n",
       " ('witness', 1.3),\n",
       " ('head', 1.2962962962962963),\n",
       " ('air', 1.2941176470588236),\n",
       " ('question', 1.2941176470588236),\n",
       " ('cat', 1.2894736842105263),\n",
       " ('mouse', 1.288888888888889),\n",
       " ('mouse--', 1.288888888888889),\n",
       " ('tale', 1.2857142857142858),\n",
       " ('hear', 1.2857142857142858),\n",
       " ('manage', 1.2857142857142858),\n",
       " ('neck', 1.2857142857142858),\n",
       " ('is--', 1.2857142857142858),\n",
       " ('learn', 1.2857142857142858),\n",
       " ('chin', 1.2857142857142858),\n",
       " ('continued', 1.2857142857142858),\n",
       " ('_not_', 1.2857142857142858),\n",
       " ('baby', 1.2857142857142858),\n",
       " ('feeling', 1.2857142857142858),\n",
       " ('hatter', 1.2857142857142858),\n",
       " ('lobsters', 1.2857142857142858),\n",
       " ('evidence', 1.2857142857142858),\n",
       " ('put', 1.28125),\n",
       " ('queen', 1.275),\n",
       " ('makes', 1.2727272727272727),\n",
       " ('ran', 1.2666666666666666),\n",
       " ('door', 1.2666666666666666),\n",
       " ('gave', 1.2666666666666666),\n",
       " ('feet', 1.263157894736842),\n",
       " ('feel', 1.25),\n",
       " ('idea', 1.25),\n",
       " ('wondering', 1.25),\n",
       " ('tears', 1.25),\n",
       " ('mushroom', 1.25),\n",
       " ('pepper', 1.25),\n",
       " ('dear', 1.2413793103448276),\n",
       " ('caterpillar', 1.2413793103448276),\n",
       " ('words', 1.2380952380952381),\n",
       " ('king', 1.2380952380952381),\n",
       " ('sort', 1.2352941176470589),\n",
       " ('time', 1.2222222222222223),\n",
       " ('sister', 1.2222222222222223),\n",
       " ('watch', 1.2222222222222223),\n",
       " ('waiting', 1.2222222222222223),\n",
       " ('tail', 1.2222222222222223),\n",
       " ('dry', 1.2222222222222223),\n",
       " ('reason', 1.2222222222222223),\n",
       " ('passed', 1.2),\n",
       " ('end', 1.2),\n",
       " ('walk', 1.2),\n",
       " ('matter', 1.2),\n",
       " ('bottle', 1.2),\n",
       " ('hold', 1.2),\n",
       " ('cut', 1.2),\n",
       " ('nervous', 1.2),\n",
       " ('altogether', 1.2),\n",
       " ('set', 1.2),\n",
       " ('heard', 1.2),\n",
       " ('usual', 1.2),\n",
       " ('wrong', 1.2),\n",
       " ('them--', 1.2),\n",
       " ('notice', 1.2),\n",
       " ('walking', 1.2),\n",
       " ('finish', 1.2),\n",
       " ('taking', 1.2),\n",
       " ('mouth', 1.2),\n",
       " ('hookah', 1.2),\n",
       " ('sky', 1.2),\n",
       " ('faces', 1.2),\n",
       " ('thinking', 1.1818181818181819),\n",
       " ('gryphon', 1.1818181818181819),\n",
       " ('talking', 1.1764705882352942),\n",
       " ('wonderland', 1.1666666666666667),\n",
       " ('home', 1.1666666666666667),\n",
       " ('written', 1.1666666666666667),\n",
       " ('afraid', 1.1666666666666667),\n",
       " ('roof', 1.1666666666666667),\n",
       " ('forgotten', 1.1666666666666667),\n",
       " ('shoes', 1.1666666666666667),\n",
       " ('stop', 1.1666666666666667),\n",
       " ('times', 1.1666666666666667),\n",
       " ('hands', 1.1666666666666667),\n",
       " ('pardon', 1.1666666666666667),\n",
       " ('chorus', 1.1666666666666667),\n",
       " ('pocket', 1.1666666666666667),\n",
       " ('chimney', 1.1666666666666667),\n",
       " ('sleep', 1.1666666666666667),\n",
       " ('sing', 1.1666666666666667),\n",
       " ('turn', 1.1538461538461537),\n",
       " ('size', 1.1538461538461537),\n",
       " ('game', 1.1538461538461537),\n",
       " ('dance', 1.1538461538461537),\n",
       " ('fall', 1.1428571428571428),\n",
       " ('begun', 1.1428571428571428),\n",
       " ('repeat', 1.1428571428571428),\n",
       " ('talk', 1.1428571428571428),\n",
       " ('sit', 1.1428571428571428),\n",
       " ('grown', 1.1428571428571428),\n",
       " ('business', 1.1428571428571428),\n",
       " ('sir', 1.1428571428571428),\n",
       " ('isn', 1.1428571428571428),\n",
       " ('pleased', 1.1428571428571428),\n",
       " ('song', 1.1428571428571428),\n",
       " ('duchess', 1.1395348837209303),\n",
       " ('moment', 1.1290322580645162),\n",
       " ('beg', 1.125),\n",
       " ('tired', 1.125),\n",
       " ('happen', 1.125),\n",
       " ('ready', 1.125),\n",
       " ('place', 1.125),\n",
       " ('wood', 1.125),\n",
       " ('whiting', 1.125),\n",
       " ('face', 1.1176470588235294),\n",
       " ('spoke', 1.1176470588235294),\n",
       " ('don', 1.1166666666666667),\n",
       " ('house', 1.1111111111111112),\n",
       " ('answer', 1.1111111111111112),\n",
       " ('conversation', 1.1111111111111112),\n",
       " ('call', 1.1111111111111112),\n",
       " ('tarts', 1.1),\n",
       " ('heads', 1.1),\n",
       " ('fan', 1.1),\n",
       " ('explain', 1.1),\n",
       " ('walked', 1.1),\n",
       " ('find', 1.0952380952380953),\n",
       " ('rest', 1.0909090909090908),\n",
       " ('knave', 1.0909090909090908),\n",
       " ('mind', 1.0909090909090908),\n",
       " ('finished', 1.0909090909090908),\n",
       " ('minutes', 1.0909090909090908),\n",
       " ('wouldn', 1.0833333333333333),\n",
       " ('life', 1.0833333333333333),\n",
       " ('turning', 1.0833333333333333),\n",
       " ('pigeon', 1.0833333333333333),\n",
       " ('majesty', 1.0833333333333333),\n",
       " ('changed', 1.0769230769230769),\n",
       " ('begin', 1.0714285714285714),\n",
       " ('beginning', 1.0714285714285714),\n",
       " ('[illustration]', 1.0714285714285714),\n",
       " ('didn', 1.0714285714285714),\n",
       " ('[illustration', 1.0714285714285714),\n",
       " ('sea', 1.0714285714285714),\n",
       " ('suppose', 1.0714285714285714),\n",
       " ('won', 1.0689655172413792),\n",
       " ('found', 1.064516129032258),\n",
       " ('bill', 1.0588235294117647),\n",
       " ('taste', 1.0),\n",
       " ('minute', 1.0),\n",
       " ('true', 1.0),\n",
       " ('subject', 1.0),\n",
       " ('_is_', 1.0),\n",
       " ('panting', 1.0),\n",
       " ('carried', 1.0),\n",
       " ('quarrelling', 1.0),\n",
       " ('players', 1.0),\n",
       " ('shouting', 1.0),\n",
       " ('trouble', 1.0),\n",
       " ('late', 1.0),\n",
       " ('natural', 1.0),\n",
       " ('world', 1.0),\n",
       " ('sides', 1.0),\n",
       " ('stairs', 1.0),\n",
       " ('top', 1.0),\n",
       " ('listen', 1.0),\n",
       " ('glad', 1.0),\n",
       " ('_was_', 1.0),\n",
       " ('couldn', 1.0),\n",
       " ('sight', 1.0),\n",
       " ('ears', 1.0),\n",
       " ('side', 1.0),\n",
       " ('middle', 1.0),\n",
       " ('alas', 1.0),\n",
       " ('rate', 1.0),\n",
       " ('shoulders', 1.0),\n",
       " ('shut', 1.0),\n",
       " ('happened', 1.0),\n",
       " ('drink', 1.0),\n",
       " ('fact', 1.0),\n",
       " ('leave', 1.0),\n",
       " ('remembered', 1.0),\n",
       " ('surprised', 1.0),\n",
       " ('kind', 1.0),\n",
       " ('pair', 1.0),\n",
       " ('boots', 1.0),\n",
       " ('distance', 1.0),\n",
       " ('morning', 1.0),\n",
       " ('mabel', 1.0),\n",
       " ('capital', 1.0),\n",
       " ('_can_', 1.0),\n",
       " ('case', 1.0),\n",
       " ('number', 1.0),\n",
       " ('hadn', 1.0),\n",
       " ('speaking', 1.0),\n",
       " ('history', 1.0),\n",
       " ('animals', 1.0),\n",
       " ('duck', 1.0),\n",
       " ('uncomfortable', 1.0),\n",
       " ('frowning', 1.0),\n",
       " ('politely', 1.0),\n",
       " ('meaning', 1.0),\n",
       " ('prizes', 1.0),\n",
       " ('pointing', 1.0),\n",
       " ('dare', 1.0),\n",
       " ('confusion', 1.0),\n",
       " ('trial', 1.0),\n",
       " ('judge', 1.0),\n",
       " ('reply', 1.0),\n",
       " ('executed', 1.0),\n",
       " ('swim', 1.0),\n",
       " ('room', 1.0),\n",
       " ('window', 1.0),\n",
       " ('chance', 1.0),\n",
       " ('wasn', 1.0),\n",
       " ('ordered', 1.0),\n",
       " ('shouldn', 1.0),\n",
       " ('shriek', 1.0),\n",
       " ('_think_', 1.0),\n",
       " ('fellow', 1.0),\n",
       " ('doubt', 1.0),\n",
       " ('lizard', 1.0),\n",
       " ('held', 1.0),\n",
       " ('trees', 1.0),\n",
       " ('stick', 1.0),\n",
       " ('haven', 1.0),\n",
       " ('youth', 1.0),\n",
       " ('timidly', 1.0),\n",
       " ('serpent', 1.0),\n",
       " ('screamed', 1.0),\n",
       " ('lives', 1.0),\n",
       " ('told', 1.0),\n",
       " ('remark', 1.0),\n",
       " ('ear', 1.0),\n",
       " ('wow', 1.0),\n",
       " ('verse', 1.0),\n",
       " ('creature', 1.0),\n",
       " ('waving', 1.0),\n",
       " ('crumbs', 1.0),\n",
       " ('shoulder', 1.0),\n",
       " ('clock', 1.0),\n",
       " ('know----', 1.0),\n",
       " ('hearts', 1.0),\n",
       " ('twinkle', 1.0),\n",
       " ('bottom', 1.0),\n",
       " ('knee', 1.0),\n",
       " ('flamingo', 1.0),\n",
       " ('hedgehog', 1.0),\n",
       " ('moral', 1.0),\n",
       " ('join', 1.0),\n",
       " ('court', 1.0),\n",
       " ('jurymen', 1.0),\n",
       " ('slates', 1.0),\n",
       " ('officers', 1.0),\n",
       " ('verses', 1.0),\n",
       " ('----', 0)]"
      ]
     },
     "execution_count": 52,
     "metadata": {},
     "output_type": "execute_result"
    }
   ],
   "source": [
    "import RAKE\n",
    "hillary_text = open('./data/alice.txt').read()\n",
    "# https://github.com/fabianvf/python-rake\n",
    "rake = RAKE.Rake(RAKE.SmartStopList())\n",
    "rake.run(hillary_text, minCharacters = 3, maxWords = 3, minFrequency = 4)"
   ]
  },
  {
   "cell_type": "markdown",
   "metadata": {},
   "source": [
    "## Epilogue: Emotion Mining"
   ]
  },
  {
   "cell_type": "markdown",
   "metadata": {},
   "source": [
    "## Vader Sentiment Analyzer\n",
    "The variable paragraphs counts is not the most interesting one, let's have a look at the semtiment values of these mentions of immigration.\n",
    "\n",
    "For this we use **VADER**.\n",
    "\n",
    "[from Github](https://github.com/cjhutto/vaderSentiment): VADER (Valence Aware Dictionary and sEntiment Reasoner) is a lexicon and rule-based sentiment analysis tool.\n",
    "\n",
    "VADER uses a lexicon (a mapping of words to sentiment values, e.g bad=-1.0, good=+1.0) to compute the sentiment (positivity or negativity) of a text."
   ]
  },
  {
   "cell_type": "code",
   "execution_count": 53,
   "metadata": {},
   "outputs": [
    {
     "name": "stdout",
     "output_type": "stream",
     "text": [
      "[nltk_data] Downloading package vader_lexicon to\n",
      "[nltk_data]     /Users/kasparbeelen/nltk_data...\n",
      "[nltk_data]   Package vader_lexicon is already up-to-date!\n"
     ]
    },
    {
     "data": {
      "text/plain": [
       "True"
      ]
     },
     "execution_count": 53,
     "metadata": {},
     "output_type": "execute_result"
    }
   ],
   "source": [
    "# we need to install the vader lexicon first\n",
    "import nltk\n",
    "nltk.download('vader_lexicon')"
   ]
  },
  {
   "cell_type": "markdown",
   "metadata": {},
   "source": [
    "Now load the VADER Sentiment analyzer"
   ]
  },
  {
   "cell_type": "code",
   "execution_count": 54,
   "metadata": {
    "collapsed": true
   },
   "outputs": [],
   "source": [
    "from nltk.sentiment import vader\n",
    "analyzer = vader.SentimentIntensityAnalyzer()"
   ]
  },
  {
   "cell_type": "markdown",
   "metadata": {},
   "source": [
    "Below you can test VADER yourself by changing the value of the ``text`` variable, and running the code block. \n",
    "\n",
    "Can you trick the system? Not very easy isn't it?!"
   ]
  },
  {
   "cell_type": "code",
   "execution_count": 57,
   "metadata": {},
   "outputs": [
    {
     "name": "stdout",
     "output_type": "stream",
     "text": [
      "{'neg': 0.024, 'neu': 0.852, 'pos': 0.124, 'compound': 0.8748}\n"
     ]
    }
   ],
   "source": [
    "text = \"\"\"That was not quite as awful for Theresa May as the “nothing has changed” general election presser where she had to rewrite her election manifesto after the “dementia tax” self-destructed, but it was not far off. She looked tetchy, defensive and weakened. Number 10 weren’t expecting a breakthrough at Salzburg, but they were hoping that the EU27 would be sufficiently diplomatic, or evasive, to keep the Chequers option in play. The comments we’ve had in the last hour (eg, see 2.20pm, 2.23pm and 2.49pm) indicate that her hopes have been dashed, and that all that’s left for Chequers (at least, its core principles) is for someone to perform the last rites.\"\"\"\n",
    "sentiments_analysis = analyzer.polarity_scores(text)\n",
    "print(sentiments_analysis)"
   ]
  },
  {
   "cell_type": "markdown",
   "metadata": {},
   "source": [
    "We are interested here in the compound, the combination of positive and negative sentiments. We can select this by putting the string 'compound' between square brackets"
   ]
  },
  {
   "cell_type": "code",
   "execution_count": null,
   "metadata": {
    "collapsed": true
   },
   "outputs": [],
   "source": [
    "sentiments_analysis['compound']"
   ]
  }
 ],
 "metadata": {
  "kernelspec": {
   "display_name": "Python 3",
   "language": "python",
   "name": "python3"
  },
  "language_info": {
   "codemirror_mode": {
    "name": "ipython",
    "version": 3
   },
   "file_extension": ".py",
   "mimetype": "text/x-python",
   "name": "python",
   "nbconvert_exporter": "python",
   "pygments_lexer": "ipython3",
   "version": "3.6.3"
  }
 },
 "nbformat": 4,
 "nbformat_minor": 2
}
